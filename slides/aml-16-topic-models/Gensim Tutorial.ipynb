{
 "cells": [
  {
   "cell_type": "markdown",
   "metadata": {},
   "source": [
    "# Gensim Tutorial – A Complete Beginners Guide"
   ]
  },
  {
   "cell_type": "markdown",
   "metadata": {},
   "source": [
    "#From\n",
    "https://www.machinelearningplus.com/nlp/gensim-tutorial/"
   ]
  },
  {
   "cell_type": "markdown",
   "metadata": {},
   "source": [
    "## 3. How to create a Dictionary from a list of sentences?"
   ]
  },
  {
   "cell_type": "code",
   "execution_count": 3,
   "metadata": {},
   "outputs": [],
   "source": [
    "import gensim\n",
    "from gensim import corpora\n",
    "from pprint import pprint"
   ]
  },
  {
   "cell_type": "code",
   "execution_count": 4,
   "metadata": {},
   "outputs": [],
   "source": [
    "# How to create a dictionary from a list of sentences?\n",
    "documents = [\"The Saudis are preparing a report that will acknowledge that\", \n",
    "             \"Saudi journalist Jamal Khashoggi's death was the result of an\", \n",
    "             \"interrogation that went wrong, one that was intended to lead\", \n",
    "             \"to his abduction from Turkey, according to two sources.\"]\n",
    "\n",
    "documents_2 = [\"One source says the report will likely conclude that\", \n",
    "                \"the operation was carried out without clearance and\", \n",
    "                \"transparency and that those involved will be held\", \n",
    "                \"responsible. One of the sources acknowledged that the\", \n",
    "                \"report is still being prepared and cautioned that\", \n",
    "                \"things could change.\"]"
   ]
  },
  {
   "cell_type": "code",
   "execution_count": 5,
   "metadata": {},
   "outputs": [
    {
     "name": "stdout",
     "output_type": "stream",
     "text": [
      "Dictionary(33 unique tokens: ['Saudis', 'The', 'a', 'acknowledge', 'are']...)\n"
     ]
    }
   ],
   "source": [
    "# Tokenize(split) the sentences into words\n",
    "texts = [[text for text in doc.split()] for doc in documents]\n",
    "\n",
    "# Create dictionary\n",
    "dictionary = corpora.Dictionary(texts)\n",
    "\n",
    "# Get information about the dictionary\n",
    "print(dictionary)\n",
    "#> Dictionary(33 unique tokens: ['Saudis', 'The', 'a', 'acknowledge', 'are']...)"
   ]
  },
  {
   "cell_type": "code",
   "execution_count": 8,
   "metadata": {
    "scrolled": true
   },
   "outputs": [
    {
     "name": "stdout",
     "output_type": "stream",
     "text": [
      "{'Saudis': 0, 'The': 1, 'a': 2, 'acknowledge': 3, 'are': 4, 'preparing': 5, 'report': 6, 'that': 7, 'will': 8, 'Jamal': 9, \"Khashoggi's\": 10, 'Saudi': 11, 'an': 12, 'death': 13, 'journalist': 14, 'of': 15, 'result': 16, 'the': 17, 'was': 18, 'intended': 19, 'interrogation': 20, 'lead': 21, 'one': 22, 'to': 23, 'went': 24, 'wrong,': 25, 'Turkey,': 26, 'abduction': 27, 'according': 28, 'from': 29, 'his': 30, 'sources.': 31, 'two': 32}\n"
     ]
    }
   ],
   "source": [
    "# Show the word to id map\n",
    "print(dictionary.token2id)"
   ]
  },
  {
   "cell_type": "code",
   "execution_count": 9,
   "metadata": {},
   "outputs": [
    {
     "name": "stdout",
     "output_type": "stream",
     "text": [
      "{'Jamal': 9,\n",
      " \"Khashoggi's\": 10,\n",
      " 'Saudi': 11,\n",
      " 'Saudis': 0,\n",
      " 'The': 1,\n",
      " 'Turkey,': 26,\n",
      " 'a': 2,\n",
      " 'abduction': 27,\n",
      " 'according': 28,\n",
      " 'acknowledge': 3,\n",
      " 'an': 12,\n",
      " 'are': 4,\n",
      " 'death': 13,\n",
      " 'from': 29,\n",
      " 'his': 30,\n",
      " 'intended': 19,\n",
      " 'interrogation': 20,\n",
      " 'journalist': 14,\n",
      " 'lead': 21,\n",
      " 'of': 15,\n",
      " 'one': 22,\n",
      " 'preparing': 5,\n",
      " 'report': 6,\n",
      " 'result': 16,\n",
      " 'sources.': 31,\n",
      " 'that': 7,\n",
      " 'the': 17,\n",
      " 'to': 23,\n",
      " 'two': 32,\n",
      " 'was': 18,\n",
      " 'went': 24,\n",
      " 'will': 8,\n",
      " 'wrong,': 25}\n"
     ]
    }
   ],
   "source": [
    "# Better way to print\n",
    "pprint(dictionary.token2id)"
   ]
  },
  {
   "cell_type": "code",
   "execution_count": 10,
   "metadata": {},
   "outputs": [
    {
     "name": "stdout",
     "output_type": "stream",
     "text": [
      "Dictionary(48 unique tokens: ['Saudis', 'The', 'a', 'acknowledge', 'are']...)\n",
      "{'Saudis': 0, 'The': 1, 'a': 2, 'acknowledge': 3, 'are': 4, 'preparing': 5, 'report': 6, 'that': 7, 'will': 8, 'Jamal': 9, \"Khashoggi's\": 10, 'Saudi': 11, 'an': 12, 'death': 13, 'journalist': 14, 'of': 15, 'result': 16, 'the': 17, 'was': 18, 'intended': 19, 'interrogation': 20, 'lead': 21, 'one': 22, 'to': 23, 'went': 24, 'wrong,': 25, 'Turkey,': 26, 'abduction': 27, 'according': 28, 'from': 29, 'his': 30, 'sources.': 31, 'two': 32, 'graph': 33, 'in': 34, 'intersection': 35, 'paths': 36, 'trees': 37, 'Graph': 38, 'IV': 39, 'Widths': 40, 'and': 41, 'minors': 42, 'ordering': 43, 'quasi': 44, 'well': 45, 'A': 46, 'survey': 47}\n"
     ]
    }
   ],
   "source": [
    "documents_2 = [\"The intersection graph of paths in trees\",\n",
    "               \"Graph minors IV Widths of trees and well quasi ordering\",\n",
    "               \"Graph minors A survey\"]\n",
    "\n",
    "texts_2 = [[text for text in doc.split()] for doc in documents_2]\n",
    "\n",
    "dictionary.add_documents(texts_2)\n",
    "\n",
    "\n",
    "# If you check now, the dictionary should have been updated with the new words (tokens).\n",
    "print(dictionary)\n",
    "#> Dictionary(45 unique tokens: ['Human', 'abc', 'applications', 'computer', 'for']...)\n",
    "\n",
    "print(dictionary.token2id)\n",
    "#> {'Human': 0, 'abc': 1, 'applications': 2, 'computer': 3, 'for': 4, 'interface': 5, \n",
    "#>  'lab': 6, 'machine': 7, 'A': 8, 'of': 9, 'opinion': 10, 'response': 11, 'survey': 12, \n",
    "#>  'system': 13, 'time': 14, 'user': 15, 'EPS': 16, 'The': 17, 'management': 18, \n",
    "#>  'System': 19, 'and': 20, 'engineering': 21, 'human': 22, 'testing': 23, 'Relation': 24, \n",
    "#>  'error': 25, 'measurement': 26, 'perceived': 27, 'to': 28, 'binary': 29, 'generation': 30, \n",
    "#>  'random': 31, 'trees': 32, 'unordered': 33, 'graph': 34, 'in': 35, 'intersection': 36, \n",
    "#>  'paths': 37, 'Graph': 38, 'IV': 39, 'Widths': 40, 'minors': 41, 'ordering': 42, \n",
    "#>  'quasi': 43, 'well': 44}"
   ]
  },
  {
   "cell_type": "markdown",
   "metadata": {},
   "source": [
    "## 4. How to create a Dictionary from one or more text files?"
   ]
  },
  {
   "cell_type": "code",
   "execution_count": 11,
   "metadata": {},
   "outputs": [
    {
     "data": {
      "text/plain": [
       "{'army': 0,\n",
       " 'china': 1,\n",
       " 'chinese': 2,\n",
       " 'force': 3,\n",
       " 'liberation': 4,\n",
       " 'of': 5,\n",
       " 'people': 6,\n",
       " 'recently': 7,\n",
       " 'recruited': 8,\n",
       " 'rocket': 9,\n",
       " 'tank': 10,\n",
       " 'technicians': 11,\n",
       " 'the': 12,\n",
       " 'think': 13,\n",
       " 'companies': 14,\n",
       " 'daily': 15,\n",
       " 'from': 16,\n",
       " 'on': 17,\n",
       " 'pla': 18,\n",
       " 'private': 19,\n",
       " 'reported': 20,\n",
       " 'saturday': 21,\n",
       " 'and': 22,\n",
       " 'appointment': 23,\n",
       " 'at': 24,\n",
       " 'ceremony': 25,\n",
       " 'experts': 26,\n",
       " 'founding': 27,\n",
       " 'hao': 28,\n",
       " 'letters': 29,\n",
       " 'other': 30,\n",
       " 'received': 31,\n",
       " 'science': 32,\n",
       " 'technology': 33,\n",
       " 'zhang': 34,\n",
       " 'according': 35,\n",
       " 'by': 36,\n",
       " 'defense': 37,\n",
       " 'national': 38,\n",
       " 'panel': 39,\n",
       " 'published': 40,\n",
       " 'report': 41,\n",
       " 'to': 42,\n",
       " 'as': 43,\n",
       " 'fellow': 44,\n",
       " 'his': 45,\n",
       " 'honored': 46,\n",
       " 'will': 47,\n",
       " 'conduct': 48,\n",
       " 'design': 49,\n",
       " 'fields': 50,\n",
       " 'into': 51,\n",
       " 'like': 52,\n",
       " 'members': 53,\n",
       " 'overall': 54,\n",
       " 'research': 55,\n",
       " 'serve': 56,\n",
       " 'which': 57,\n",
       " 'five': 58,\n",
       " 'for': 59,\n",
       " 'launching': 60,\n",
       " 'missile': 61,\n",
       " 'missiles': 62,\n",
       " 'network': 63,\n",
       " 'system': 64,\n",
       " 'years': 65,\n",
       " 'counterparts': 66,\n",
       " 'enjoy': 67,\n",
       " 'firms': 68,\n",
       " 'owned': 69,\n",
       " 'said': 70,\n",
       " 'same': 71,\n",
       " 'state': 72,\n",
       " 'their': 73,\n",
       " 'treatment': 74,\n",
       " 'civilian': 75,\n",
       " 'deepening': 76,\n",
       " 'development': 77,\n",
       " 'in': 78,\n",
       " 'integration': 79,\n",
       " 'marks': 80,\n",
       " 'military': 81,\n",
       " 'new': 82,\n",
       " 'that': 83,\n",
       " 'this': 84,\n",
       " 'better': 85,\n",
       " 'capabilities': 86,\n",
       " 'combat': 87,\n",
       " 'contribute': 88,\n",
       " 'could': 89,\n",
       " 'enhancement': 90,\n",
       " 'innovation': 91,\n",
       " 'make': 92}"
      ]
     },
     "execution_count": 11,
     "metadata": {},
     "output_type": "execute_result"
    }
   ],
   "source": [
    "from gensim.utils import simple_preprocess\n",
    "from smart_open import smart_open\n",
    "import os\n",
    "\n",
    "# Create gensim dictionary form a single tet file\n",
    "#dictionary = corpora.Dictionary(simple_preprocess(line, deacc=True) for line in open('C:/Users/kiselgof/OneDrive - RenaissanceRe/Datasets/Columbia_ML_course_Amueller/COMS4995-s19-master/slides/aml-19-word-embeddings/sample.txt', encoding='utf-8'))\n",
    "dictionary = corpora.Dictionary(simple_preprocess(line, deacc=True) for line in open('C:/Users/kiselgof/Documents/Courses/COMS4995-s20-master/slides/aml-17-topic-models/sample.txt', encoding='utf-8'))\n",
    "\n",
    "#C:\\Users\\kiselgof\\Documents\\Courses\\COMS4995-s20-master\\slides\\aml-17-topic-models\n",
    "# Token to Id map\n",
    "dictionary.token2id\n",
    "\n",
    "#> {'according': 35,\n",
    "#>  'and': 22,\n",
    "#>  'appointment': 23,\n",
    "#>  'army': 0,\n",
    "#>  'as': 43,\n",
    "#>  'at': 24,\n",
    "#>   ...\n",
    "#> }"
   ]
  },
  {
   "cell_type": "code",
   "execution_count": 8,
   "metadata": {},
   "outputs": [
    {
     "name": "stdout",
     "output_type": "stream",
     "text": [
      "Dictionary(93 unique tokens: ['army', 'china', 'chinese', 'force', 'liberation']...)\n"
     ]
    }
   ],
   "source": [
    "print(dictionary)"
   ]
  },
  {
   "cell_type": "markdown",
   "metadata": {},
   "source": [
    "Reading Multiple Files"
   ]
  },
  {
   "cell_type": "code",
   "execution_count": 12,
   "metadata": {},
   "outputs": [],
   "source": [
    "class ReadTxtFiles(object):\n",
    "    def __init__(self, dirname):\n",
    "        self.dirname = dirname\n",
    "\n",
    "    def __iter__(self):\n",
    "        for fname in os.listdir(self.dirname):\n",
    "            for line in open(os.path.join(self.dirname, fname), encoding='latin'):\n",
    "                yield simple_preprocess(line)"
   ]
  },
  {
   "cell_type": "code",
   "execution_count": 13,
   "metadata": {},
   "outputs": [
    {
     "data": {
      "text/plain": [
       "{'across': 0,\n",
       " 'activity': 1,\n",
       " 'although': 2,\n",
       " 'and': 3,\n",
       " 'are': 4,\n",
       " 'as': 5,\n",
       " 'badminton': 6,\n",
       " 'be': 7,\n",
       " 'beach': 8,\n",
       " 'by': 9,\n",
       " 'casual': 10,\n",
       " 'common': 11,\n",
       " 'court': 12,\n",
       " 'doubles': 13,\n",
       " 'formal': 14,\n",
       " 'forms': 15,\n",
       " 'game': 16,\n",
       " 'games': 17,\n",
       " 'half': 18,\n",
       " 'hit': 19,\n",
       " 'in': 20,\n",
       " 'indoor': 21,\n",
       " 'is': 22,\n",
       " 'it': 23,\n",
       " 'landing': 24,\n",
       " 'larger': 25,\n",
       " 'may': 26,\n",
       " 'most': 27,\n",
       " 'net': 28,\n",
       " 'of': 29,\n",
       " 'often': 30,\n",
       " 'on': 31,\n",
       " 'one': 32,\n",
       " 'opposing': 33,\n",
       " 'or': 34,\n",
       " 'outdoor': 35,\n",
       " 'per': 36,\n",
       " 'played': 37,\n",
       " 'player': 38,\n",
       " 'players': 39,\n",
       " 'points': 40,\n",
       " 'racquet': 41,\n",
       " 'racquets': 42,\n",
       " 'rectangular': 43,\n",
       " 'scored': 44,\n",
       " 'shuttlecock': 45,\n",
       " 'side': 46,\n",
       " 'singles': 47,\n",
       " 'sport': 48,\n",
       " 'striking': 49,\n",
       " 'teams': 50,\n",
       " 'the': 51,\n",
       " 'to': 52,\n",
       " 'two': 53,\n",
       " 'using': 54,\n",
       " 'with': 55,\n",
       " 'within': 56,\n",
       " 'yard': 57,\n",
       " 'ball': 58,\n",
       " 'baseball': 59,\n",
       " 'bat': 60,\n",
       " 'batting': 61,\n",
       " 'between': 62,\n",
       " 'each': 63,\n",
       " 'fielding': 64,\n",
       " 'nine': 65,\n",
       " 'take': 66,\n",
       " 'turns': 67,\n",
       " 'who': 68,\n",
       " 'advances': 69,\n",
       " 'around': 70,\n",
       " 'attempts': 71,\n",
       " 'bases': 72,\n",
       " 'batter': 73,\n",
       " 'clockwise': 74,\n",
       " 'counter': 75,\n",
       " 'first': 76,\n",
       " 'four': 77,\n",
       " 'hitting': 78,\n",
       " 'home': 79,\n",
       " 'pitcher': 80,\n",
       " 'plate': 81,\n",
       " 'returns': 82,\n",
       " 'run': 83,\n",
       " 'running': 84,\n",
       " 'runs': 85,\n",
       " 'score': 86,\n",
       " 'second': 87,\n",
       " 'series': 88,\n",
       " 'swung': 89,\n",
       " 'team': 90,\n",
       " 'that': 91,\n",
       " 'then': 92,\n",
       " 'third': 93,\n",
       " 'thrown': 94,\n",
       " 'when': 95,\n",
       " 'after': 96,\n",
       " 'an': 97,\n",
       " 'any': 98,\n",
       " 'at': 99,\n",
       " 'batsmen': 100,\n",
       " 'been': 101,\n",
       " 'called': 102,\n",
       " 'centre': 103,\n",
       " 'completed': 104,\n",
       " 'cricket': 105,\n",
       " 'designated': 106,\n",
       " 'dismissed': 107,\n",
       " 'during': 108,\n",
       " 'either': 109,\n",
       " 'eleven': 110,\n",
       " 'end': 111,\n",
       " 'ends': 112,\n",
       " 'extras': 113,\n",
       " 'field': 114,\n",
       " 'gained': 115,\n",
       " 'have': 116,\n",
       " 'including': 117,\n",
       " 'innings': 118,\n",
       " 'long': 119,\n",
       " 'many': 120,\n",
       " 'number': 121,\n",
       " 'opponents': 122,\n",
       " 'overs': 123,\n",
       " 'period': 124,\n",
       " 'phase': 125,\n",
       " 'pitch': 126,\n",
       " 'play': 127,\n",
       " 'possible': 128,\n",
       " 'roles': 129,\n",
       " 'scores': 130,\n",
       " 'set': 131,\n",
       " 'sited': 132,\n",
       " 'stumps': 133,\n",
       " 'swap': 134,\n",
       " 'ten': 135,\n",
       " 'their': 136,\n",
       " 'three': 137,\n",
       " 'which': 138,\n",
       " 'whilst': 139,\n",
       " 'wicket': 140,\n",
       " 'winning': 141,\n",
       " 'wooden': 142,\n",
       " 'all': 143,\n",
       " 'along': 144,\n",
       " 'beans': 145,\n",
       " 'can': 146,\n",
       " 'chutney': 147,\n",
       " 'consumed': 148,\n",
       " 'diet': 149,\n",
       " 'dosa': 150,\n",
       " 'fermented': 151,\n",
       " 'from': 152,\n",
       " 'hot': 153,\n",
       " 'idli': 154,\n",
       " 'indian': 155,\n",
       " 'ingredients': 156,\n",
       " 'its': 157,\n",
       " 'kind': 158,\n",
       " 'made': 159,\n",
       " 'main': 160,\n",
       " 'over': 161,\n",
       " 'pancake': 162,\n",
       " 'parcel': 163,\n",
       " 'part': 164,\n",
       " 'podi': 165,\n",
       " 'popular': 166,\n",
       " 'rice': 167,\n",
       " 'sambar': 168,\n",
       " 'served': 169,\n",
       " 'south': 170,\n",
       " 'subcontinent': 171,\n",
       " 'traditionally': 172,\n",
       " 'urad': 173,\n",
       " 'well': 174,\n",
       " 'according': 175,\n",
       " 'achaya': 176,\n",
       " 'ad': 177,\n",
       " 'already': 178,\n",
       " 'ancient': 179,\n",
       " 'birthplace': 180,\n",
       " 'century': 181,\n",
       " 'conjecture': 182,\n",
       " 'country': 183,\n",
       " 'day': 184,\n",
       " 'dosai': 185,\n",
       " 'exact': 186,\n",
       " 'food': 187,\n",
       " 'historian': 188,\n",
       " 'india': 189,\n",
       " 'indigenous': 190,\n",
       " 'karnataka': 191,\n",
       " 'literature': 192,\n",
       " 'matter': 193,\n",
       " 'nair': 194,\n",
       " 'originated': 195,\n",
       " 'present': 196,\n",
       " 'references': 197,\n",
       " 'region': 198,\n",
       " 'sangam': 199,\n",
       " 'st': 200,\n",
       " 'tamil': 201,\n",
       " 'thankappan': 202,\n",
       " 'town': 203,\n",
       " 'udupi': 204,\n",
       " 'use': 205,\n",
       " 'was': 206,\n",
       " 'also': 207,\n",
       " 'association': 208,\n",
       " 'became': 209,\n",
       " 'because': 210,\n",
       " 'compiled': 211,\n",
       " 'crispier': 212,\n",
       " 'dish': 213,\n",
       " 'dosaka': 214,\n",
       " 'encyclopedia': 215,\n",
       " 'for': 216,\n",
       " 'found': 217,\n",
       " 'iii': 218,\n",
       " 'linked': 219,\n",
       " 'manasollasa': 220,\n",
       " 'origin': 221,\n",
       " 'original': 222,\n",
       " 'probably': 223,\n",
       " 'recipe': 224,\n",
       " 'restaurants': 225,\n",
       " 'ruled': 226,\n",
       " 'sanskrit': 227,\n",
       " 'softer': 228,\n",
       " 'someshvara': 229,\n",
       " 'th': 230,\n",
       " 'thicker': 231,\n",
       " 'thinner': 232,\n",
       " 'tradition': 233,\n",
       " 'version': 234,\n",
       " 'black': 235,\n",
       " 'body': 236,\n",
       " 'breakfast': 237,\n",
       " 'breaks': 238,\n",
       " 'cake': 239,\n",
       " 'cakes': 240,\n",
       " 'consisting': 241,\n",
       " 'countries': 242,\n",
       " 'de': 243,\n",
       " 'diameter': 244,\n",
       " 'down': 245,\n",
       " 'fermentation': 246,\n",
       " 'five': 247,\n",
       " 'households': 248,\n",
       " 'husked': 249,\n",
       " 'inches': 250,\n",
       " 'lanka': 251,\n",
       " 'lentils': 252,\n",
       " 'like': 253,\n",
       " 'metabolised': 254,\n",
       " 'more': 255,\n",
       " 'neighbouring': 256,\n",
       " 'process': 257,\n",
       " 'readily': 258,\n",
       " 'savoury': 259,\n",
       " 'so': 260,\n",
       " 'sri': 261,\n",
       " 'starches': 262,\n",
       " 'steaming': 263,\n",
       " 'they': 264,\n",
       " 'throughout': 265,\n",
       " 'traditional': 266,\n",
       " 'usually': 267,\n",
       " 'amongst': 268,\n",
       " 'another': 269,\n",
       " 'enduri': 270,\n",
       " 'goans': 271,\n",
       " 'known': 272,\n",
       " 'konkani': 273,\n",
       " 'odisha': 274,\n",
       " 'other': 275,\n",
       " 'people': 276,\n",
       " 'pitha': 277,\n",
       " 'sanna': 278,\n",
       " 'variant': 279,\n",
       " 'very': 280,\n",
       " 'but': 281,\n",
       " 'cultures': 282,\n",
       " 'cut': 283,\n",
       " 'dough': 284,\n",
       " 'eat': 285,\n",
       " 'eaten': 286,\n",
       " 'extracted': 287,\n",
       " 'extruded': 288,\n",
       " 'far': 289,\n",
       " 'flat': 290,\n",
       " 'form': 291,\n",
       " 'into': 292,\n",
       " 'noodle': 293,\n",
       " 'noodles': 294,\n",
       " 'once': 295,\n",
       " 'plural': 296,\n",
       " 'rolled': 297,\n",
       " 'see': 298,\n",
       " 'serve': 299,\n",
       " 'serving': 300,\n",
       " 'shapes': 301,\n",
       " 'single': 302,\n",
       " 'staple': 303,\n",
       " 'stretched': 304,\n",
       " 'thus': 305,\n",
       " 'unleavened': 306,\n",
       " 'variety': 307,\n",
       " 'word': 308,\n",
       " 'accompanying': 309,\n",
       " 'added': 310,\n",
       " 'ago': 311,\n",
       " 'boiling': 312,\n",
       " 'china': 313,\n",
       " 'composition': 314,\n",
       " 'consumption': 315,\n",
       " 'cooked': 316,\n",
       " 'cooking': 317,\n",
       " 'cultural': 318,\n",
       " 'deep': 319,\n",
       " 'derives': 320,\n",
       " 'discussing': 321,\n",
       " 'dried': 322,\n",
       " 'evidence': 323,\n",
       " 'folded': 324,\n",
       " 'fried': 325,\n",
       " 'future': 326,\n",
       " 'geo': 327,\n",
       " 'german': 328,\n",
       " 'has': 329,\n",
       " 'helices': 330,\n",
       " 'material': 331,\n",
       " 'must': 332,\n",
       " 'nudel': 333,\n",
       " 'oil': 334,\n",
       " 'oldest': 335,\n",
       " 'pan': 336,\n",
       " 'refrigerated': 337,\n",
       " 'salt': 338,\n",
       " 'sauce': 339,\n",
       " 'shells': 340,\n",
       " 'short': 341,\n",
       " 'sometimes': 342,\n",
       " 'soup': 343,\n",
       " 'specified': 344,\n",
       " 'storage': 345,\n",
       " 'stored': 346,\n",
       " 'strings': 347,\n",
       " 'strips': 348,\n",
       " 'term': 349,\n",
       " 'thin': 350,\n",
       " 'tubes': 351,\n",
       " 'varieties': 352,\n",
       " 'water': 353,\n",
       " 'waves': 354,\n",
       " 'while': 355,\n",
       " 'years': 356,\n",
       " 'baking': 357,\n",
       " 'broad': 358,\n",
       " 'categories': 359,\n",
       " 'cereals': 360,\n",
       " 'commonly': 361,\n",
       " 'cuisine': 362,\n",
       " 'dating': 363,\n",
       " 'dishes': 364,\n",
       " 'divided': 365,\n",
       " 'durum': 366,\n",
       " 'eggs': 367,\n",
       " 'flour': 368,\n",
       " 'formed': 369,\n",
       " 'fresca': 370,\n",
       " 'fresh': 371,\n",
       " 'grains': 372,\n",
       " 'italian': 373,\n",
       " 'mixed': 374,\n",
       " 'pasta': 375,\n",
       " 'pastas': 376,\n",
       " 'refer': 377,\n",
       " 'reference': 378,\n",
       " 'secca': 379,\n",
       " 'sheets': 380,\n",
       " 'sicily': 381,\n",
       " 'typically': 382,\n",
       " 'used': 383,\n",
       " 'various': 384,\n",
       " 'wheat': 385,\n",
       " 'aid': 386,\n",
       " 'available': 387,\n",
       " 'commercially': 388,\n",
       " 'extrusion': 389,\n",
       " 'hand': 390,\n",
       " 'large': 391,\n",
       " 'machines': 392,\n",
       " 'produced': 393,\n",
       " 'products': 394,\n",
       " 'scale': 395,\n",
       " 'simple': 396,\n",
       " 'supermarkets': 397,\n",
       " 'today': 398,\n",
       " 'via': 399,\n",
       " 'widely': 400,\n",
       " 'both': 401,\n",
       " 'cavatelli': 402,\n",
       " 'come': 403,\n",
       " 'decorative': 404,\n",
       " 'depending': 405,\n",
       " 'different': 406,\n",
       " 'documented': 407,\n",
       " 'example': 408,\n",
       " 'filled': 409,\n",
       " 'having': 410,\n",
       " 'include': 411,\n",
       " 'italy': 412,\n",
       " 'locale': 413,\n",
       " 'miniature': 414,\n",
       " 'names': 415,\n",
       " 'specialty': 416,\n",
       " 'specific': 417,\n",
       " 'stuffed': 418,\n",
       " 'types': 419,\n",
       " 'variably': 420,\n",
       " 'vary': 421,\n",
       " 'areas': 422,\n",
       " 'baked': 423,\n",
       " 'become': 424,\n",
       " 'central': 425,\n",
       " 'cheese': 426,\n",
       " 'condiments': 427,\n",
       " 'flatbread': 428,\n",
       " 'gaeta': 429,\n",
       " 'generally': 430,\n",
       " 'invented': 431,\n",
       " 'latin': 432,\n",
       " 'manuscript': 433,\n",
       " 'meats': 434,\n",
       " 'modern': 435,\n",
       " 'naples': 436,\n",
       " 'oven': 437,\n",
       " 'pizza': 438,\n",
       " 'recorded': 439,\n",
       " 'selection': 440,\n",
       " 'since': 441,\n",
       " 'tomato': 442,\n",
       " 'topped': 443,\n",
       " 'variants': 444,\n",
       " 'vegetables': 445,\n",
       " 'world': 446,\n",
       " 'associazione': 447,\n",
       " 'european': 448,\n",
       " 'founded': 449,\n",
       " 'guaranteed': 450,\n",
       " 'headquarters': 451,\n",
       " 'napoletana': 452,\n",
       " 'neapolitan': 453,\n",
       " 'non': 454,\n",
       " 'organisation': 455,\n",
       " 'profit': 456,\n",
       " 'promotes': 457,\n",
       " 'protects': 458,\n",
       " 'request': 459,\n",
       " 'safeguarded': 460,\n",
       " 'speciality': 461,\n",
       " 'true': 462,\n",
       " 'union': 463,\n",
       " 'upon': 464,\n",
       " 'verace': 465,\n",
       " 'america': 466,\n",
       " 'calzone': 467,\n",
       " 'cook': 468,\n",
       " 'europe': 469,\n",
       " 'exist': 470,\n",
       " 'fast': 471,\n",
       " 'frozen': 472,\n",
       " 'item': 473,\n",
       " 'north': 474,\n",
       " 'ovens': 475,\n",
       " 'portions': 476,\n",
       " 'preparation': 477,\n",
       " 'prepared': 478,\n",
       " 'several': 479,\n",
       " 'similar': 480,\n",
       " 'sold': 481,\n",
       " 'stromboli': 482,\n",
       " 'such': 483,\n",
       " 'them': 484,\n",
       " 'whole': 485,\n",
       " 'advantage': 486,\n",
       " 'allow': 487,\n",
       " 'alters': 488,\n",
       " 'back': 489,\n",
       " 'bounce': 490,\n",
       " 'bounces': 491,\n",
       " 'demands': 492,\n",
       " 'except': 493,\n",
       " 'fails': 494,\n",
       " 'follows': 495,\n",
       " 'forth': 496,\n",
       " 'giving': 497,\n",
       " 'great': 498,\n",
       " 'hard': 499,\n",
       " 'hitter': 500,\n",
       " 'initial': 501,\n",
       " 'least': 502,\n",
       " 'lightweight': 503,\n",
       " 'limits': 504,\n",
       " 'opponent': 505,\n",
       " 'opposite': 506,\n",
       " 'options': 507,\n",
       " 'paddle': 508,\n",
       " 'ping': 509,\n",
       " 'place': 510,\n",
       " 'point': 511,\n",
       " 'pong': 512,\n",
       " 'quick': 513,\n",
       " 'reactions': 514,\n",
       " 'return': 515,\n",
       " 'rules': 516,\n",
       " 'small': 517,\n",
       " 'spinning': 518,\n",
       " 'table': 519,\n",
       " 'takes': 520,\n",
       " 'tennis': 521,\n",
       " 'time': 522,\n",
       " 'toward': 523,\n",
       " 'trajectory': 524}"
      ]
     },
     "execution_count": 13,
     "metadata": {},
     "output_type": "execute_result"
    }
   ],
   "source": [
    "path_to_text_directory = \"C:/Users/kiselgof/Documents/Courses/COMS4995-s20-master/slides/aml-17-topic-models/lsa_sports_food_docs\"\n",
    "\n",
    "dictionary = corpora.Dictionary(ReadTxtFiles(path_to_text_directory))\n",
    "\n",
    "# Token to Id map\n",
    "dictionary.token2id\n",
    "# {'across': 0,\n",
    "#  'activity': 1,\n",
    "#  'although': 2,\n",
    "#  'and': 3,\n",
    "#  'are': 4,\n",
    "#  ...\n",
    "# }"
   ]
  },
  {
   "cell_type": "markdown",
   "metadata": {},
   "source": [
    "## 5. How to create a bag of words corpus in gensim?"
   ]
  },
  {
   "cell_type": "code",
   "execution_count": 14,
   "metadata": {},
   "outputs": [
    {
     "name": "stdout",
     "output_type": "stream",
     "text": [
      "[[(0, 1), (1, 1), (2, 1), (3, 1), (4, 1)], [(4, 4)]]\n"
     ]
    }
   ],
   "source": [
    "# List with 2 sentences\n",
    "my_docs = [\"Who let the dogs out?\",\n",
    "           \"Who? Who? Who? Who?\"]\n",
    "\n",
    "# Tokenize the docs\n",
    "tokenized_list = [simple_preprocess(doc) for doc in my_docs]\n",
    "\n",
    "# Create the Corpus\n",
    "mydict = corpora.Dictionary()\n",
    "mycorpus = [mydict.doc2bow(doc, allow_update=True) for doc in tokenized_list]\n",
    "pprint(mycorpus)\n",
    "#> [[(0, 1), (1, 1), (2, 1), (3, 1), (4, 1)], [(4, 4)]]"
   ]
  },
  {
   "cell_type": "markdown",
   "metadata": {},
   "source": [
    "How to interpret the above corpus?\n",
    "\n",
    "The (0, 1) in line 1 means, the word with id=0 appears once in the 1st document.\n",
    "Likewise, the (4, 4) in the second list item means the word with id 4 appears 4 times in the second document. And so on."
   ]
  },
  {
   "cell_type": "markdown",
   "metadata": {},
   "source": [
    "Well, this is not human readable. To convert the id’s to words, you will need the dictionary to do the conversion.\n",
    "\n",
    "Let’s see how to get the original texts back."
   ]
  },
  {
   "cell_type": "code",
   "execution_count": 15,
   "metadata": {},
   "outputs": [
    {
     "name": "stdout",
     "output_type": "stream",
     "text": [
      "[[('dogs', 1), ('let', 1), ('out', 1), ('the', 1), ('who', 1)], [('who', 4)]]\n"
     ]
    }
   ],
   "source": [
    "word_counts = [[(mydict[id], count) for id, count in line] for line in mycorpus]\n",
    "pprint(word_counts)\n",
    "#> [[('dogs', 1), ('let', 1), ('out', 1), ('the', 1), ('who', 1)], [('who', 4)]]"
   ]
  },
  {
   "cell_type": "markdown",
   "metadata": {},
   "source": [
    "Notice, the order of the words gets lost. Just the word and it’s frequency information is retained."
   ]
  },
  {
   "cell_type": "code",
   "execution_count": 16,
   "metadata": {},
   "outputs": [
    {
     "data": {
      "text/plain": [
       "{'dogs': 0, 'let': 1, 'out': 2, 'the': 3, 'who': 4}"
      ]
     },
     "execution_count": 16,
     "metadata": {},
     "output_type": "execute_result"
    }
   ],
   "source": [
    "#BK: This just prints the tokens for the words\n",
    "mydict.token2id"
   ]
  },
  {
   "cell_type": "markdown",
   "metadata": {},
   "source": [
    "## 6. How to create a bag of words corpus from a text file?"
   ]
  },
  {
   "cell_type": "code",
   "execution_count": 17,
   "metadata": {},
   "outputs": [],
   "source": [
    "from gensim.utils import simple_preprocess\n",
    "from smart_open import smart_open\n",
    "import nltk\n",
    "#nltk.download('stopwords')  # run once\n",
    "from nltk.corpus import stopwords\n",
    "stop_words = stopwords.words('english')"
   ]
  },
  {
   "cell_type": "code",
   "execution_count": 18,
   "metadata": {},
   "outputs": [
    {
     "data": {
      "text/plain": [
       "179"
      ]
     },
     "execution_count": 18,
     "metadata": {},
     "output_type": "execute_result"
    }
   ],
   "source": [
    "len(stop_words)"
   ]
  },
  {
   "cell_type": "code",
   "execution_count": 19,
   "metadata": {},
   "outputs": [],
   "source": [
    "class BoWCorpus(object):\n",
    "    def __init__(self, path, dictionary):\n",
    "        self.filepath = path\n",
    "        self.dictionary = dictionary\n",
    "\n",
    "    def __iter__(self):\n",
    "        global mydict  # OPTIONAL, only if updating the source dictionary.\n",
    "        for line in smart_open(self.filepath, encoding='latin'):\n",
    "            # tokenize\n",
    "            tokenized_list = simple_preprocess(line, deacc=True)\n",
    "\n",
    "            # create bag of words\n",
    "            bow = self.dictionary.doc2bow(tokenized_list, allow_update=True)\n",
    "\n",
    "            # update the source dictionary (OPTIONAL)\n",
    "            mydict.merge_with(self.dictionary)\n",
    "\n",
    "            # lazy return the BoW\n",
    "            yield bow"
   ]
  },
  {
   "cell_type": "code",
   "execution_count": 20,
   "metadata": {},
   "outputs": [
    {
     "name": "stdout",
     "output_type": "stream",
     "text": [
      "[(0, 1), (1, 1), (2, 1), (3, 1), (4, 1), (5, 1), (6, 1), (7, 1), (8, 1), (9, 1), (10, 1), (11, 1), (12, 1), (13, 1)]\n",
      "[(14, 1), (15, 1), (16, 1), (17, 1), (18, 1), (19, 1), (20, 1), (21, 1)]\n",
      "[(5, 2), (12, 1), (22, 2), (23, 1), (24, 1), (25, 1), (26, 1), (27, 1), (28, 1), (29, 1), (30, 1), (31, 1), (32, 1), (33, 1), (34, 1)]\n",
      "[(3, 1), (9, 1), (12, 2), (18, 1), (22, 1), (26, 1), (32, 1), (33, 1), (35, 1), (36, 1), (37, 1), (38, 1), (39, 1), (40, 1), (41, 1), (42, 1)]\n",
      "[(15, 1), (17, 1), (18, 1), (21, 1)]\n",
      "[(3, 1), (9, 1), (14, 1), (16, 1), (19, 1), (22, 2), (26, 2), (32, 1), (33, 1), (34, 1), (43, 1), (44, 1), (45, 1), (46, 1), (47, 1)]\n",
      "[(3, 1), (5, 2), (9, 1), (10, 1), (12, 1), (13, 1), (18, 1), (43, 1), (47, 1), (48, 1), (49, 1), (50, 1), (51, 1), (52, 1), (53, 1), (54, 1), (55, 1), (56, 1), (57, 1)]\n",
      "[(12, 1), (22, 1), (33, 1), (58, 1), (59, 1), (60, 1), (61, 1), (62, 1), (63, 1), (64, 1), (65, 1)]\n",
      "[(12, 3), (16, 1), (26, 1), (41, 1), (43, 1), (47, 1), (66, 1), (67, 1), (68, 1), (69, 1), (70, 1), (71, 1), (72, 1), (73, 1), (74, 1)]\n",
      "[(12, 1), (15, 1), (18, 1), (57, 1), (70, 1), (75, 1), (76, 1), (77, 1), (78, 1), (79, 2), (80, 1), (81, 1), (82, 1), (83, 1), (84, 1), (85, 1)]\n",
      "[(5, 1), (12, 2), (22, 1), (32, 1), (33, 1), (42, 1), (86, 1), (87, 1), (88, 1), (89, 1), (90, 1), (91, 1), (92, 1), (93, 1), (94, 1)]\n"
     ]
    },
    {
     "name": "stderr",
     "output_type": "stream",
     "text": [
      "C:\\Users\\kiselgof\\AppData\\Local\\Continuum\\anaconda3\\lib\\site-packages\\smart_open\\smart_open_lib.py:253: UserWarning: This function is deprecated, use smart_open.open instead. See the migration notes for details: https://github.com/RaRe-Technologies/smart_open/blob/master/README.rst#migrating-to-the-new-open-function\n",
      "  'See the migration notes for details: %s' % _MIGRATION_NOTES_URL\n"
     ]
    }
   ],
   "source": [
    "# Create the Dictionary\n",
    "mydict = corpora.Dictionary()\n",
    "\n",
    "path = 'C:/Users/kiselgof/Documents/Courses/COMS4995-s20-master/slides/aml-17-topic-models/sample.txt'\n",
    "# Create the Corpus\n",
    "#bow_corpus = BoWCorpus('sample.txt', dictionary=mydict)  # memory friendly\n",
    "bow_corpus = BoWCorpus(path, dictionary=mydict)  # memory friendly\n",
    "\n",
    "# Print the token_id and count for each line.\n",
    "for line in bow_corpus:\n",
    "    print(line)"
   ]
  },
  {
   "cell_type": "markdown",
   "metadata": {},
   "source": [
    "## 7. How to save a gensim dictionary and corpus to disk and load them back?"
   ]
  },
  {
   "cell_type": "code",
   "execution_count": 21,
   "metadata": {},
   "outputs": [
    {
     "name": "stderr",
     "output_type": "stream",
     "text": [
      "C:\\Users\\kiselgof\\AppData\\Local\\Continuum\\anaconda3\\lib\\site-packages\\smart_open\\smart_open_lib.py:253: UserWarning: This function is deprecated, use smart_open.open instead. See the migration notes for details: https://github.com/RaRe-Technologies/smart_open/blob/master/README.rst#migrating-to-the-new-open-function\n",
      "  'See the migration notes for details: %s' % _MIGRATION_NOTES_URL\n"
     ]
    }
   ],
   "source": [
    "# Save the Dict and Corpus\n",
    "\n",
    "mydict.save('mydict.dict')  # save dict to disk\n",
    "corpora.MmCorpus.serialize('bow_corpus.mm', bow_corpus)  # save corpus to disk"
   ]
  },
  {
   "cell_type": "code",
   "execution_count": 22,
   "metadata": {},
   "outputs": [
    {
     "name": "stdout",
     "output_type": "stream",
     "text": [
      "[(0, 1.0),\n",
      " (1, 1.0),\n",
      " (2, 1.0),\n",
      " (3, 1.0),\n",
      " (4, 1.0),\n",
      " (5, 1.0),\n",
      " (6, 1.0),\n",
      " (7, 1.0),\n",
      " (8, 1.0),\n",
      " (9, 1.0),\n",
      " (10, 1.0),\n",
      " (11, 1.0),\n",
      " (12, 1.0),\n",
      " (13, 1.0)]\n",
      "[(14, 1.0),\n",
      " (15, 1.0),\n",
      " (16, 1.0),\n",
      " (17, 1.0),\n",
      " (18, 1.0),\n",
      " (19, 1.0),\n",
      " (20, 1.0),\n",
      " (21, 1.0)]\n",
      "[(5, 2.0),\n",
      " (12, 1.0),\n",
      " (22, 2.0),\n",
      " (23, 1.0),\n",
      " (24, 1.0),\n",
      " (25, 1.0),\n",
      " (26, 1.0),\n",
      " (27, 1.0),\n",
      " (28, 1.0),\n",
      " (29, 1.0),\n",
      " (30, 1.0),\n",
      " (31, 1.0),\n",
      " (32, 1.0),\n",
      " (33, 1.0),\n",
      " (34, 1.0)]\n",
      "[(3, 1.0),\n",
      " (9, 1.0),\n",
      " (12, 2.0),\n",
      " (18, 1.0),\n",
      " (22, 1.0),\n",
      " (26, 1.0),\n",
      " (32, 1.0),\n",
      " (33, 1.0),\n",
      " (35, 1.0),\n",
      " (36, 1.0),\n",
      " (37, 1.0),\n",
      " (38, 1.0),\n",
      " (39, 1.0),\n",
      " (40, 1.0),\n",
      " (41, 1.0),\n",
      " (42, 1.0)]\n",
      "[(15, 1.0), (17, 1.0), (18, 1.0), (21, 1.0)]\n",
      "[(3, 1.0),\n",
      " (9, 1.0),\n",
      " (14, 1.0),\n",
      " (16, 1.0),\n",
      " (19, 1.0),\n",
      " (22, 2.0),\n",
      " (26, 2.0),\n",
      " (32, 1.0),\n",
      " (33, 1.0),\n",
      " (34, 1.0),\n",
      " (43, 1.0),\n",
      " (44, 1.0),\n",
      " (45, 1.0),\n",
      " (46, 1.0),\n",
      " (47, 1.0)]\n",
      "[(3, 1.0),\n",
      " (5, 2.0),\n",
      " (9, 1.0),\n",
      " (10, 1.0),\n",
      " (12, 1.0),\n",
      " (13, 1.0),\n",
      " (18, 1.0),\n",
      " (43, 1.0),\n",
      " (47, 1.0),\n",
      " (48, 1.0),\n",
      " (49, 1.0),\n",
      " (50, 1.0),\n",
      " (51, 1.0),\n",
      " (52, 1.0),\n",
      " (53, 1.0),\n",
      " (54, 1.0),\n",
      " (55, 1.0),\n",
      " (56, 1.0),\n",
      " (57, 1.0)]\n",
      "[(12, 1.0),\n",
      " (22, 1.0),\n",
      " (33, 1.0),\n",
      " (58, 1.0),\n",
      " (59, 1.0),\n",
      " (60, 1.0),\n",
      " (61, 1.0),\n",
      " (62, 1.0),\n",
      " (63, 1.0),\n",
      " (64, 1.0),\n",
      " (65, 1.0)]\n",
      "[(12, 3.0),\n",
      " (16, 1.0),\n",
      " (26, 1.0),\n",
      " (41, 1.0),\n",
      " (43, 1.0),\n",
      " (47, 1.0),\n",
      " (66, 1.0),\n",
      " (67, 1.0),\n",
      " (68, 1.0),\n",
      " (69, 1.0),\n",
      " (70, 1.0),\n",
      " (71, 1.0),\n",
      " (72, 1.0),\n",
      " (73, 1.0),\n",
      " (74, 1.0)]\n",
      "[(12, 1.0),\n",
      " (15, 1.0),\n",
      " (18, 1.0),\n",
      " (57, 1.0),\n",
      " (70, 1.0),\n",
      " (75, 1.0),\n",
      " (76, 1.0),\n",
      " (77, 1.0),\n",
      " (78, 1.0),\n",
      " (79, 2.0),\n",
      " (80, 1.0),\n",
      " (81, 1.0),\n",
      " (82, 1.0),\n",
      " (83, 1.0),\n",
      " (84, 1.0),\n",
      " (85, 1.0)]\n",
      "[(5, 1.0),\n",
      " (12, 2.0),\n",
      " (22, 1.0),\n",
      " (32, 1.0),\n",
      " (33, 1.0),\n",
      " (42, 1.0),\n",
      " (86, 1.0),\n",
      " (87, 1.0),\n",
      " (88, 1.0),\n",
      " (89, 1.0),\n",
      " (90, 1.0),\n",
      " (91, 1.0),\n",
      " (92, 1.0),\n",
      " (93, 1.0),\n",
      " (94, 1.0)]\n"
     ]
    }
   ],
   "source": [
    "# Load them back\n",
    "loaded_dict = corpora.Dictionary.load('mydict.dict')\n",
    "\n",
    "corpus = corpora.MmCorpus('bow_corpus.mm')\n",
    "for line in corpus:\n",
    "    pprint(line)"
   ]
  },
  {
   "cell_type": "markdown",
   "metadata": {},
   "source": [
    "## 8. How to create the TFIDF matrix (corpus) in gensim?"
   ]
  },
  {
   "cell_type": "code",
   "execution_count": 23,
   "metadata": {},
   "outputs": [],
   "source": [
    "from gensim import models\n",
    "import numpy as np"
   ]
  },
  {
   "cell_type": "code",
   "execution_count": 24,
   "metadata": {},
   "outputs": [
    {
     "name": "stdout",
     "output_type": "stream",
     "text": [
      "Help on class TfidfModel in module gensim.models.tfidfmodel:\n",
      "\n",
      "class TfidfModel(gensim.interfaces.TransformationABC)\n",
      " |  TfidfModel(corpus=None, id2word=None, dictionary=None, wlocal=<function identity at 0x000001ED5807B2F0>, wglobal=<function df2idf at 0x000001ED6570E7B8>, normalize=True, smartirs=None, pivot=None, slope=0.25)\n",
      " |  \n",
      " |  Objects of this class realize the transformation between word-document co-occurrence matrix (int)\n",
      " |  into a locally/globally weighted TF-IDF matrix (positive floats).\n",
      " |  \n",
      " |  Examples\n",
      " |  --------\n",
      " |  .. sourcecode:: pycon\n",
      " |  \n",
      " |      >>> import gensim.downloader as api\n",
      " |      >>> from gensim.models import TfidfModel\n",
      " |      >>> from gensim.corpora import Dictionary\n",
      " |      >>>\n",
      " |      >>> dataset = api.load(\"text8\")\n",
      " |      >>> dct = Dictionary(dataset)  # fit dictionary\n",
      " |      >>> corpus = [dct.doc2bow(line) for line in dataset]  # convert corpus to BoW format\n",
      " |      >>>\n",
      " |      >>> model = TfidfModel(corpus)  # fit model\n",
      " |      >>> vector = model[corpus[0]]  # apply model to the first corpus document\n",
      " |  \n",
      " |  Method resolution order:\n",
      " |      TfidfModel\n",
      " |      gensim.interfaces.TransformationABC\n",
      " |      gensim.utils.SaveLoad\n",
      " |      builtins.object\n",
      " |  \n",
      " |  Methods defined here:\n",
      " |  \n",
      " |  __getitem__(self, bow, eps=1e-12)\n",
      " |      Get the tf-idf representation of an input vector and/or corpus.\n",
      " |      \n",
      " |      bow : {list of (int, int), iterable of iterable of (int, int)}\n",
      " |          Input document in the `sparse Gensim bag-of-words format\n",
      " |          <https://radimrehurek.com/gensim/intro.html#core-concepts>`_,\n",
      " |          or a streamed corpus of such documents.\n",
      " |      eps : float\n",
      " |          Threshold value, will remove all position that have tfidf-value less than `eps`.\n",
      " |      \n",
      " |      Returns\n",
      " |      -------\n",
      " |      vector : list of (int, float)\n",
      " |          TfIdf vector, if `bow` is a single document\n",
      " |      :class:`~gensim.interfaces.TransformedCorpus`\n",
      " |          TfIdf corpus, if `bow` is a corpus.\n",
      " |  \n",
      " |  __init__(self, corpus=None, id2word=None, dictionary=None, wlocal=<function identity at 0x000001ED5807B2F0>, wglobal=<function df2idf at 0x000001ED6570E7B8>, normalize=True, smartirs=None, pivot=None, slope=0.25)\n",
      " |      Compute TF-IDF by multiplying a local component (term frequency) with a global component\n",
      " |      (inverse document frequency), and normalizing the resulting documents to unit length.\n",
      " |      Formula for non-normalized weight of term :math:`i` in document :math:`j` in a corpus of :math:`D` documents\n",
      " |      \n",
      " |      .. math:: weight_{i,j} = frequency_{i,j} * log_2 \\frac{D}{document\\_freq_{i}}\n",
      " |      \n",
      " |      or, more generally\n",
      " |      \n",
      " |      .. math:: weight_{i,j} = wlocal(frequency_{i,j}) * wglobal(document\\_freq_{i}, D)\n",
      " |      \n",
      " |      so you can plug in your own custom :math:`wlocal` and :math:`wglobal` functions.\n",
      " |      \n",
      " |      Parameters\n",
      " |      ----------\n",
      " |      corpus : iterable of iterable of (int, int), optional\n",
      " |          Input corpus\n",
      " |      id2word : {dict, :class:`~gensim.corpora.Dictionary`}, optional\n",
      " |          Mapping token - id, that was used for converting input data to bag of words format.\n",
      " |      dictionary : :class:`~gensim.corpora.Dictionary`\n",
      " |          If `dictionary` is specified, it must be a `corpora.Dictionary` object and it will be used.\n",
      " |          to directly construct the inverse document frequency mapping (then `corpus`, if specified, is ignored).\n",
      " |      wlocals : callable, optional\n",
      " |          Function for local weighting, default for `wlocal` is :func:`~gensim.utils.identity`\n",
      " |          (other options: :func:`numpy.sqrt`, `lambda tf: 0.5 + (0.5 * tf / tf.max())`, etc.).\n",
      " |      wglobal : callable, optional\n",
      " |          Function for global weighting, default is :func:`~gensim.models.tfidfmodel.df2idf`.\n",
      " |      normalize : {bool, callable}, optional\n",
      " |          Normalize document vectors to unit euclidean length? You can also inject your own function into `normalize`.\n",
      " |      smartirs : str, optional\n",
      " |          SMART (System for the Mechanical Analysis and Retrieval of Text) Information Retrieval System,\n",
      " |          a mnemonic scheme for denoting tf-idf weighting variants in the vector space model.\n",
      " |          The mnemonic for representing a combination of weights takes the form XYZ,\n",
      " |          for example 'ntc', 'bpn' and so on, where the letters represents the term weighting of the document vector.\n",
      " |      \n",
      " |          Term frequency weighing:\n",
      " |              * `b` - binary,\n",
      " |              * `t` or `n` - raw,\n",
      " |              * `a` - augmented,\n",
      " |              * `l` - logarithm,\n",
      " |              * `d` - double logarithm,\n",
      " |              * `L` - log average.\n",
      " |      \n",
      " |          Document frequency weighting:\n",
      " |              * `x` or `n` - none,\n",
      " |              * `f` - idf,\n",
      " |              * `t` - zero-corrected idf,\n",
      " |              * `p` - probabilistic idf.\n",
      " |      \n",
      " |          Document normalization:\n",
      " |              * `x` or `n` - none,\n",
      " |              * `c` - cosine,\n",
      " |              * `u` - pivoted unique,\n",
      " |              * `b` - pivoted character length.\n",
      " |      \n",
      " |          Default is 'nfc'.\n",
      " |          For more information visit `SMART Information Retrieval System\n",
      " |          <https://en.wikipedia.org/wiki/SMART_Information_Retrieval_System>`_.\n",
      " |      pivot : float or None, optional\n",
      " |          In information retrieval, TF-IDF is biased against long documents [1]_. Pivoted document length\n",
      " |          normalization solves this problem by changing the norm of a document to `slope * old_norm + (1.0 -\n",
      " |          slope) * pivot`.\n",
      " |      \n",
      " |          You can either set the `pivot` by hand, or you can let Gensim figure it out automatically with the following\n",
      " |          two steps:\n",
      " |      \n",
      " |              * Set either the `u` or `b` document normalization in the `smartirs` parameter.\n",
      " |              * Set either the `corpus` or `dictionary` parameter. The `pivot` will be automatically determined from\n",
      " |                the properties of the `corpus` or `dictionary`.\n",
      " |      \n",
      " |          If `pivot` is None and you don't follow steps 1 and 2, then pivoted document length normalization will be\n",
      " |          disabled. Default is None.\n",
      " |      \n",
      " |          See also the blog post at https://rare-technologies.com/pivoted-document-length-normalisation/.\n",
      " |      slope : float, optional\n",
      " |          In information retrieval, TF-IDF is biased against long documents [1]_. Pivoted document length\n",
      " |          normalization solves this problem by changing the norm of a document to `slope * old_norm + (1.0 -\n",
      " |          slope) * pivot`.\n",
      " |      \n",
      " |          Setting the `slope` to 0.0 uses only the `pivot` as the norm, and setting the `slope` to 1.0 effectively\n",
      " |          disables pivoted document length normalization. Singhal [2]_ suggests setting the `slope` between 0.2 and\n",
      " |          0.3 for best results. Default is 0.25.\n",
      " |      \n",
      " |          See also the blog post at https://rare-technologies.com/pivoted-document-length-normalisation/.\n",
      " |      \n",
      " |      See Also\n",
      " |      --------\n",
      " |      ~gensim.sklearn_api.tfidf.TfIdfTransformer : Class that also uses the SMART scheme.\n",
      " |      resolve_weights : Function that also uses the SMART scheme.\n",
      " |      \n",
      " |      References\n",
      " |      ----------\n",
      " |      .. [1] Singhal, A., Buckley, C., & Mitra, M. (1996). `Pivoted Document Length\n",
      " |         Normalization <http://singhal.info/pivoted-dln.pdf>`_. *SIGIR Forum*, 51, 176–184.\n",
      " |      .. [2] Singhal, A. (2001). `Modern information retrieval: A brief overview <http://singhal.info/ieee2001.pdf>`_.\n",
      " |         *IEEE Data Eng. Bull.*, 24(4), 35–43.\n",
      " |  \n",
      " |  __str__(self)\n",
      " |      Return str(self).\n",
      " |  \n",
      " |  initialize(self, corpus)\n",
      " |      Compute inverse document weights, which will be used to modify term frequencies for documents.\n",
      " |      \n",
      " |      Parameters\n",
      " |      ----------\n",
      " |      corpus : iterable of iterable of (int, int)\n",
      " |          Input corpus.\n",
      " |  \n",
      " |  ----------------------------------------------------------------------\n",
      " |  Class methods defined here:\n",
      " |  \n",
      " |  load(*args, **kwargs) from builtins.type\n",
      " |      Load a previously saved TfidfModel class. Handles backwards compatibility from\n",
      " |      older TfidfModel versions which did not use pivoted document normalization.\n",
      " |  \n",
      " |  ----------------------------------------------------------------------\n",
      " |  Methods inherited from gensim.utils.SaveLoad:\n",
      " |  \n",
      " |  save(self, fname_or_handle, separately=None, sep_limit=10485760, ignore=frozenset(), pickle_protocol=2)\n",
      " |      Save the object to a file.\n",
      " |      \n",
      " |      Parameters\n",
      " |      ----------\n",
      " |      fname_or_handle : str or file-like\n",
      " |          Path to output file or already opened file-like object. If the object is a file handle,\n",
      " |          no special array handling will be performed, all attributes will be saved to the same file.\n",
      " |      separately : list of str or None, optional\n",
      " |          If None, automatically detect large numpy/scipy.sparse arrays in the object being stored, and store\n",
      " |          them into separate files. This prevent memory errors for large objects, and also allows\n",
      " |          `memory-mapping <https://en.wikipedia.org/wiki/Mmap>`_ the large arrays for efficient\n",
      " |          loading and sharing the large arrays in RAM between multiple processes.\n",
      " |      \n",
      " |          If list of str: store these attributes into separate files. The automated size check\n",
      " |          is not performed in this case.\n",
      " |      sep_limit : int, optional\n",
      " |          Don't store arrays smaller than this separately. In bytes.\n",
      " |      ignore : frozenset of str, optional\n",
      " |          Attributes that shouldn't be stored at all.\n",
      " |      pickle_protocol : int, optional\n",
      " |          Protocol number for pickle.\n",
      " |      \n",
      " |      See Also\n",
      " |      --------\n",
      " |      :meth:`~gensim.utils.SaveLoad.load`\n",
      " |          Load object from file.\n",
      " |  \n",
      " |  ----------------------------------------------------------------------\n",
      " |  Data descriptors inherited from gensim.utils.SaveLoad:\n",
      " |  \n",
      " |  __dict__\n",
      " |      dictionary for instance variables (if defined)\n",
      " |  \n",
      " |  __weakref__\n",
      " |      list of weak references to the object (if defined)\n",
      "\n"
     ]
    }
   ],
   "source": [
    "help(models.TfidfModel)"
   ]
  },
  {
   "cell_type": "code",
   "execution_count": 25,
   "metadata": {},
   "outputs": [],
   "source": [
    "documents = [\"This is the first line\",\n",
    "             \"This is the second sentence\",\n",
    "             \"This third document\"]"
   ]
  },
  {
   "cell_type": "code",
   "execution_count": 26,
   "metadata": {},
   "outputs": [],
   "source": [
    "# Create the Dictionary and Corpus\n",
    "mydict = corpora.Dictionary([simple_preprocess(line) for line in documents])\n",
    "corpus = [mydict.doc2bow(simple_preprocess(line)) for line in documents]"
   ]
  },
  {
   "cell_type": "code",
   "execution_count": 27,
   "metadata": {},
   "outputs": [
    {
     "name": "stdout",
     "output_type": "stream",
     "text": [
      "[['first', 1], ['is', 1], ['line', 1], ['the', 1], ['this', 1]]\n",
      "[['is', 1], ['the', 1], ['this', 1], ['second', 1], ['sentence', 1]]\n",
      "[['this', 1], ['document', 1], ['third', 1]]\n"
     ]
    }
   ],
   "source": [
    "# Show the Word Weights in Corpus\n",
    "for doc in corpus:\n",
    "    print([[mydict[id], freq] for id, freq in doc])\n",
    "\n",
    "# [['first', 1], ['is', 1], ['line', 1], ['the', 1], ['this', 1]]\n",
    "# [['is', 1], ['the', 1], ['this', 1], ['second', 1], ['sentence', 1]]\n",
    "# [['this', 1], ['document', 1], ['third', 1]]"
   ]
  },
  {
   "cell_type": "code",
   "execution_count": 28,
   "metadata": {},
   "outputs": [
    {
     "name": "stdout",
     "output_type": "stream",
     "text": [
      "[['first', 0.63], ['is', 0.31], ['line', 0.63], ['the', 0.31], ['this', 0.13]]\n",
      "[['is', 0.31], ['the', 0.31], ['this', 0.13], ['second', 0.63], ['sentence', 0.63]]\n",
      "[['this', 0.15], ['document', 0.7], ['third', 0.7]]\n"
     ]
    }
   ],
   "source": [
    "# Create the TF-IDF model\n",
    "tfidf = models.TfidfModel(corpus, smartirs='ntc')\n",
    "\n",
    "# Show the TF-IDF weights\n",
    "for doc in tfidf[corpus]:\n",
    "    print([[mydict[id], np.around(freq, decimals=2)] for id, freq in doc])\n",
    "# [['first', 0.66], ['is', 0.24], ['line', 0.66], ['the', 0.24]]\n",
    "# [['is', 0.24], ['the', 0.24], ['second', 0.66], ['sentence', 0.66]]\n",
    "# [['document', 0.71], ['third', 0.71]]"
   ]
  },
  {
   "cell_type": "markdown",
   "metadata": {},
   "source": [
    "Notice the difference in weights of the words between the original corpus and the tfidf weighted corpus.\n",
    "\n",
    "The words ‘is’ and ‘the’ occur in two documents and were weighted down. The word ‘this’ appearing in all three documents was removed altogether. In simple terms, words that occur more frequently across the documents get smaller weights."
   ]
  },
  {
   "cell_type": "markdown",
   "metadata": {},
   "source": [
    "## 9. How to use gensim downloader API to load datasets?"
   ]
  },
  {
   "cell_type": "markdown",
   "metadata": {},
   "source": [
    "Gensim provides an inbuilt API to download popular text datasets and word embedding models.\n",
    "\n",
    "A comprehensive list of available datasets and models is maintained here.\n",
    "\n",
    "https://raw.githubusercontent.com/RaRe-Technologies/gensim-data/master/list.json\n",
    "\n",
    "Using the API to download the dataset is as simple as calling the api.load() method with the right data or model name.\n",
    "\n",
    "The below example shows how to download the ‘glove-wiki-gigaword-50’ model."
   ]
  },
  {
   "cell_type": "code",
   "execution_count": 29,
   "metadata": {},
   "outputs": [
    {
     "data": {
      "text/plain": [
       "{'num_records': 400000,\n",
       " 'file_size': 69182535,\n",
       " 'base_dataset': 'Wikipedia 2014 + Gigaword 5 (6B tokens, uncased)',\n",
       " 'reader_code': 'https://github.com/RaRe-Technologies/gensim-data/releases/download/glove-wiki-gigaword-50/__init__.py',\n",
       " 'license': 'http://opendatacommons.org/licenses/pddl/',\n",
       " 'parameters': {'dimension': 50},\n",
       " 'description': 'Pre-trained vectors based on Wikipedia 2014 + Gigaword, 5.6B tokens, 400K vocab, uncased (https://nlp.stanford.edu/projects/glove/).',\n",
       " 'preprocessing': 'Converted to w2v format with `python -m gensim.scripts.glove2word2vec -i <fname> -o glove-wiki-gigaword-50.txt`.',\n",
       " 'read_more': ['https://nlp.stanford.edu/projects/glove/',\n",
       "  'https://nlp.stanford.edu/pubs/glove.pdf'],\n",
       " 'checksum': 'c289bc5d7f2f02c6dc9f2f9b67641813',\n",
       " 'file_name': 'glove-wiki-gigaword-50.gz',\n",
       " 'parts': 1}"
      ]
     },
     "execution_count": 29,
     "metadata": {},
     "output_type": "execute_result"
    }
   ],
   "source": [
    "import gensim.downloader as api\n",
    "\n",
    "# Get information about the model or dataset\n",
    "api.info('glove-wiki-gigaword-50')\n",
    "# {'base_dataset': 'Wikipedia 2014 + Gigaword 5 (6B tokens, uncased)',\n",
    "#  'checksum': 'c289bc5d7f2f02c6dc9f2f9b67641813',\n",
    "#  'description': 'Pre-trained vectors based on Wikipedia 2014 + Gigaword, 5.6B tokens, 400K vocab, uncased (https://nlp.stanford.edu/projects/glove/).',\n",
    "#  'file_name': 'glove-wiki-gigaword-50.gz',\n",
    "#  'file_size': 69182535,\n",
    "#  'license': 'http://opendatacommons.org/licenses/pddl/',\n",
    "#  (... truncated...)"
   ]
  },
  {
   "cell_type": "code",
   "execution_count": 30,
   "metadata": {},
   "outputs": [
    {
     "data": {
      "text/plain": [
       "[('red', 0.8901656866073608),\n",
       " ('black', 0.8648407459259033),\n",
       " ('pink', 0.8452916741371155),\n",
       " ('green', 0.8346816301345825),\n",
       " ('yellow', 0.8320708274841309),\n",
       " ('purple', 0.829311192035675),\n",
       " ('white', 0.8225342035293579),\n",
       " ('orange', 0.8114303350448608),\n",
       " ('bright', 0.799933910369873),\n",
       " ('colored', 0.787665605545044)]"
      ]
     },
     "execution_count": 30,
     "metadata": {},
     "output_type": "execute_result"
    }
   ],
   "source": [
    "# Download\n",
    "w2v_model = api.load(\"glove-wiki-gigaword-50\")\n",
    "w2v_model.most_similar('blue')"
   ]
  },
  {
   "cell_type": "markdown",
   "metadata": {},
   "source": [
    "## 10. How to create bigrams and trigrams using Phraser models?"
   ]
  },
  {
   "cell_type": "code",
   "execution_count": 31,
   "metadata": {},
   "outputs": [
    {
     "name": "stdout",
     "output_type": "stream",
     "text": [
      "['anarchism', 'originated', 'as', 'a', 'term', 'of', 'abuse', 'first', 'used', 'against', 'early', 'working_class', 'radicals', 'including', 'the', 'diggers', 'of', 'the', 'english', 'revolution', 'and', 'the', 'sans_culottes', 'of', 'the', 'french_revolution', 'whilst', 'the', 'term', 'is', 'still', 'used', 'in', 'a', 'pejorative_way', 'to', 'describe', 'any', 'act', 'that', 'used', 'violent', 'means', 'to', 'destroy', 'the', 'organization', 'of', 'society', 'it', 'has', 'also', 'been', 'taken_up', 'as', 'a', 'positive', 'label', 'by', 'self', 'defined', 'anarchists', 'the', 'word', 'anarchism', 'is', 'derived_from', 'the', 'greek', 'without', 'archons', 'ruler', 'chief', 'king', 'anarchism', 'as', 'a', 'political_philosophy', 'is', 'the', 'belief_that', 'rulers', 'are', 'unnecessary', 'and', 'should_be', 'abolished', 'although', 'there_are', 'differing_interpretations', 'of', 'what', 'this', 'means', 'anarchism', 'also', 'refers_to', 'related', 'social_movements', 'that', 'advocate', 'the', 'elimination', 'of', 'authoritarian', 'institutions', 'particularly', 'the', 'state', 'the', 'word', 'anarchy', 'as', 'most', 'anarchists', 'use', 'it', 'does_not', 'imply', 'chaos', 'nihilism', 'or', 'anomie', 'but_rather', 'a', 'harmonious', 'anti_authoritarian', 'society', 'in', 'place', 'of', 'what', 'are', 'regarded_as', 'authoritarian', 'political', 'structures', 'and', 'coercive', 'economic', 'institutions', 'anarchists', 'advocate', 'social', 'relations', 'based_upon', 'voluntary_association', 'of', 'autonomous', 'individuals', 'mutual_aid', 'and', 'self_governance', 'while', 'anarchism', 'is', 'most', 'easily', 'defined', 'by', 'what', 'it', 'is', 'against', 'anarchists', 'also', 'offer', 'positive', 'visions', 'of', 'what', 'they_believe', 'to', 'be', 'a', 'truly', 'free', 'society', 'however', 'ideas_about', 'how', 'an', 'anarchist_society', 'might', 'work', 'vary_considerably', 'especially', 'with_respect', 'to', 'economics', 'there', 'is', 'also', 'disagreement_about', 'how', 'a', 'free', 'society', 'might_be', 'brought_about', 'origins', 'and', 'predecessors', 'kropotkin', 'and', 'others_argue', 'that', 'before', 'recorded_history', 'human', 'society', 'was', 'organized', 'on', 'anarchist_principles', 'most', 'anthropologists', 'follow', 'kropotkin', 'and', 'engels', 'in', 'believing_that', 'hunter_gatherer', 'bands', 'were', 'egalitarian', 'and', 'lacked', 'division', 'of', 'labour', 'accumulated_wealth', 'or', 'decreed', 'law', 'and', 'had', 'equal', 'access', 'to', 'resources', 'william_godwin', 'anarchists', 'including', 'the', 'the', 'anarchy', 'organisation', 'and', 'rothbard', 'find', 'anarchist', 'attitudes', 'in', 'taoism', 'from', 'ancient', 'china', 'kropotkin', 'found', 'similar', 'ideas', 'in', 'stoic', 'zeno', 'of', 'citium', 'according_to', 'kropotkin', 'zeno', 'repudiated', 'the', 'omnipotence', 'of', 'the', 'state', 'its', 'intervention', 'and', 'regimentation', 'and', 'proclaimed', 'the', 'sovereignty', 'of', 'the', 'moral', 'law', 'of', 'the', 'individual', 'the', 'anabaptists', 'of', 'one', 'six', 'th_century', 'europe', 'are', 'sometimes_considered', 'to', 'be', 'religious', 'forerunners', 'of', 'modern', 'anarchism', 'bertrand_russell', 'in', 'his', 'history', 'of', 'western_philosophy', 'writes', 'that', 'the', 'anabaptists', 'repudiated', 'all', 'law', 'since', 'they', 'held', 'that', 'the', 'good', 'man', 'will_be', 'guided', 'at', 'every', 'moment', 'by', 'the', 'holy_spirit', 'from', 'this', 'premise', 'they', 'arrive_at', 'communism', 'the', 'diggers', 'or', 'true', 'levellers', 'were', 'an', 'early', 'communistic', 'movement', 'during', 'the', 'time', 'of', 'the', 'english_civil', 'war', 'and', 'are', 'considered', 'by', 'some', 'as', 'forerunners', 'of', 'modern', 'anarchism', 'in', 'the', 'modern_era', 'the', 'first', 'to', 'use', 'the', 'term', 'to', 'mean', 'something', 'other', 'than', 'chaos', 'was', 'louis', 'armand', 'baron_de', 'lahontan', 'in', 'his', 'nouveaux', 'voyages', 'dans_l', 'am_rique', 'septentrionale', 'one', 'seven', 'zero', 'three', 'where', 'he', 'described', 'the', 'indigenous', 'american', 'society', 'which', 'had', 'no', 'state', 'laws', 'prisons', 'priests', 'or', 'private_property', 'as', 'being', 'in', 'anarchy', 'russell', 'means', 'a', 'libertarian', 'and', 'leader', 'in', 'the', 'american', 'indian', 'movement', 'has', 'repeatedly_stated', 'that', 'he', 'is', 'an', 'anarchist', 'and', 'so', 'are', 'all', 'his', 'ancestors', 'in', 'one', 'seven', 'nine', 'three', 'in', 'the', 'thick', 'of', 'the', 'french_revolution', 'william_godwin', 'published', 'an_enquiry', 'concerning', 'political', 'justice', 'although', 'godwin', 'did_not', 'use', 'the', 'word', 'anarchism', 'many', 'later', 'anarchists', 'have', 'regarded', 'this', 'book', 'as', 'the', 'first', 'major', 'anarchist', 'text', 'and', 'godwin', 'as', 'the', 'founder', 'of', 'philosophical_anarchism', 'but', 'at', 'this', 'point', 'no', 'anarchist_movement', 'yet', 'existed', 'and', 'the', 'term', 'anarchiste', 'was', 'known', 'mainly', 'as', 'an_insult', 'hurled', 'by', 'the', 'bourgeois', 'girondins', 'at', 'more_radical', 'elements', 'in', 'the', 'french_revolution', 'the', 'first', 'self', 'labelled', 'anarchist', 'pierre_joseph', 'proudhon', 'it', 'is', 'commonly', 'held', 'that', 'it_wasn', 't', 'until', 'pierre_joseph', 'proudhon', 'published', 'what', 'is', 'property', 'in', 'one', 'eight', 'four', 'zero', 'that', 'the', 'term', 'anarchist', 'was', 'adopted', 'as', 'a', 'self', 'description', 'it', 'is', 'for', 'this_reason', 'that', 'some', 'claim', 'proudhon', 'as', 'the', 'founder', 'of', 'modern', 'anarchist', 'theory', 'in', 'what', 'is', 'property', 'proudhon', 'answers', 'with', 'the', 'famous', 'accusation', 'property', 'is', 'theft', 'in', 'this', 'work', 'he', 'opposed', 'the', 'institution', 'of', 'decreed', 'property', 'propri_t', 'where', 'owners', 'have', 'complete', 'rights', 'to', 'use', 'and', 'abuse', 'their', 'property', 'as', 'they_wish', 'such_as', 'exploiting', 'workers', 'for', 'profit', 'in', 'its', 'place', 'proudhon', 'supported', 'what', 'he', 'called', 'possession', 'individuals', 'can', 'have', 'limited', 'rights', 'to', 'use', 'resources', 'capital', 'and', 'goods', 'in_accordance', 'with', 'principles', 'of', 'equality', 'and', 'justice', 'proudhon', 's', 'vision', 'of', 'anarchy', 'which', 'he', 'called', 'mutualism', 'mutuellisme', 'involved', 'an', 'exchange', 'economy', 'where', 'individuals', 'and', 'groups', 'could', 'trade', 'the', 'products', 'of', 'their', 'labor', 'using', 'labor', 'notes', 'which', 'represented', 'the', 'amount', 'of', 'working', 'time', 'involved', 'in', 'production', 'this', 'would', 'ensure_that', 'no', 'one', 'would', 'profit', 'from', 'the', 'labor', 'of', 'others', 'workers', 'could', 'freely', 'join_together', 'in', 'co_operative', 'workshops', 'an', 'interest', 'free', 'bank', 'would_be', 'set_up', 'to', 'provide', 'everyone', 'with', 'access', 'to', 'the', 'means', 'of', 'production', 'proudhon', 's', 'ideas', 'were', 'influential', 'within', 'french', 'working_class', 'movements', 'and', 'his_followers', 'were', 'active', 'in', 'the', 'revolution', 'of', 'one', 'eight', 'four', 'eight', 'in', 'france', 'proudhon', 's', 'philosophy', 'of', 'property', 'is', 'complex', 'it', 'was', 'developed', 'in', 'a', 'number', 'of', 'works', 'over', 'his_lifetime', 'and', 'there_are', 'differing_interpretations', 'of', 'some', 'of', 'his', 'ideas', 'for', 'more_detailed', 'discussion', 'see', 'here', 'max_stirner', 's', 'egoism', 'in', 'his', 'the', 'ego', 'and', 'its_own', 'stirner', 'argued_that', 'most_commonly', 'accepted', 'social_institutions', 'including', 'the', 'notion', 'of', 'state', 'property', 'as', 'a', 'right', 'natural', 'rights', 'in', 'general', 'and', 'the', 'very', 'notion', 'of', 'society', 'were', 'mere', 'illusions', 'or', 'ghosts', 'in', 'the', 'mind', 'saying', 'of', 'society', 'that', 'the', 'individuals', 'are', 'its', 'reality', 'he', 'advocated', 'egoism', 'and', 'a', 'form', 'of', 'amoralism', 'in', 'which', 'individuals', 'would', 'unite', 'in', 'associations', 'of', 'egoists', 'only', 'when', 'it', 'was', 'in', 'their', 'self_interest', 'to', 'do_so', 'for', 'him', 'property', 'simply', 'comes', 'about', 'through', 'might', 'whoever', 'knows_how', 'to', 'take', 'to', 'defend', 'the', 'thing', 'to', 'him', 'belongs', 'property', 'and', 'what', 'i', 'have', 'in', 'my', 'power', 'that', 'is', 'my_own', 'so', 'long', 'as', 'i', 'assert', 'myself', 'as', 'holder', 'i_am', 'the', 'proprietor', 'of', 'the', 'thing', 'stirner', 'never', 'called', 'himself', 'an', 'anarchist', 'he', 'accepted', 'only', 'the', 'label', 'egoist', 'nevertheless', 'his', 'ideas', 'were', 'influential', 'on', 'many', 'individualistically', 'inclined', 'anarchists', 'although', 'interpretations', 'of', 'his', 'thought', 'are', 'diverse', 'american_individualist', 'anarchism', 'benjamin_tucker', 'in', 'one', 'eight', 'two', 'five', 'josiah_warren', 'had', 'participated', 'in', 'a', 'communitarian', 'experiment', 'headed_by', 'robert_owen', 'called', 'new', 'harmony', 'which', 'failed', 'in', 'a', 'few_years', 'amidst', 'much', 'internal_conflict', 'warren', 'blamed', 'the', 'community', 's', 'failure', 'on', 'a', 'lack', 'of', 'individual', 'sovereignty', 'and', 'a', 'lack', 'of', 'private_property', 'warren', 'proceeded', 'to', 'organise', 'experimenal', 'anarchist', 'communities', 'which', 'respected', 'what', 'he', 'called', 'the', 'sovereignty', 'of', 'the', 'individual', 'at', 'utopia', 'and', 'modern_times', 'in', 'one', 'eight', 'three', 'three', 'warren', 'wrote', 'and', 'published', 'the', 'peaceful', 'revolutionist', 'which', 'some', 'have', 'noted', 'to', 'be', 'the', 'first', 'anarchist_periodical', 'ever', 'published', 'benjamin_tucker', 'says_that', 'warren', 'was', 'the', 'first', 'man', 'to', 'expound', 'and', 'formulate', 'the', 'doctrine', 'now_known', 'as', 'anarchism', 'liberty', 'xiv', 'december', 'one', 'nine', 'zero', 'zero', 'one', 'benjamin_tucker', 'became_interested', 'in', 'anarchism', 'through', 'meeting', 'josiah_warren', 'and', 'william', 'b_greene', 'he', 'edited', 'and', 'published', 'liberty', 'from', 'august', 'one', 'eight', 'eight', 'one', 'to', 'april', 'one', 'nine', 'zero', 'eight', 'it', 'is', 'widely_considered', 'to', 'be', 'the', 'finest', 'individualist_anarchist', 'periodical', 'ever', 'issued', 'in', 'the', 'english_language', 'tucker', 's', 'conception', 'of', 'individualist_anarchism', 'incorporated', 'the', 'ideas', 'of', 'a', 'variety', 'of', 'theorists', 'greene', 's', 'ideas', 'on', 'mutual', 'banking', 'warren', 's', 'ideas', 'on', 'cost', 'as', 'the', 'limit', 'of', 'price', 'a', 'heterodox', 'variety', 'of', 'labour', 'theory', 'of', 'value', 'proudhon', 's', 'market_anarchism', 'max_stirner', 's', 'egoism', 'and', 'herbert_spencer', 's', 'law', 'of', 'equal', 'freedom', 'tucker', 'strongly_supported', 'the', 'individual', 's', 'right', 'to', 'own', 'the', 'product', 'of', 'his', 'or', 'her', 'labour', 'as', 'private_property', 'and', 'believed', 'in', 'a', 'market_economy', 'for', 'trading', 'this', 'property', 'he', 'argued_that', 'in', 'a', 'truly', 'free_market', 'system', 'without', 'the', 'state', 'the', 'abundance', 'of', 'competition', 'would', 'eliminate', 'profits', 'and', 'ensure_that', 'all', 'workers', 'received', 'the', 'full', 'value', 'of', 'their', 'labor', 'other', 'one', 'nine', 'th_century', 'individualists', 'included', 'lysander_spooner', 'stephen_pearl', 'andrews', 'and', 'victor', 'yarros', 'the', 'first', 'international', 'mikhail_bakunin', 'one', 'eight', 'one', 'four', 'one', 'eight', 'seven', 'six', 'in', 'europe', 'harsh', 'reaction', 'followed', 'the', 'revolutions', 'of', 'one', 'eight', 'four', 'eight', 'twenty_years', 'later', 'in', 'one', 'eight', 'six', 'four', 'the', 'international_workingmen', 's', 'association', 'sometimes_called', 'the', 'first', 'international', 'united', 'some', 'diverse', 'european', 'revolutionary', 'currents', 'including', 'anarchism', 'due_to', 'its', 'genuine', 'links', 'to', 'active', 'workers', 'movements', 'the', 'international', 'became', 'signficiant', 'from', 'the', 'start', 'karl_marx', 'was', 'a', 'leading_figure', 'in', 'the', 'international', 'he', 'was', 'elected', 'to', 'every', 'succeeding', 'general', 'council', 'of', 'the', 'association', 'the', 'first', 'objections', 'to', 'marx', 'came', 'from', 'the', 'mutualists', 'who', 'opposed_communism', 'and', 'statism', 'shortly_after', 'mikhail_bakunin', 'and', 'his_followers', 'joined', 'in', 'one', 'eight', 'six', 'eight', 'the', 'first', 'international', 'became', 'polarised', 'into', 'two', 'camps', 'with', 'marx', 'and', 'bakunin', 'as', 'their_respective', 'figureheads', 'the', 'clearest', 'difference_between', 'the', 'camps', 'was', 'over', 'strategy', 'the', 'anarchists', 'around', 'bakunin', 'favoured', 'in', 'kropotkin', 's', 'words', 'direct', 'economical', 'struggle_against', 'capitalism', 'without_interfering', 'in', 'the', 'political', 'parliamentary', 'agitation', 'at', 'that', 'time', 'marx', 'and', 'his_followers', 'focused_on', 'parliamentary', 'activity', 'bakunin', 'characterised', 'marx', 's', 'ideas', 'as', 'authoritarian', 'and', 'predicted', 'that', 'if', 'a', 'marxist', 'party', 'gained', 'to', 'power', 'its', 'leaders', 'would', 'end', 'up', 'as', 'bad', 'as', 'the', 'ruling_class', 'they', 'had', 'fought_against', 'in', 'one', 'eight', 'seven', 'two', 'the', 'conflict', 'climaxed', 'with', 'a', 'final', 'split_between', 'the', 'two', 'groups', 'at', 'the', 'hague', 'congress', 'this', 'is', 'often_cited', 'as', 'the', 'origin', 'of', 'the', 'conflict_between', 'anarchists', 'and', 'marxists', 'from', 'this', 'moment', 'the', 'social_democratic', 'and', 'libertarian', 'currents', 'of', 'socialism', 'had', 'distinct', 'organisations', 'including', 'rival', 'internationals', 'anarchist_communism', 'peter_kropotkin', 'proudhon', 'and', 'bakunin', 'both', 'opposed_communism', 'associating', 'it', 'with', 'statism', 'however', 'in', 'the', 'one', 'eight', 'seven', 'zero', 's', 'many', 'anarchists', 'moved_away', 'from', 'bakunin', 's', 'economic', 'thinking', 'called', 'collectivism', 'and', 'embraced', 'communist', 'concepts', 'communists', 'believed', 'the', 'means', 'of', 'production', 'should_be', 'owned', 'collectively', 'and', 'that', 'goods', 'be', 'distributed', 'by', 'need', 'not', 'labor', 'an', 'early', 'anarchist', 'communist', 'was', 'joseph', 'd', 'jacque', 'the', 'first_person', 'to', 'describe', 'himself', 'as', 'libertarian', 'unlike', 'proudhon', 'he', 'argued_that', 'it', 'is', 'not', 'the', 'product', 'of', 'his', 'or', 'her', 'labor', 'that', 'the', 'worker', 'has', 'a', 'right', 'to', 'but', 'to', 'the', 'satisfaction', 'of', 'his', 'or', 'her', 'needs', 'whatever', 'may_be', 'their', 'nature', 'he', 'announced', 'his', 'ideas', 'in', 'his', 'us', 'published', 'journal', 'le', 'libertaire', 'one', 'eight', 'five', 'eight', 'one', 'eight', 'six', 'one', 'peter_kropotkin', 'often_seen', 'as', 'the', 'most_important', 'theorist', 'outlined', 'his', 'economic', 'ideas', 'in', 'the', 'conquest', 'of', 'bread', 'and', 'fields', 'factories', 'and', 'workshops', 'he_felt', 'co_operation', 'is', 'more', 'beneficial', 'than', 'competition', 'illustrated', 'in', 'nature', 'in', 'mutual_aid', 'a', 'factor', 'of', 'evolution', 'one', 'eight', 'nine', 'seven', 'subsequent', 'anarchist_communists', 'include', 'emma_goldman', 'and', 'alexander_berkman', 'many', 'in', 'the', 'anarcho_syndicalist', 'movements', 'see_below', 'saw', 'anarchist_communism', 'as', 'their', 'objective', 'isaac', 'puente', 's', 'one', 'nine', 'three', 'two', 'comunismo', 'libertario', 'was', 'adopted', 'by', 'the', 'spanish', 'cnt', 'as', 'its', 'manifesto', 'for', 'a', 'post', 'revolutionary', 'society', 'some', 'anarchists', 'disliked', 'merging', 'communism', 'with', 'anarchism', 'several', 'individualist_anarchists', 'maintained', 'that', 'abolition', 'of', 'private_property', 'was', 'not', 'consistent_with', 'liberty', 'for_example', 'benjamin_tucker', 'whilst', 'professing', 'respect', 'for', 'kropotkin', 'and', 'publishing', 'his', 'work', 'described', 'communist', 'anarchism', 'as', 'pseudo', 'anarchism', 'propaganda', 'of', 'the', 'deed', 'johann', 'most', 'was', 'an_outspoken', 'advocate', 'of', 'violence', 'anarchists', 'have', 'often', 'been', 'portrayed', 'as', 'dangerous', 'and', 'violent', 'due', 'mainly', 'to', 'a', 'number', 'of', 'high_profile', 'violent_acts', 'including', 'riots', 'assassinations', 'insurrections', 'and', 'terrorism', 'by', 'some', 'anarchists', 'some', 'revolutionaries', 'of', 'the', 'late', 'one', 'nine', 'th_century', 'encouraged', 'acts', 'of', 'political', 'violence', 'such_as', 'bombings', 'and', 'the', 'assassinations', 'of', 'heads', 'of', 'state', 'to', 'further', 'anarchism', 'such', 'actions', 'have', 'sometimes', 'been', 'called', 'propaganda', 'by', 'the', 'deed', 'one', 'of', 'the', 'more', 'outspoken', 'advocates', 'of', 'this', 'strategy', 'was', 'johann', 'most', 'who', 'said', 'the', 'existing', 'system', 'will_be', 'quickest', 'and', 'most', 'radically', 'overthrown_by', 'the', 'annihilation', 'of', 'its', 'exponents', 'therefore', 'massacres', 'of', 'the', 'enemies', 'of', 'the', 'people', 'must_be', 'set', 'in', 'motion', 'most', 's', 'preferred_method', 'of', 'terrorism', 'dynamite', 'earned_him', 'the', 'moniker', 'dynamost', 'however', 'there', 'is', 'no_consensus', 'on', 'the', 'legitimacy', 'or', 'utility', 'of', 'violence', 'in', 'general', 'mikhail_bakunin', 'and', 'errico_malatesta', 'for_example', 'wrote', 'of', 'violence', 'as', 'a', 'necessary', 'and', 'sometimes', 'desirable', 'force', 'in', 'revolutionary', 'settings', 'but', 'at', 'the', 'same_time', 'they', 'denounced', 'acts', 'of', 'individual', 'terrorism', 'malatesta', 'in', 'on', 'violence', 'and', 'bakunin', 'when', 'he', 'refuted', 'nechaev', 'other', 'anarchists', 'sometimes', 'identified', 'as', 'pacifist', 'anarchists', 'advocated', 'complete', 'nonviolence', 'leo_tolstoy', 'whose', 'philosophy', 'is', 'often', 'viewed_as', 'a', 'form', 'of', 'christian_anarchism', 'see_below', 'was', 'a', 'notable', 'exponent', 'of', 'nonviolent_resistance', 'anarchism', 'in', 'the', 'labour_movement', 'the', 'red', 'and', 'black_flag', 'coming', 'from', 'the', 'experience', 'of', 'anarchists', 'in', 'the', 'labour_movement', 'is', 'particularly', 'associated_with', 'anarcho_syndicalism', 'anarcho_syndicalism', 'was', 'an', 'early', 'two', 'zero', 'th_century', 'working_class', 'movement', 'seeking', 'to', 'overthrow', 'capitalism', 'and', 'the', 'state', 'to', 'institute', 'a', 'worker', 'controlled', 'society', 'the', 'movement', 'pursued', 'industrial', 'actions', 'such_as', 'general_strike', 'as', 'a', 'primary', 'strategy', 'many', 'anarcho_syndicalists', 'believed', 'in', 'anarchist_communism', 'though', 'not', 'all', 'communists', 'believed', 'in', 'syndicalism', 'after', 'the', 'one', 'eight', 'seven', 'one', 'repression', 'french', 'anarchism', 'reemerged', 'influencing', 'the', 'bourses', 'de', 'travails', 'of', 'autonomous', 'workers', 'groups', 'and', 'trade_unions', 'from', 'this', 'movement', 'the', 'conf', 'd_ration', 'g', 'n_rale', 'du_travail', 'general', 'confederation', 'of', 'work', 'cgt', 'was', 'formed', 'in', 'one', 'eight', 'nine', 'five', 'as', 'the', 'first', 'major', 'anarcho_syndicalist', 'movement', 'emile', 'pataud', 'and', 'emile', 'pouget', 's', 'writing', 'for', 'the', 'cgt', 'saw', 'libertarian_communism', 'developing', 'from', 'a', 'general_strike', 'after', 'one', 'nine', 'one', 'four', 'the', 'cgt', 'moved_away', 'from', 'anarcho_syndicalism', 'due_to', 'the', 'appeal', 'of', 'bolshevism', 'french', 'style', 'syndicalism', 'was', 'a', 'significant', 'movement', 'in', 'europe', 'prior_to', 'one', 'nine', 'two', 'one', 'and', 'remained', 'a', 'significant', 'movement', 'in', 'spain', 'until', 'the', 'mid', 'one', 'nine', 'four', 'zero', 's', 'the', 'industrial_workers', 'of', 'the', 'world', 'iww', 'founded', 'in', 'one', 'nine', 'zero', 'five', 'in', 'the', 'us', 'espoused', 'unionism', 'and', 'sought', 'a', 'general_strike', 'to', 'usher', 'in', 'a', 'stateless', 'society', 'in', 'one', 'nine', 'two', 'three', 'one', 'zero', 'zero', 'zero', 'zero', 'zero', 'members', 'existed', 'with', 'the', 'support', 'of', 'up', 'to', 'three', 'zero', 'zero', 'zero', 'zero', 'zero', 'though', 'not', 'explicitly', 'anarchist', 'they', 'organized', 'by', 'rank', 'and', 'file', 'democracy', 'embodying', 'a', 'spirit', 'of', 'resistance', 'that', 'has', 'inspired', 'many', 'anglophone', 'syndicalists', 'cnt', 'propaganda', 'from', 'april', 'two', 'zero', 'zero', 'four', 'reads', 'don_t', 'let', 'the', 'politicians', 'rule', 'our_lives', 'you', 'vote', 'and', 'they', 'decide', 'don_t', 'allow', 'it', 'unity', 'action', 'self', 'management', 'spanish', 'anarchist', 'trade_union', 'federations', 'were', 'formed', 'in', 'the', 'one', 'eight', 'seven', 'zero', 's', 'one', 'nine', 'zero', 'zero', 'and', 'one', 'nine', 'one', 'zero', 'the', 'most_successful', 'was', 'the', 'confederaci_n', 'nacional_del', 'trabajo', 'national', 'confederation', 'of', 'labour', 'cnt', 'founded', 'in', 'one', 'nine', 'one', 'zero', 'prior_to', 'the', 'one', 'nine', 'four', 'zero', 's', 'the', 'cnt', 'was', 'the', 'major', 'force', 'in', 'spanish', 'working_class', 'politics', 'with', 'a', 'membership', 'of', 'one', 'five', 'eight', 'million', 'in', 'one', 'nine', 'three', 'four', 'the', 'cnt', 'played', 'a', 'major_role', 'in', 'the', 'spanish_civil', 'war', 'see_also', 'anarchism', 'in', 'spain', 'syndicalists', 'like', 'ricardo', 'flores', 'mag', 'n', 'were', 'key_figures', 'in', 'the', 'mexican_revolution', 'latin', 'american', 'anarchism', 'was', 'strongly_influenced', 'extending', 'to', 'the', 'zapatista', 'rebellion', 'and', 'the', 'factory', 'occupation', 'movements', 'in', 'argentina', 'in', 'berlin', 'in', 'one', 'nine', 'two', 'two', 'the', 'cnt', 'was', 'joined', 'with', 'the', 'international', 'workers', 'association', 'an', 'anarcho_syndicalist', 'successor', 'to', 'the', 'first', 'international', 'contemporary', 'anarcho_syndicalism', 'continues', 'as', 'a', 'minor', 'force', 'in', 'many', 'socities', 'much_smaller', 'than', 'in', 'the', 'one', 'nine', 'one', 'zero', 's', 'two', 'zero', 's', 'and', 'three', 'zero', 's', 'the', 'largest', 'organised', 'anarchist_movement', 'today', 'is', 'in', 'spain', 'in', 'the', 'form', 'of', 'the', 'confederaci_n', 'general', 'del_trabajo', 'and', 'the', 'cnt', 'the', 'cgt', 'claims', 'a', 'paid', 'up', 'membership', 'of', 'six', 'zero', 'zero', 'zero', 'zero', 'and', 'received', 'over', 'a', 'million', 'votes', 'in', 'spanish', 'syndical', 'elections', 'other', 'active', 'syndicalist', 'movements', 'include', 'the', 'us', 'workers_solidarity', 'alliance', 'and', 'the', 'uk', 'solidarity', 'federation', 'the', 'revolutionary', 'industrial', 'unionist', 'industrial_workers', 'of', 'the', 'world', 'also', 'exists', 'claiming', 'two', 'zero', 'zero', 'zero', 'paid', 'members', 'contemporary', 'critics', 'of', 'anarcho_syndicalism', 'and', 'revolutionary', 'industrial_unionism', 'claim_that', 'they', 'are', 'workerist', 'and', 'fail', 'to', 'deal_with', 'economic', 'life', 'outside', 'work', 'post', 'leftist', 'critics', 'such_as', 'bob', 'black', 'claim', 'anarcho_syndicalism', 'advocates', 'oppressive_social', 'structures', 'such_as', 'work', 'and', 'the', 'workplace', 'anarcho_syndicalists', 'in', 'general', 'uphold', 'principles', 'of', 'workers_solidarity', 'direct_action', 'and', 'self', 'management', 'the', 'russian_revolution', 'the', 'russian_revolution', 'of', 'one', 'nine', 'one', 'seven', 'was', 'a', 'seismic', 'event', 'in', 'the', 'development', 'of', 'anarchism', 'as', 'a', 'movement', 'and', 'as', 'a', 'philosophy', 'anarchists', 'participated', 'alongside', 'the', 'bolsheviks', 'in', 'both', 'february', 'and', 'october', 'revolutions', 'many', 'anarchists', 'initially', 'supporting', 'the', 'bolshevik', 'coup', 'however', 'the', 'bolsheviks', 'soon', 'turned', 'against', 'the', 'anarchists', 'and', 'other', 'left_wing', 'opposition', 'a', 'conflict', 'which_culminated', 'in', 'the', 'one', 'nine', 'one', 'eight', 'kronstadt_rebellion', 'anarchists', 'in', 'central', 'russia', 'were', 'imprisoned', 'or', 'driven_underground', 'or', 'joined', 'the', 'victorious', 'bolsheviks', 'in', 'ukraine', 'anarchists', 'fought', 'in', 'the', 'civil_war', 'against', 'both', 'whites', 'and', 'bolsheviks', 'within', 'the', 'makhnovshchina', 'peasant', 'army', 'led', 'by', 'nestor_makhno', 'expelled', 'american', 'anarchists', 'emma_goldman', 'and', 'alexander_berkman', 'before_leaving', 'russia', 'were', 'amongst', 'those', 'agitating', 'in', 'response', 'to', 'bolshevik', 'policy', 'and', 'the', 'suppression', 'of', 'the', 'kronstadt', 'uprising', 'both', 'wrote', 'classic', 'accounts', 'of', 'their', 'experiences', 'in', 'russia', 'aiming', 'to', 'expose', 'the', 'reality', 'of', 'bolshevik', 'control', 'for', 'them', 'bakunin', 's', 'predictions_about', 'the', 'consequences', 'of', 'marxist', 'rule', 'had', 'proved', 'all', 'too', 'true', 'the', 'victory', 'of', 'the', 'bolsheviks', 'in', 'the', 'october_revolution', 'and', 'the', 'resulting', 'russian_civil', 'war', 'did', 'serious_damage', 'to', 'anarchist', 'movements', 'internationally', 'many', 'workers', 'and', 'activists', 'saw', 'bolshevik', 'success', 'as', 'setting', 'an', 'example', 'communist_parties', 'grew', 'at', 'the', 'expense', 'of', 'anarchism', 'and', 'other', 'socialist_movements', 'in', 'france', 'and', 'the', 'us', 'for_example', 'the', 'major', 'syndicalist', 'movements', 'of', 'the', 'cgt', 'and', 'iww', 'began', 'to', 'realign', 'themselves', 'away_from', 'anarchism', 'and', 'towards', 'the', 'communist', 'international', 'in', 'paris', 'the', 'dielo', 'truda', 'group', 'of', 'russian', 'anarchist', 'exiles', 'which', 'included', 'nestor_makhno', 'concluded_that', 'anarchists', 'needed', 'to', 'develop', 'new', 'forms', 'of', 'organisation', 'in', 'response', 'to', 'the', 'structures', 'of', 'bolshevism', 'their', 'one', 'nine', 'two', 'six', 'manifesto', 'known_as', 'the', 'organisational', 'platform', 'of', 'the', 'libertarian_communists', 'was', 'supported_by', 'some', 'communist_anarchists', 'though', 'opposed', 'by', 'many', 'others', 'the', 'platform', 'continues', 'to', 'inspire', 'some', 'contemporary', 'anarchist', 'groups', 'who', 'believe', 'in', 'an', 'anarchist_movement', 'organised_around', 'its', 'principles', 'of', 'theoretical', 'unity', 'tactical', 'unity', 'collective_responsibility', 'and', 'federalism', 'platformist', 'groups', 'today', 'include', 'the', 'workers_solidarity', 'movement', 'in', 'ireland', 'the', 'uk', 's', 'anarchist', 'federation', 'and', 'the', 'late', 'north_eastern', 'federation', 'of', 'anarchist_communists', 'in', 'the', 'northeastern_united', 'states', 'and', 'bordering', 'canada', 'the', 'fight_against', 'fascism', 'spain', 'one', 'nine', 'three', 'six', 'members', 'of', 'the', 'cnt', 'construct', 'armoured_cars', 'to', 'fight_against', 'the', 'fascists', 'in', 'one', 'of', 'the', 'collectivised', 'factories', 'in', 'the', 'one', 'nine', 'two', 'zero', 's', 'and', 'one', 'nine', 'three', 'zero', 's', 'the', 'familiar', 'dynamics', 'of', 'anarchism', 's', 'conflict', 'with', 'the', 'state', 'were', 'transformed', 'by', 'the', 'rise', 'of', 'fascism', 'in', 'europe', 'in', 'many_cases', 'european', 'anarchists', 'faced', 'difficult', 'choices', 'should', 'they', 'join', 'in', 'popular', 'fronts', 'with', 'reformist', 'democrats', 'and', 'soviet', 'led', 'communists', 'against', 'a', 'common', 'fascist', 'enemy', 'luigi', 'fabbri', 'an', 'exile', 'from', 'italian_fascism', 'was', 'amongst', 'those', 'arguing_that', 'fascism', 'was', 'something', 'different', 'fascism', 'is', 'not', 'just', 'another', 'form', 'of', 'government', 'which', 'like', 'all', 'others', 'uses', 'violence', 'it', 'is', 'the', 'most', 'authoritarian', 'and', 'the', 'most', 'violent', 'form', 'of', 'government', 'imaginable', 'it', 'represents', 'the', 'utmost', 'glorification', 'of', 'the', 'theory', 'and', 'practice', 'of', 'the', 'principle', 'of', 'authority', 'in', 'france', 'where', 'the', 'fascists', 'came_close', 'to', 'insurrection', 'in', 'the', 'february', 'one', 'nine', 'three', 'four', 'riots', 'anarchists', 'divided', 'over', 'a', 'united', 'front', 'policy', 'in', 'spain', 'the', 'cnt', 'initially_refused', 'to', 'join', 'a', 'popular_front', 'electoral', 'alliance', 'and', 'abstention', 'by', 'cnt', 'supporters', 'led', 'to', 'a', 'right_wing', 'election_victory', 'but', 'in', 'one', 'nine', 'three', 'six', 'the', 'cnt', 'changed', 'its', 'policy', 'and', 'anarchist', 'votes', 'helped_bring', 'the', 'popular_front', 'back', 'to', 'power', 'months_later', 'the', 'ruling_class', 'responded', 'with', 'an', 'attempted_coup', 'and', 'the', 'spanish_civil', 'war', 'one', 'nine', 'three', 'six', 'three', 'nine', 'was', 'underway', 'in', 'reponse', 'to', 'the', 'army', 'rebellion', 'an', 'anarchist', 'inspired', 'movement', 'of', 'peasants', 'and', 'workers', 'supported_by', 'armed', 'militias', 'took_control', 'of', 'the', 'major', 'city', 'of', 'barcelona', 'and', 'of', 'large_areas', 'of', 'rural', 'spain', 'where', 'they', 'collectivized', 'the', 'land', 'but', 'even', 'before', 'the', 'eventual', 'fascist', 'victory', 'in', 'one', 'nine', 'three', 'nine', 'the', 'anarchists', 'were', 'losing_ground', 'in', 'a', 'bitter_struggle', 'with', 'the', 'stalinists', 'the', 'cnt', 'leadership', 'often', 'appeared', 'confused', 'and', 'divided', 'with', 'some', 'members', 'controversially', 'entering', 'the', 'government', 'stalinist', 'led', 'troops', 'suppressed', 'the', 'collectives', 'and', 'persecuted', 'both', 'dissident', 'marxists', 'and', 'anarchists', 'since', 'the', 'late', 'one', 'nine', 'seven', 'zero', 's', 'anarchists', 'have_been', 'involved', 'in', 'fighting', 'the', 'rise', 'of', 'neo_fascist', 'groups', 'in', 'germany', 'and', 'the', 'united_kingdom', 'some', 'anarchists', 'worked', 'within', 'militant', 'anti_fascist', 'groups', 'alongside', 'members', 'of', 'the', 'marxist', 'left', 'they', 'advocated', 'directly', 'combating', 'fascists', 'with', 'physical', 'force', 'rather_than', 'relying_on', 'the', 'state', 'since', 'the', 'late', 'one', 'nine', 'nine', 'zero', 's', 'a', 'similar', 'tendency', 'has', 'developed', 'within', 'us', 'anarchism', 'see_also', 'anti_racist', 'action', 'us', 'anti_fascist', 'action', 'uk', 'antifa', 'religious', 'anarchism', 'leo_tolstoy', 'one', 'eight', 'two', 'eight', 'one', 'nine', 'one', 'zero', 'most', 'anarchist', 'culture', 'tends_to', 'be', 'secular', 'if', 'not', 'outright', 'anti', 'religious', 'however', 'the', 'combination', 'of', 'religious', 'social', 'conscience', 'historical', 'religiousity', 'amongst', 'oppressed', 'social_classes', 'and', 'the', 'compatibility', 'of', 'some', 'interpretations', 'of', 'religious_traditions', 'with', 'anarchism', 'has_resulted', 'in', 'religious', 'anarchism', 'christian', 'anarchists', 'believe_that', 'there', 'is', 'no', 'higher', 'authority', 'than', 'god', 'and', 'oppose', 'earthly', 'authority', 'such_as', 'government', 'and', 'established', 'churches', 'they_believe', 'that', 'jesus_teachings', 'were', 'clearly', 'anarchistic', 'but', 'were', 'corrupted', 'when', 'christianity', 'was', 'declared', 'the', 'official', 'religion', 'of', 'rome', 'christian', 'anarchists', 'who', 'follow', 'jesus', 'directive', 'to', 'turn', 'the', 'other', 'cheek', 'are', 'strict', 'pacifists', 'the', 'most_famous', 'advocate', 'of', 'christian_anarchism', 'was', 'leo_tolstoy', 'author', 'of', 'the', 'kingdom', 'of', 'god', 'is', 'within', 'you', 'who', 'called', 'for', 'a', 'society', 'based_on', 'compassion', 'nonviolent', 'principles', 'and', 'freedom', 'christian', 'anarchists', 'tend_to', 'form', 'experimental', 'communities', 'they', 'also', 'occasionally', 'resist', 'taxation', 'many', 'christian', 'anarchists', 'are', 'vegetarian', 'or', 'vegan', 'christian', 'anarchy', 'can_be', 'said', 'to', 'have', 'roots', 'as', 'old', 'as', 'the', 'religion', 's', 'birth', 'as', 'the', 'early', 'church', 'exhibits', 'many', 'anarchistic', 'tendencies', 'such_as', 'communal', 'goods', 'and', 'wealth', 'by', 'aiming', 'to', 'obey', 'utterly', 'certain', 'of', 'the', 'bible', 's', 'teachings', 'certain', 'anabaptist_groups', 'of', 'sixteenth_century', 'europe', 'attempted', 'to', 'emulate', 'the', 'early', 'church', 's', 'social', 'economic', 'organisation', 'and', 'philosophy', 'by', 'regarding', 'it', 'as', 'the', 'only', 'social_structure', 'capable', 'of', 'true', 'obediance', 'to', 'jesus_teachings', 'and', 'utterly', 'rejected', 'in', 'theory', 'all', 'earthly', 'hierarchies', 'and', 'authority', 'and', 'indeed', 'non', 'anabaptists', 'in', 'general', 'and', 'violence', 'as', 'ungodly', 'such', 'groups', 'for_example', 'the', 'hutterites', 'typically', 'went', 'from', 'initially', 'anarchistic', 'beginnings', 'to', 'as', 'their', 'movements', 'stabalised', 'more', 'authoritarian', 'social', 'models', 'chinese', 'anarchism', 'was', 'most_influential', 'in', 'the', 'one', 'nine', 'two', 'zero', 's', 'strands', 'of', 'chinese', 'anarchism', 'included', 'tai', 'xu', 's', 'buddhist', 'anarchism', 'which', 'was', 'influenced_by', 'tolstoy', 'and', 'the', 'well', 'field', 'system', 'neopaganism', 'with', 'its', 'focus_on', 'the', 'environment', 'and', 'equality', 'along_with', 'its', 'often', 'decentralized_nature', 'has', 'lead', 'to', 'a', 'number', 'of', 'neopagan', 'anarchists', 'one', 'of', 'the', 'most_prominent', 'is', 'starhawk', 'who', 'writes', 'extensively', 'about', 'both', 'spirituality', 'and', 'activism', 'anarchism', 'and', 'feminism', 'emma_goldman', 'early', 'french', 'feminists', 'such_as', 'jenny', 'd', 'h', 'ricourt', 'and', 'juliette', 'adam', 'criticised', 'the', 'mysogyny', 'in', 'the', 'anarchism', 'of', 'proudhon', 'during', 'the', 'one', 'eight', 'five', 'zero', 's', 'anarcha_feminism', 'is', 'a', 'kind', 'of', 'radical_feminism', 'that', 'espouses', 'the', 'belief_that', 'patriarchy', 'is', 'a', 'fundamental', 'problem', 'in', 'society', 'while', 'anarchist', 'feminism', 'has', 'existed', 'for', 'more_than', 'a', 'hundred_years', 'its', 'explicit', 'formulation', 'as', 'anarcha_feminism', 'dates_back', 'to', 'the', 'early', 'seven', 'zero', 's', 'during', 'the', 'second_wave', 'feminist_movement', 'anarcha_feminism', 'views', 'patriarchy', 'as', 'the', 'first', 'manifestation', 'of', 'hierarchy', 'in', 'human', 'history', 'thus', 'the', 'first', 'form', 'of', 'oppression', 'occurred', 'in', 'the', 'dominance', 'of', 'male', 'over', 'female', 'anarcha', 'feminists', 'then', 'conclude_that', 'if', 'feminists', 'are', 'against', 'patriarchy', 'they', 'must', 'also', 'be', 'against', 'all', 'forms', 'of', 'hierarchy', 'and', 'therefore', 'must', 'reject', 'the', 'authoritarian', 'nature', 'of', 'the', 'state', 'and', 'capitalism_anarcho', 'primitivists', 'see', 'the', 'creation', 'of', 'gender_roles', 'and', 'patriarchy', 'a', 'creation', 'of', 'the', 'start', 'of', 'civilization', 'and', 'therefore', 'consider', 'primitivism', 'to', 'also', 'be', 'an', 'anarchist', 'school', 'of', 'thought', 'that', 'addresses', 'feminist', 'concerns', 'eco', 'feminism', 'is', 'often_considered', 'a', 'feminist', 'variant', 'of', 'green', 'anarchist', 'feminist', 'thought', 'anarcha_feminism', 'is', 'most', 'often_associated', 'with', 'early', 'two', 'zero', 'th_century', 'authors', 'and', 'theorists', 'such_as', 'emma_goldman', 'and', 'voltairine_de', 'cleyre', 'although', 'even', 'early', 'first', 'wave_feminist', 'mary_wollstonecraft', 'held', 'proto', 'anarchist', 'views', 'and', 'william_godwin', 'is', 'often_considered', 'a', 'feminist', 'anarchist', 'precursor', 'it', 'should_be', 'noted_that', 'goldman', 'and', 'de_cleyre', 'though', 'they', 'both', 'opposed', 'the', 'state', 'had', 'opposing', 'philosophies', 'as', 'de_cleyre', 'explains', 'miss', 'goldman', 'is', 'a', 'communist', 'i_am', 'an', 'individualist', 'she', 'wishes', 'to', 'destroy', 'the', 'right', 'of', 'property', 'i_wish', 'to', 'assert', 'it', 'i', 'make', 'my', 'war', 'upon', 'privilege', 'and', 'authority', 'whereby', 'the', 'right', 'of', 'property', 'the', 'true', 'right', 'in', 'that', 'which', 'is', 'proper', 'to', 'the', 'individual', 'is', 'annihilated', 'she_believes', 'that', 'co_operation', 'would', 'entirely', 'supplant', 'competition', 'i', 'hold', 'that', 'competition', 'in', 'one', 'form', 'or', 'another', 'will_always', 'exist', 'and', 'that', 'it', 'is', 'highly_desirable', 'it', 'should', 'in', 'the', 'spanish_civil', 'war', 'an', 'anarcha', 'feminist', 'group', 'free', 'women', 'organized', 'to', 'defend', 'both', 'anarchist', 'and', 'feminist_ideas', 'in', 'the', 'modern_day', 'anarchist_movement', 'many', 'anarchists', 'male', 'or', 'female', 'consider_themselves', 'feminists', 'and', 'anarcha', 'feminist_ideas', 'are', 'growing', 'the', 'publishing', 'of', 'quiet', 'rumors', 'an', 'anarcha', 'feminist', 'reader', 'has', 'helped', 'to', 'spread', 'various_kinds', 'of', 'anti_authoritarian', 'and', 'anarchist', 'feminist_ideas', 'to', 'the', 'broader', 'movement', 'wendy_mcelroy', 'has', 'popularized', 'an', 'individualist_anarchism', 'take', 'on', 'feminism', 'in', 'her', 'books', 'articles', 'and', 'individualist', 'feminist', 'website', 'anarcho_capitalism', 'murray_rothbard', 'one', 'nine', 'two', 'six', 'one', 'nine', 'nine', 'five', 'anarcho_capitalism', 'is', 'a', 'predominantly', 'united_states', 'based', 'theoretical', 'tradition', 'that', 'desires', 'a', 'stateless', 'society', 'with', 'the', 'economic', 'system', 'of', 'free_market', 'capitalism', 'unlike', 'other', 'branches', 'of', 'anarchism', 'it', 'does_not', 'oppose', 'profit', 'or', 'capitalism', 'consequently', 'most', 'anarchists', 'do_not', 'recognise', 'anarcho_capitalism', 'as', 'a', 'form', 'of', 'anarchism', 'murray_rothbard', 's', 'synthesis', 'of', 'classical_liberalism', 'and', 'austrian_economics', 'was', 'germinal', 'for', 'the', 'development', 'of', 'contemporary', 'anarcho_capitalist', 'theory', 'he', 'defines', 'anarcho_capitalism', 'in', 'terms', 'of', 'the', 'non_aggression', 'principle', 'based_on', 'the', 'concept', 'of', 'natural_law', 'competiting', 'theorists', 'use', 'egoism', 'utilitarianism', 'used', 'by', 'david_friedman', 'or', 'contractarianism', 'used', 'by', 'jan', 'narveson', 'some', 'minarchists', 'such_as', 'ayn_rand', 'robert_nozick', 'and', 'robert', 'a', 'heinlein', 'have', 'influenced', 'anarcho_capitalism', 'some', 'anarcho_capitalists', 'along_with', 'some', 'right_wing', 'libertarian', 'historians', 'such_as', 'david', 'hart', 'and', 'ralph', 'raico', 'considered', 'similar', 'philosophies', 'existing', 'prior_to', 'rothbard', 'to', 'be', 'anarcho_capitalist', 'such_as', 'those', 'of', 'gustave_de', 'molinari', 'and', 'auberon_herbert', 'opponents', 'of', 'anarcho_capitalists', 'dispute', 'these', 'claims', 'the', 'place', 'of', 'anarcho_capitalism', 'within', 'anarchism', 'and', 'indeed', 'whether', 'it', 'is', 'a', 'form', 'of', 'anarchism', 'at', 'all', 'is', 'highly_controversial', 'for', 'more', 'on', 'this', 'debate', 'see', 'anarchism', 'and', 'anarcho_capitalism', 'anarchism', 'and', 'the', 'environment', 'since', 'the', 'late', 'one', 'nine', 'seven', 'zero', 's', 'anarchists', 'in', 'anglophone', 'and', 'european_countries', 'have_been', 'taking', 'action', 'for', 'the', 'natural_environment', 'eco_anarchists', 'or', 'green', 'anarchists', 'believe', 'in', 'deep_ecology', 'this', 'is', 'a', 'worldview', 'that', 'embraces', 'biodiversity', 'and', 'sustainability', 'eco_anarchists', 'often', 'use', 'direct_action', 'against', 'what', 'they', 'see', 'as', 'earth', 'destroying', 'institutions', 'of', 'particular_importance', 'is', 'the', 'earth', 'first', 'movement', 'that', 'takes', 'action', 'such_as', 'tree', 'sitting', 'another', 'important_component', 'is', 'ecofeminism', 'which', 'sees', 'the', 'domination', 'of', 'nature', 'as', 'a', 'metaphor', 'for', 'the', 'domination', 'of', 'women', 'green_anarchism', 'also', 'involves', 'a', 'critique', 'of', 'industrial_capitalism', 'and', 'for', 'some', 'green', 'anarchists', 'civilization', 'itself', 'primitivism', 'is', 'a', 'predominantly', 'western_philosophy', 'that', 'advocates', 'a', 'return', 'to', 'a', 'pre_industrial', 'and', 'usually', 'pre', 'agricultural', 'society', 'it', 'develops', 'a', 'critique', 'of', 'industrial', 'civilization', 'in', 'this', 'critique', 'technology', 'and', 'development', 'have', 'alienated', 'people', 'from', 'the', 'natural', 'world', 'this', 'philosophy', 'develops', 'themes', 'present', 'in', 'the', 'political', 'action', 'of', 'the', 'luddites', 'and', 'the', 'writings', 'of', 'jean_jacques', 'rousseau', 'primitivism', 'developed', 'in', 'the', 'context', 'of', 'the', 'reclaim', 'the', 'streets', 'earth', 'first', 'and', 'the', 'earth_liberation', 'front', 'movements', 'john_zerzan', 'wrote', 'that', 'civilization', 'not', 'just', 'the', 'state', 'would', 'need', 'to', 'fall', 'for', 'anarchy', 'to', 'be_achieved', 'anarcho', 'primitivists', 'point', 'to', 'the', 'anti_authoritarian', 'nature', 'of', 'many', 'primitive', 'or', 'hunter_gatherer', 'societies', 'throughout', 'the', 'world', 's', 'history', 'as', 'examples', 'of', 'anarchist', 'societies', 'other', 'branches', 'and', 'offshoots', 'anarchism', 'generates', 'many', 'eclectic', 'and', 'syncretic', 'philosophies', 'and', 'movements', 'since', 'the', 'western', 'social', 'formet', 'in', 'the', 'one', 'nine', 'six', 'zero', 's', 'and', 'one', 'nine', 'seven', 'zero', 's', 'a', 'number', 'new', 'of', 'movements', 'and', 'schools', 'have', 'appeared', 'most', 'of', 'these', 'stances', 'are', 'limited', 'to', 'even', 'smaller', 'numbers', 'than', 'the', 'schools', 'and', 'movements', 'listed_above', 'hakim_bey', 'post', 'left_anarchy', 'post', 'left_anarchy', 'also', 'called', 'egoist', 'anarchism', 'seeks', 'to', 'distance', 'itself', 'from', 'the', 'traditional', 'left', 'communists', 'liberals', 'social_democrats', 'etc', 'and', 'to', 'escape', 'the', 'confines', 'of', 'ideology', 'in', 'general', 'post', 'leftists', 'argue_that', 'anarchism', 'has_been', 'weakened', 'by', 'its', 'long', 'attachment', 'to', 'contrary', 'leftist', 'movements', 'and', 'single', 'issue', 'causes', 'anti', 'war', 'anti', 'nuclear', 'etc', 'it', 'calls', 'for', 'a', 'synthesis', 'of', 'anarchist', 'thought', 'and', 'a', 'specifically', 'anti_authoritarian', 'revolutionary_movement', 'outside', 'of', 'the', 'leftist', 'milieu', 'it', 'often', 'focuses_on', 'the', 'individual', 'rather_than', 'speaking', 'in', 'terms', 'of', 'class', 'or', 'other', 'broad', 'generalizations', 'and', 'shuns', 'organizational', 'tendencies', 'in', 'favor', 'of', 'the', 'complete_absence', 'of', 'explicit', 'hierarchy', 'important', 'groups', 'and', 'individuals', 'associated_with', 'post', 'left_anarchy', 'include', 'crimethinc', 'the', 'magazine', 'anarchy', 'a', 'journal', 'of', 'desire', 'armed', 'and', 'its', 'editor', 'jason', 'mcquinn', 'bob', 'black', 'hakim_bey', 'and', 'others', 'for', 'more', 'information', 'see', 'infoshop_org', 's', 'anarchy', 'after', 'leftism', 'section', 'and', 'the', 'post', 'left', 'section', 'on', 'anarchism', 'ws', 'see_also', 'post', 'left_anarchy', 'post_structuralism', 'the', 'term', 'postanarchism', 'was', 'originated', 'by', 'saul', 'newman', 'first', 'receiving', 'popular', 'attention', 'in', 'his', 'book', 'from', 'bakunin', 'to', 'lacan', 'to', 'refer_to', 'a', 'theoretical', 'move_towards', 'a', 'synthesis', 'of', 'classical', 'anarchist', 'theory', 'and', 'poststructuralist', 'thought', 'subsequent', 'to', 'newman', 's', 'use', 'of', 'the', 'term', 'however', 'it', 'has', 'taken', 'on', 'a', 'life', 'of', 'its_own', 'and', 'a', 'wide_range', 'of', 'ideas', 'including', 'autonomism', 'post', 'left_anarchy', 'situationism', 'post', 'colonialism', 'and', 'zapatismo', 'by', 'its', 'very', 'nature', 'post', 'anarchism', 'rejects', 'the', 'idea', 'that', 'it', 'should_be', 'a', 'coherent', 'set', 'of', 'doctrines', 'and', 'beliefs', 'as', 'such', 'it', 'is', 'difficult', 'if', 'not', 'impossible', 'to', 'state', 'with', 'any', 'degree', 'of', 'certainty', 'who', 'should', 'or', 'shouldn_t', 'be', 'grouped_under', 'the', 'rubric', 'nonetheless', 'key', 'thinkers', 'associated_with', 'post', 'anarchism', 'include', 'saul', 'newman', 'todd', 'may', 'gilles_deleuze', 'and', 'f_lix', 'guattari', 'external', 'reference', 'postanarchism', 'clearinghouse', 'see_also', 'post', 'anarchism', 'insurrectionary', 'anarchism', 'insurrectionary', 'anarchism', 'is', 'a', 'form', 'of', 'revolutionary', 'anarchism', 'critical', 'of', 'formal', 'anarchist', 'labor_unions', 'and', 'federations', 'insurrectionary', 'anarchists', 'advocate', 'informal', 'organization', 'including', 'small', 'affinity', 'groups', 'carrying_out', 'acts', 'of', 'resistance', 'in', 'various', 'struggles', 'and', 'mass', 'organizations', 'called', 'base', 'structures', 'which', 'can', 'include', 'exploited', 'individuals_who', 'are', 'not', 'anarchists', 'proponents', 'include', 'wolfi', 'landstreicher', 'and', 'alfredo', 'm', 'bonanno', 'author', 'of', 'works', 'including', 'armed', 'joy', 'and', 'the', 'anarchist', 'tension', 'this', 'tendency', 'is', 'represented', 'in', 'the', 'us', 'in', 'magazines', 'such_as', 'willful', 'disobedience', 'and', 'killing', 'king', 'abacus', 'see_also', 'insurrectionary', 'anarchism', 'small', 'a', 'anarchism', 'small', 'a', 'anarchism', 'is', 'a', 'term', 'used', 'in', 'two', 'different', 'but', 'not', 'unconnected', 'contexts', 'dave', 'neal', 'posited', 'the', 'term', 'in', 'opposition', 'to', 'big', 'a', 'anarchism', 'in', 'the', 'article', 'anarchism', 'ideology', 'or', 'methodology', 'while', 'big', 'a', 'anarchism', 'referred_to', 'ideological', 'anarchists', 'small', 'a', 'anarchism', 'was', 'applied', 'to', 'their', 'methodological', 'counterparts', 'those_who', 'viewed', 'anarchism', 'as', 'a', 'way', 'of', 'acting', 'or', 'a', 'historical', 'tendency', 'against', 'illegitimate', 'authority', 'as', 'an', 'anti', 'ideological', 'position', 'small', 'a', 'anarchism', 'shares', 'some', 'similarities', 'with', 'post', 'left_anarchy', 'david', 'graeber', 'and', 'andrej', 'grubacic', 'offer', 'an_alternative', 'use', 'of', 'the', 'term', 'applying', 'it', 'to', 'groups', 'and', 'movements', 'organising', 'according_to', 'or', 'acting', 'in', 'a', 'manner_consistent', 'with', 'anarchist_principles', 'of', 'decentralisation', 'voluntary_association', 'mutual_aid', 'the', 'network', 'model', 'and', 'crucially', 'the', 'rejection', 'of', 'any', 'idea', 'that', 'the', 'end', 'justifies', 'the', 'means', 'let_alone', 'that', 'the', 'business', 'of', 'a', 'revolutionary', 'is', 'to', 'seize', 'state', 'power', 'and', 'then', 'begin', 'imposing', 'one', 's', 'vision', 'at', 'the', 'point', 'of', 'a', 'gun', 'other', 'issues', 'conceptions', 'of', 'an', 'anarchist_society', 'many', 'political', 'philosophers', 'justify', 'support', 'of', 'the', 'state', 'as', 'a', 'means', 'of', 'regulating', 'violence', 'so', 'that', 'the', 'destruction', 'caused_by', 'human', 'conflict', 'is', 'minimized', 'and', 'fair', 'relationships', 'are', 'established', 'anarchists', 'argue_that', 'pursuit', 'of', 'these', 'ends', 'does_not', 'justify', 'the', 'establishment', 'of', 'a', 'state', 'many', 'argue_that', 'the', 'state', 'is', 'incompatible_with', 'those', 'goals', 'and', 'the', 'cause', 'of', 'chaos', 'violence', 'and', 'war', 'anarchists', 'argue_that', 'the', 'state', 'helps', 'to', 'create', 'a', 'monopoly', 'on', 'violence', 'and', 'uses', 'violence', 'to', 'advance', 'elite', 'interests', 'much', 'effort', 'has_been', 'dedicated', 'to', 'explaining_how', 'anarchist', 'societies', 'would', 'handle', 'criminality', 'see_also', 'anarchism', 'and', 'society', 'civil_rights', 'and', 'cultural', 'sovereignty', 'black', 'anarchism', 'opposes', 'the', 'existence', 'of', 'a', 'state', 'capitalism', 'and', 'subjugation', 'and', 'domination', 'of', 'people', 'of', 'color', 'and', 'favors', 'a', 'non', 'hierarchical_organization', 'of', 'society', 'theorists', 'include', 'ashanti', 'alston', 'lorenzo', 'komboa', 'ervin', 'and', 'sam', 'mbah', 'anarchist', 'people', 'of', 'color', 'was', 'created', 'as', 'a', 'forum', 'for', 'non', 'caucasian', 'anarchists', 'to', 'express', 'their', 'thoughts', 'about', 'racial', 'issues', 'within', 'the', 'anarchist_movement', 'particularly', 'within', 'the', 'united_states', 'national', 'anarchism', 'is', 'a', 'political', 'view', 'which', 'seeks', 'to', 'unite', 'cultural', 'or', 'ethnic', 'preservation', 'with', 'anarchist', 'views', 'its_adherents', 'propose', 'that', 'those', 'preventing', 'ethnic_groups', 'or', 'races', 'from', 'living', 'in', 'separate', 'autonomous', 'groupings', 'should_be', 'resisted', 'anti_racist', 'action', 'is', 'not', 'an', 'anarchist', 'group', 'but', 'many', 'anarchists', 'are', 'involved', 'it', 'focuses_on', 'publicly', 'confronting', 'racist', 'agitators', 'the', 'zapatista', 'movement', 'of', 'chiapas_mexico', 'is', 'a', 'cultural', 'sovereignty', 'group', 'with', 'some', 'anarchist', 'proclivities', 'neocolonialism', 'and', 'globalization', 'nearly_all', 'anarchists', 'oppose', 'neocolonialism', 'as', 'an_attempt', 'to', 'use', 'economic_coercion', 'on', 'a', 'global_scale', 'carried_out', 'through', 'state', 'institutions', 'such_as', 'the', 'world_bank', 'world_trade', 'organization', 'group', 'of', 'eight', 'and', 'the', 'world', 'economic_forum', 'globalization', 'is', 'an', 'ambiguous', 'term', 'that', 'has', 'different_meanings', 'to', 'different', 'anarchist', 'factions', 'most', 'anarchists', 'use', 'the', 'term', 'to', 'mean', 'neocolonialism', 'and', 'or', 'cultural_imperialism', 'which', 'they', 'may', 'see', 'as', 'related', 'many', 'are', 'active', 'in', 'the', 'anti_globalization', 'movement', 'others', 'particularly', 'anarcho_capitalists', 'use', 'globalization', 'to', 'mean', 'the', 'worldwide', 'expansion', 'of', 'the', 'division', 'of', 'labor', 'and', 'trade', 'which', 'they', 'see', 'as', 'beneficial', 'so', 'long', 'as', 'governments', 'do_not', 'intervene', 'parallel', 'structures', 'many', 'anarchists', 'try', 'to', 'set_up', 'alternatives', 'to', 'state', 'supported', 'institutions', 'and', 'outposts', 'such_as', 'food', 'not', 'bombs', 'infoshops', 'educational', 'systems', 'such_as', 'home_schooling', 'neighborhood', 'mediation_arbitration', 'groups', 'and', 'so', 'on', 'the', 'idea', 'is', 'to', 'create', 'the', 'structures', 'for', 'a', 'new', 'anti_authoritarian', 'society', 'in', 'the', 'shell', 'of', 'the', 'old', 'authoritarian', 'one', 'technology', 'recent', 'technological_developments', 'have', 'made', 'the', 'anarchist', 'cause', 'both', 'easier', 'to', 'advance', 'and', 'more', 'conceivable', 'to', 'people', 'many', 'people', 'use', 'the', 'internet', 'to', 'form', 'on', 'line', 'communities', 'intellectual_property', 'is', 'undermined', 'and', 'a', 'gift', 'culture', 'supported_by', 'sharing', 'music', 'files', 'open_source', 'programming', 'and', 'the', 'free_software', 'movement', 'these', 'cyber', 'communities', 'include', 'the', 'gnu_linux', 'indymedia', 'and', 'wiki', 'some', 'anarchists', 'see', 'information_technology', 'as', 'the', 'best', 'weapon', 'to', 'defeat', 'authoritarianism', 'some', 'even', 'think', 'the', 'information', 'age', 'makes', 'eventual', 'anarchy', 'inevitable', 'see_also', 'crypto_anarchism', 'and', 'cypherpunk', 'pacifism', 'some', 'anarchists', 'consider', 'pacifism', 'opposition', 'to', 'war', 'to', 'be', 'inherent', 'in', 'their', 'philosophy', 'anarcho', 'pacifists', 'take', 'it', 'further', 'and', 'follow', 'leo_tolstoy', 's', 'belief', 'in', 'non_violence', 'anarchists', 'see', 'war', 'as', 'an', 'activity', 'in', 'which', 'the', 'state', 'seeks', 'to', 'gain', 'and', 'consolidate_power', 'both', 'domestically', 'and', 'in', 'foreign', 'lands', 'and', 'subscribe', 'to', 'randolph', 'bourne', 's', 'view', 'that', 'war', 'is', 'the', 'health', 'of', 'the', 'state', 'a_lot', 'of', 'anarchist', 'activity', 'has_been', 'anti', 'war', 'based', 'parliamentarianism', 'in', 'general', 'terms', 'the', 'anarchist', 'ethos', 'opposes', 'voting', 'in', 'elections', 'because', 'voting', 'amounts', 'to', 'condoning', 'the', 'state', 'voluntaryism', 'is', 'an', 'anarchist', 'school', 'of', 'thought', 'which', 'emphasizes', 'tending', 'your_own', 'garden', 'and', 'neither', 'ballots', 'nor', 'bullets', 'the', 'anarchist', 'case', 'against', 'voting', 'is', 'explained', 'in', 'the', 'ethics', 'of', 'voting', 'by', 'george_h', 'smith', 'also', 'see', 'voting', 'anarchists', 'an_oxymoron', 'or', 'what', 'by', 'joe', 'peacott', 'and', 'writings', 'by', 'fred', 'woodworth', 'sectarianism', 'most', 'anarchist', 'schools', 'of', 'thought', 'are', 'to', 'some_degree', 'sectarian', 'there', 'is', 'often', 'a', 'difference', 'of', 'opinion', 'within', 'each', 'school', 'about', 'how', 'to', 'react', 'to', 'or', 'interact_with', 'other', 'schools', 'some', 'such_as', 'panarchists', 'believe_that', 'it', 'is', 'possible', 'for', 'a', 'variety', 'of', 'modes', 'of', 'social', 'life', 'to', 'coexist', 'and', 'compete', 'some', 'anarchists', 'view', 'opposing', 'schools', 'as', 'a', 'social', 'impossibility', 'and', 'resist', 'interaction', 'others', 'see', 'opportunities_for', 'coalition', 'building', 'or', 'at_least', 'temporary', 'alliances', 'for', 'specific_purposes', 'see', 'anarchism', 'without', 'adjectives', 'criticisms', 'of', 'anarchism', 'main_article', 'criticisms', 'of', 'anarchism', 'violence', 'since', 'anarchism', 'has', 'often', 'been', 'associated_with', 'violence', 'and', 'destruction', 'some', 'people', 'have', 'seen', 'it', 'as', 'being', 'too', 'violent', 'on', 'the', 'other_hand', 'hand', 'frederick_engels', 'criticsed', 'anarchists', 'for', 'not', 'being', 'violent', 'enough', 'a', 'revolution', 'is', 'certainly', 'the', 'most', 'authoritarian', 'thing', 'there', 'is', 'it', 'is', 'the', 'act', 'whereby', 'one', 'part', 'of', 'the', 'population', 'imposes', 'its', 'will', 'upon', 'the', 'other', 'part', 'by', 'means', 'of', 'rifles', 'bayonets', 'and', 'cannon', 'authoritarian', 'means', 'if', 'such', 'there', 'be', 'at', 'all', 'and', 'if', 'the', 'victorious', 'party', 'does_not', 'want', 'to', 'have', 'fought', 'in', 'vain', 'it', 'must', 'maintain', 'this', 'rule', 'by', 'means', 'of', 'the', 'terror', 'which', 'its', 'arms', 'inspire', 'in', 'the', 'reactionists', 'would', 'the', 'paris_commune', 'have', 'lasted', 'a', 'single', 'day', 'if', 'it', 'had', 'not', 'made', 'use', 'of', 'this', 'authority', 'of', 'the', 'armed', 'people', 'against', 'the', 'bourgeois', 'utopianism', 'anarchism', 'is', 'often_criticised', 'as', 'unfeasible', 'or', 'plain', 'utopian', 'even', 'by', 'many', 'who', 'agree_that', 'it', 's', 'a', 'nice', 'idea', 'in', 'principle', 'for_example', 'carl', 'landauer', 'in', 'his', 'book', 'european', 'socialism', 'criticizes', 'anarchism', 'as', 'being', 'unrealistically', 'utopian', 'and', 'holds_that', 'government', 'is', 'a', 'lesser', 'evil', 'than', 'a', 'society', 'without', 'repressive', 'force', 'he', 'holds_that', 'the', 'belief_that', 'ill', 'intentions', 'will_cease', 'if', 'repressive', 'force', 'disappears', 'is', 'an', 'absurdity', 'however', 'it', 'must_be', 'noted_that', 'not', 'all', 'anarchists', 'have', 'such', 'a', 'utopian', 'view', 'of', 'anarchism', 'for_example', 'some', 'such_as', 'benjamin_tucker', 'advocate', 'privately_funded', 'institutions', 'that', 'defend', 'individual_liberty', 'and', 'property', 'however', 'other', 'anarchists', 'such_as', 'sir_herbert', 'read', 'proudly', 'accept', 'the', 'characterization', 'utopian', 'class', 'character', 'marxists', 'have', 'characterised', 'anarchism', 'as', 'an', 'expression', 'of', 'the', 'class', 'interests', 'of', 'the', 'petite', 'bourgeoisie', 'or', 'perhaps', 'the', 'lumpenproletariat', 'see', 'e_g', 'plekhanov', 'for', 'a', 'marxist_critique', 'of', 'one', 'eight', 'nine', 'five', 'anarchists', 'have', 'also', 'been', 'characterised', 'as', 'spoilt', 'middle_class', 'dilettantes', 'most_recently', 'in', 'relation', 'to', 'anti_capitalist', 'protesters', 'tacit', 'authoritarianism', 'in', 'recent_decades', 'anarchism', 'has_been', 'criticised', 'by', 'situationists', 'post', 'anarchists', 'and', 'others', 'of', 'preserving', 'tacitly', 'statist', 'authoritarian', 'or', 'bureaucratic', 'tendencies', 'behind', 'a', 'dogmatic', 'facade', 'hypocrisy', 'some_critics', 'point', 'to', 'the', 'sexist', 'and', 'racist_views', 'of', 'some', 'prominent', 'anarchists', 'notably', 'proudhon', 'and', 'bakunin', 'as', 'examples', 'of', 'hypocrisy', 'inherent', 'within', 'anarchism', 'while', 'many', 'anarchists', 'however', 'dismiss', 'that', 'the', 'personal', 'prejudices', 'of', 'one', 'nine', 'th_century', 'theorists', 'influence', 'the', 'beliefs', 'of', 'present_day', 'anarchists', 'others', 'criticise', 'modern', 'anarchism', 'for', 'continuing', 'to', 'be', 'eurocentric', 'and', 'reference', 'the', 'impact', 'of', 'anarchist', 'thinkers', 'like', 'proudhon', 'on', 'fascism', 'through', 'groups', 'like', 'cercle', 'proudhon', 'anarcho_capitalist', 'bryan', 'caplan', 'argues_that', 'the', 'treatment', 'of', 'fascists', 'and', 'suspected', 'fascist', 'sympathizers', 'by', 'spanish', 'anarchists', 'in', 'the', 'spanish_civil', 'war', 'was', 'a', 'form', 'of', 'illegitimate', 'coercion', 'making', 'the', 'proffessed', 'anarchists', 'ultimately', 'just', 'a', 'third', 'faction', 'of', 'totalitarians', 'alongside', 'the', 'communists', 'and', 'fascists', 'he', 'also', 'criticizes', 'the', 'willingness', 'of', 'the', 'cnt', 'to', 'join', 'the', 'statist', 'republican', 'government', 'during', 'the', 'civil_war', 'and', 'references', 'stanley', 'g', 'payne', 's', 'book', 'on', 'the', 'franco_regime', 'which', 'claims', 'that', 'the', 'cnt', 'entered', 'negotiations', 'with', 'the', 'fascist', 'government', 'six', 'years', 'after', 'the', 'war', 'cultural', 'phenomena', 'noam_chomsky', 'one', 'nine', 'two', 'eight', 'the', 'kind', 'of', 'anarchism', 'that', 'is', 'most', 'easily', 'encountered', 'in', 'popular_culture', 'is', 'represented_by', 'celebrities', 'who', 'publicly', 'identify_themselves', 'as', 'anarchists', 'although', 'some', 'anarchists', 'reject_any', 'focus_on', 'such', 'famous', 'living', 'individuals', 'as', 'inherently', 'litist', 'the', 'following', 'figures', 'are', 'examples', 'of', 'prominent', 'publicly', 'self', 'avowed', 'anarchists', 'the', 'mit', 'professor', 'of', 'linguistics', 'noam_chomsky', 'the', 'science_fiction', 'author', 'ursula_k', 'le_guin', 'the', 'social', 'historian', 'howard_zinn', 'entertainer', 'and', 'author', 'hans', 'alfredsson', 'the', 'avant_garde', 'artist', 'nicol', 's', 'rossell', 'in', 'denmark', 'the', 'freetown', 'christiania', 'was', 'created', 'in', 'downtown', 'copenhagen', 'the', 'housing', 'and', 'employment', 'crisis', 'in', 'most', 'of', 'western_europe', 'led', 'to', 'the', 'formation', 'of', 'communes', 'and', 'squatter', 'movements', 'like', 'the', 'one', 'still', 'thriving', 'in', 'barcelona', 'in', 'catalonia', 'militant', 'resistance', 'to', 'neo_nazi', 'groups', 'in', 'places', 'like', 'germany', 'and', 'the', 'uprisings', 'of', 'autonomous', 'marxism', 'situationist', 'and', 'autonomist', 'groups', 'in', 'france', 'and', 'italy', 'also', 'helped', 'to', 'give', 'popularity', 'to', 'anti_authoritarian', 'non', 'capitalist', 'ideas', 'in', 'various', 'musical_styles', 'anarchism', 'rose', 'in', 'popularity', 'most_famous', 'for', 'the', 'linking', 'of', 'anarchist_ideas', 'and', 'music', 'has_been', 'punk_rock', 'although', 'in', 'the', 'modern', 'age', 'hip_hop', 'and', 'folk_music', 'are', 'also', 'becoming', 'important', 'mediums', 'for', 'the', 'spreading', 'of', 'the', 'anarchist', 'message', 'in', 'the', 'uk', 'this', 'was', 'associated_with', 'the', 'punk_rock', 'movement', 'the', 'band_crass', 'is', 'celebrated', 'for', 'its', 'anarchist', 'and', 'pacifist', 'ideas', 'the', 'dutch', 'punk_band', 'the', 'ex', 'further', 'exemplifies', 'this', 'expression', 'for', 'further_details', 'see', 'anarcho_punk', 'see_also', 'there_are', 'many', 'concepts', 'relevant', 'to', 'the', 'topic', 'of', 'anarchism', 'this', 'is', 'a', 'brief_summary', 'there', 'is', 'also', 'a', 'more', 'extensive', 'list', 'of', 'anarchist', 'concepts', 'individualist_anarchism', 'anarcho_communism', 'anarcho_syndicalism', 'anarcho_capitalism', 'mutualism', 'christian_anarchism', 'anarcha_feminism', 'green_anarchism', 'nihilist', 'anarchism_anarcho', 'nationalism', 'black', 'anarchism', 'national', 'anarchism', 'post', 'anarchism', 'post', 'left', 'anarchism', 'libertarian_socialism', 'anarchist', 'symbolism', 'list', 'of', 'anarchism', 'links', 'list', 'of', 'anarchists', 'list', 'of', 'anarchist_organizations', 'major', 'conflicts', 'within', 'anarchist', 'thought', 'past', 'and', 'present', 'anarchist', 'communities', 'historical_events', 'paris_commune', 'one', 'eight', 'seven', 'one', 'haymarket_riot', 'one', 'eight', 'eight', 'six', 'the', 'makhnovschina', 'one', 'nine', 'one', 'seven', 'one', 'nine', 'two', 'one', 'kronstadt_rebellion', 'one', 'nine', 'two', 'one', 'spanish', 'revolution', 'one', 'nine', 'three', 'six', 'see', 'anarchism', 'in', 'spain', 'and', 'spanish', 'revolution', 'may', 'one', 'nine', 'six', 'eight', 'france', 'one', 'nine', 'six', 'eight', 'wto', 'meeting', 'in', 'seattle', 'one', 'nine', 'nine', 'nine', 'books', 'the', 'following', 'is', 'a', 'sample', 'of', 'books', 'that', 'have_been', 'referenced', 'in', 'this', 'page', 'a', 'more', 'complete_list', 'can_be', 'found', 'at', 'the', 'list', 'of', 'anarchist', 'books', 'mikhail_bakunin', 'god', 'and', 'the', 'state', 'emma_goldman', 'anarchism', 'other', 'essays', 'peter_kropotkin', 'mutual_aid', 'pierre_joseph', 'proudhon', 'what', 'is', 'property', 'rudolf_rocker', 'anarcho_syndicalism', 'murray_rothbard', 'the', 'ethics', 'of', 'liberty', 'max_stirner', 'the', 'ego', 'and', 'its_own', 'leo_tolstoy', 'the', 'kingdom', 'of', 'god', 'is', 'within', 'you', 'anarchism', 'by', 'region', 'culture', 'african', 'anarchism', 'anarchism', 'in', 'spain', 'anarchism', 'in', 'the', 'english', 'tradition', 'chinese', 'anarchism', 'references', 'these', 'notes', 'have', 'no', 'corresponding', 'reference', 'in', 'the', 'article', 'they', 'might_be', 're', 'used', 'against', 'politics', 'appleton', 'boston', 'anarchists', 'yarros', 'victor', 'liberty', 'vii', 'january', 'two', 'one', 'eight', 'nine', 'two', 'noam_chomsky', 'on', 'anarchism', 'by', 'noam_chomsky', 'external_links', 'the', 'overwhelming', 'diversity', 'and', 'number', 'of', 'links', 'relating_to', 'anarchism', 'is', 'extensively_covered', 'on', 'the', 'links', 'subpage', 'anarchoblogs', 'blogs', 'by', 'anarchists', 'anarchy', 'archives', 'extensively', 'archives', 'information', 'relating_to', 'famous', 'anarchists', 'this', 'includes', 'many', 'of', 'their', 'books', 'and', 'other', 'publications', 'hundreds', 'of', 'anarchists', 'are_listed', 'with', 'short', 'bios', 'links', 'dedicated', 'pages', 'at', 'the', 'daily', 'bleed', 's', 'anarchist', 'encyclopedia', 'infoshop_org', 'wikipedia_page', 'industrial_workers', 'of', 'the', 'world', 'anarchism', 'forms', 'of', 'government', 'political_ideology', 'entry', 'points', 'political', 'theories', 'social', 'philosophy', 'autism', 'is', 'classified_as', 'a', 'neurodevelopmental', 'disorder', 'that', 'manifests_itself', 'in', 'markedly', 'abnormal', 'social_interaction', 'communication', 'ability', 'patterns', 'of', 'interests', 'and', 'patterns', 'of', 'behavior', 'although', 'the', 'specific', 'etiology', 'of', 'autism', 'is', 'unknown', 'many', 'researchers', 'suspect', 'that', 'autism', 'results', 'from', 'genetically', 'mediated', 'vulnerabilities', 'to', 'environmental', 'triggers', 'and', 'while', 'there', 'is', 'disagreement_about', 'the', 'magnitude', 'nature', 'and', 'mechanisms', 'for', 'such', 'environmental_factors', 'researchers_have', 'found', 'at_least', 'seven', 'major', 'genes', 'prevalent_among', 'individuals', 'diagnosed', 'as', 'autistic', 'some', 'estimate', 'that', 'autism', 'occurs', 'in', 'as', 'many', 'as', 'one', 'united_states', 'child', 'in', 'one', 'six', 'six', 'however', 'the', 'national_institute', 'of', 'mental_health', 'gives', 'a', 'more', 'conservative_estimate', 'of', 'one', 'in', 'one', 'zero', 'zero', 'zero', 'for', 'families', 'that', 'already', 'have', 'one', 'autistic_child', 'the', 'odds', 'of', 'a', 'second', 'autistic_child', 'may_be', 'as', 'high', 'as', 'one', 'in', 'twenty', 'diagnosis', 'is', 'based_on', 'a', 'list', 'of', 'psychiatric', 'criteria', 'and', 'a', 'series', 'of', 'standardized', 'clinical_tests', 'may', 'also', 'be', 'used', 'autism', 'may', 'not', 'be', 'physiologically', 'obvious', 'a', 'complete', 'physical', 'and', 'neurological', 'evaluation', 'will', 'typically', 'be', 'part', 'of', 'diagnosing', 'autism', 'some', 'now', 'speculate_that', 'autism', 'is', 'not', 'a', 'single', 'condition', 'but', 'a', 'group', 'of', 'several', 'distinct', 'conditions', 'that', 'manifest', 'in', 'similar', 'ways', 'by', 'definition', 'autism', 'must', 'manifest', 'delays', 'in', 'social_interaction', 'language', 'as', 'used', 'in', 'social', 'communication', 'or', 'symbolic', 'or', 'imaginative', 'play', 'with', 'onset', 'prior_to', 'age', 'three', 'years', 'according_to', 'the', 'diagnostic', 'and', 'statistical_manual', 'of', 'mental_disorders', 'the', 'icd', 'one', 'zero', 'also', 'says_that', 'symptoms', 'must', 'manifest', 'before', 'the', 'age', 'of', 'three', 'years', 'there', 'have_been', 'large', 'increases', 'in', 'the', 'reported', 'incidence', 'of', 'autism', 'for', 'reasons', 'that', 'are', 'heavily_debated', 'by', 'researchers', 'in', 'psychology', 'and', 'related_fields', 'within', 'the', 'scientific_community', 'some', 'children', 'with', 'autism', 'have', 'improved', 'their', 'social', 'and', 'other', 'skills', 'to', 'the', 'point', 'where', 'they', 'can', 'fully', 'participate', 'in', 'mainstream', 'education', 'and', 'social', 'events', 'but', 'there_are', 'lingering', 'concerns', 'that', 'an', 'absolute', 'cure', 'from', 'autism', 'is', 'impossible', 'with', 'current', 'technology', 'however', 'many', 'autistic_children', 'and', 'adults', 'who', 'are', 'able_to', 'communicate', 'at_least', 'in', 'writing', 'are', 'opposed', 'to', 'attempts', 'to', 'cure', 'their', 'conditions', 'and', 'see', 'such', 'conditions', 'as', 'part', 'of', 'who', 'they', 'are', 'history', 'dr', 'hans_asperger', 'described', 'a', 'form', 'of', 'autism', 'in', 'the', 'one', 'nine', 'four', 'zero', 's', 'that', 'later_became', 'known_as', 'asperger_s', 'syndrome', 'the', 'word', 'autism', 'was', 'first', 'used', 'in', 'the', 'english_language', 'by', 'swiss_psychiatrist', 'eugene_bleuler', 'in', 'a', 'one', 'nine', 'one', 'two', 'number', 'of', 'the', 'american', 'journal', 'of', 'insanity', 'it', 'comes_from', 'the', 'greek_word', 'for', 'self', 'however', 'the', 'classification', 'of', 'autism', 'did_not', 'occur', 'until', 'the', 'middle', 'of', 'the', 'twentieth_century', 'when', 'in', 'one', 'nine', 'four', 'three', 'psychiatrist_dr', 'leo', 'kanner', 'of', 'the', 'johns_hopkins', 'hospital', 'in', 'baltimore', 'reported', 'on', 'one', 'one', 'child', 'patients', 'with', 'striking', 'behavioral', 'similarities', 'and', 'introduced', 'the', 'label', 'early_infantile', 'autism', 'he', 'suggested', 'autism', 'from', 'the', 'greek', 'autos', 'meaning', 'self', 'to', 'describe', 'the', 'fact_that', 'the', 'children', 'seemed', 'to', 'lack', 'interest', 'in', 'other', 'people', 'although', 'kanner', 's', 'first', 'paper', 'on', 'the', 'subject', 'was', 'published', 'in', 'a', 'now_defunct', 'journal', 'the', 'nervous', 'child', 'almost_every', 'characteristic', 'he', 'originally', 'described', 'is', 'still', 'regarded_as', 'typical', 'of', 'the', 'autistic_spectrum', 'of', 'disorders', 'at', 'the', 'same_time', 'an', 'austrian', 'scientist', 'dr', 'hans_asperger', 'described', 'a', 'different', 'form', 'of', 'autism', 'that', 'became_known', 'as', 'asperger_s', 'syndrome', 'but', 'the', 'widespread', 'recognition', 'of', 'asperger_s', 'work', 'was', 'delayed', 'by', 'world_war', 'ii', 'in', 'germany', 'and', 'by', 'the', 'fact_that', 'his', 'seminal', 'paper', 'wasn_t', 'translated_into', 'english', 'for', 'almost', 'five', 'zero', 'years', 'the', 'majority', 'of', 'his', 'work', 'wasn_t', 'widely_read', 'until', 'one', 'nine', 'nine', 'seven', 'thus', 'these', 'two', 'conditions', 'were', 'described', 'and', 'are', 'today', 'listed', 'in', 'the', 'diagnostic', 'and', 'statistical_manual', 'of', 'mental_disorders', 'dsm_iv', 'tr', 'fourth_edition', 'text', 'revision', 'one', 'as', 'two', 'of', 'the', 'five', 'pervasive_developmental', 'disorders', 'pdd', 'more', 'often_referred', 'to', 'today', 'as', 'autism_spectrum', 'disorders', 'asd', 'all', 'of', 'these', 'conditions', 'are', 'characterized_by', 'varying_degrees', 'of', 'difference', 'in', 'communication_skills', 'social_interactions', 'and', 'restricted', 'repetitive', 'and', 'stereotyped', 'patterns', 'of', 'behavior', 'few', 'clinicians', 'today', 'solely', 'use', 'the', 'dsm_iv', 'criteria_for', 'determining', 'a', 'diagnosis', 'of', 'autism', 'which', 'are', 'based_on', 'the', 'absence', 'or', 'delay', 'of', 'certain', 'developmental', 'milestones', 'many', 'clinicians', 'instead', 'use', 'an_alternate', 'means', 'or', 'a', 'combination_thereof', 'to', 'more_accurately', 'determine', 'a', 'diagnosis', 'terminology', 'when_referring', 'to', 'someone', 'diagnosed_with', 'autism', 'the', 'term', 'autistic', 'is', 'often_used', 'however', 'the', 'term', 'person', 'with', 'autism', 'can_be', 'used', 'instead', 'this', 'is', 'referred_to', 'as', 'person', 'first', 'terminology', 'the', 'autistic', 'community', 'generally', 'prefers', 'the', 'term', 'autistic', 'for', 'reasons', 'that', 'are', 'fairly', 'controversial', 'this_article', 'uses', 'the', 'term', 'autistic', 'see', 'talk_page', 'characteristics', 'dr_leo', 'kanner', 'introduced', 'the', 'label', 'early_infantile', 'autism', 'in', 'one', 'nine', 'four', 'three', 'there', 'is', 'a', 'great_diversity', 'in', 'the', 'skills', 'and', 'behaviors', 'of', 'individuals', 'diagnosed', 'as', 'autistic', 'and', 'physicians', 'will', 'often', 'arrive_at', 'different', 'conclusions_about', 'the', 'appropriate', 'diagnosis', 'much', 'of', 'this', 'is', 'due_to', 'the', 'sensory', 'system', 'of', 'an', 'autistic', 'which', 'is', 'quite_different', 'from', 'the', 'sensory', 'system', 'of', 'other', 'people', 'since', 'certain', 'stimulations', 'can_affect', 'an', 'autistic', 'differently', 'than', 'a', 'non_autistic', 'and', 'the', 'degree', 'to', 'which', 'the', 'sensory', 'system', 'is', 'affected', 'varies_wildly', 'from', 'one', 'autistic', 'person', 'to', 'another', 'nevertheless', 'professionals', 'within', 'pediatric', 'care', 'and', 'development', 'often', 'look', 'for', 'early', 'indicators', 'of', 'autism', 'in', 'order', 'to', 'initiate', 'treatment', 'as', 'early', 'as', 'possible', 'however', 'some', 'people', 'do_not', 'believe', 'in', 'treatment', 'for', 'autism', 'either', 'because_they', 'do_not', 'believe', 'autism', 'is', 'a', 'disorder', 'or', 'because_they', 'believe', 'treatment', 'can', 'do', 'more', 'harm', 'than', 'good', 'social', 'development', 'typically', 'developing', 'infants', 'are', 'social', 'beings', 'early', 'in', 'life', 'they_do', 'such', 'things', 'as', 'gaze', 'at', 'people', 'turn', 'toward', 'voices', 'grasp', 'a', 'finger', 'and', 'even', 'smile', 'in', 'contrast', 'most', 'autistic_children', 'prefer', 'objects', 'to', 'faces', 'and', 'seem', 'to', 'have', 'tremendous', 'difficulty_learning', 'to', 'engage', 'in', 'the', 'give', 'and', 'take', 'of', 'everyday', 'human_interaction', 'even', 'in', 'the', 'first', 'few_months', 'of', 'life', 'many', 'seem', 'indifferent', 'to', 'other', 'people', 'because_they', 'avoid', 'eye_contact', 'and', 'do_not', 'interact_with', 'them', 'as', 'often', 'as', 'non_autistic', 'children', 'children', 'with', 'autism', 'often', 'appear', 'to', 'prefer', 'being', 'alone', 'to', 'the', 'company', 'of', 'others', 'and', 'may', 'passively', 'accept', 'such', 'things', 'as', 'hugs', 'and', 'cuddling', 'without', 'reciprocating', 'or', 'resist', 'attention', 'altogether', 'later', 'they', 'seldom', 'seek', 'comfort', 'from', 'others', 'or', 'respond', 'to', 'parents', 'displays', 'of', 'anger', 'or', 'affection', 'in', 'a', 'typical', 'way', 'research', 'has', 'suggested_that', 'although', 'autistic_children', 'are', 'attached', 'to', 'their', 'parents', 'their', 'expression', 'of', 'this', 'attachment', 'is', 'unusual', 'and', 'difficult', 'to', 'interpret', 'parents', 'who', 'looked_forward', 'to', 'the', 'joys', 'of', 'cuddling', 'teaching', 'and', 'playing', 'with', 'their', 'child', 'may', 'feel', 'crushed', 'by', 'this', 'lack', 'of', 'expected', 'attachment', 'behavior', 'children', 'with', 'autism', 'appear', 'to', 'lack', 'theory', 'of', 'mind', 'the', 'ability', 'to', 'see', 'things', 'from', 'another_person', 's', 'perspective', 'a', 'behavior', 'cited', 'as', 'exclusive', 'to', 'human_beings', 'above', 'the', 'age', 'of', 'five', 'and', 'possibly', 'other', 'higher', 'primates', 'such_as', 'adult', 'gorillas', 'chimpanzees', 'and', 'bonobos', 'typical', 'five', 'year_olds', 'can', 'develop', 'insights_into', 'other', 'people', 's', 'different', 'knowledge', 'feelings', 'and', 'intentions', 'interpretations', 'based_upon', 'social', 'cues', 'e_g', 'gestures', 'facial_expressions', 'an_individual', 'with', 'autism', 'seems', 'to', 'lack', 'these', 'interpretation', 'skills', 'an', 'inability', 'that', 'leaves', 'them', 'unable_to', 'predict', 'or', 'understand', 'other', 'people', 's', 'actions', 'the', 'social', 'alienation', 'of', 'autistic', 'and', 'asperger_s', 'people', 'is', 'so', 'intense', 'from', 'childhood', 'that', 'many', 'of', 'them', 'have', 'imaginary_friends', 'as', 'companionship', 'however', 'having', 'an_imaginary', 'friend', 'is', 'not_necessarily', 'a', 'sign', 'of', 'autism', 'and', 'also', 'occurs', 'in', 'non_autistic', 'children', 'although', 'not', 'universal', 'it', 'is', 'common', 'for', 'autistic_people', 'to', 'not', 'regulate', 'their', 'behavior', 'this', 'can', 'take', 'the', 'form', 'of', 'crying', 'or', 'verbal', 'outbursts', 'that', 'may_seem', 'out', 'of', 'proportion', 'to', 'the', 'situation', 'individuals', 'with', 'autism', 'generally', 'prefer', 'consistent', 'routines', 'and', 'environments', 'they', 'may', 'react', 'negatively', 'to', 'changes', 'in', 'them', 'it', 'is', 'not_uncommon', 'for', 'these', 'individuals', 'to', 'exhibit', 'aggression', 'increased', 'levels', 'of', 'self', 'stimulatory', 'behavior', 'self', 'injury', 'or', 'extensive', 'withdrawal', 'in', 'overwhelming', 'situations', 'sensory', 'system', 'a', 'key', 'indicator', 'to', 'clinicians', 'making', 'a', 'proper', 'assessment', 'for', 'autism', 'would', 'include', 'looking', 'for', 'symptoms', 'much_like', 'those', 'found', 'in', 'sensory', 'integration', 'dysfunction', 'children', 'will', 'exhibit', 'problems', 'coping_with', 'the', 'normal', 'sensory_input', 'indicators', 'of', 'this', 'disorder', 'include', 'oversensitivity', 'or', 'underreactivity', 'to', 'touch', 'movement', 'sights', 'or', 'sounds', 'physical', 'clumsiness', 'or', 'carelessness', 'poor', 'body', 'awareness', 'a', 'tendency', 'to', 'be', 'easily', 'distracted', 'impulsive', 'physical', 'or', 'verbal_behavior', 'an', 'activity', 'level', 'that', 'is', 'unusually_high', 'or', 'low', 'not', 'unwinding', 'or', 'calming', 'oneself', 'difficulty_learning', 'new', 'movements', 'difficulty', 'in', 'making', 'transitions', 'from', 'one', 'situation', 'to', 'another', 'social', 'and', 'or', 'emotional_problems', 'delays', 'in', 'speech', 'language', 'or', 'motor_skills', 'specific', 'learning_difficulties', 'delays', 'in', 'academic_achievement', 'one', 'common', 'example', 'is', 'an_individual', 'with', 'autism', 'hearing', 'a', 'person', 'with', 'autism', 'may_have', 'trouble', 'hearing', 'certain', 'people', 'while', 'other', 'people', 'are', 'louder_than', 'usual', 'or', 'the', 'person', 'with', 'autism', 'may_be', 'unable_to', 'filter', 'out', 'sounds', 'in', 'certain_situations', 'such_as', 'in', 'a', 'large', 'crowd', 'of', 'people', 'see', 'cocktail', 'party', 'effect', 'however', 'this', 'is', 'perhaps', 'the', 'part', 'of', 'the', 'autism', 'that', 'tends_to', 'vary', 'the', 'most', 'from', 'person', 'to', 'person', 'so', 'these', 'examples', 'may', 'not_apply', 'to', 'every', 'autistic', 'it', 'should_be', 'noted_that', 'sensory', 'difficulties', 'although', 'reportedly', 'common', 'in', 'autistics', 'are', 'not', 'part', 'of', 'the', 'dsm_iv', 'diagnostic_criteria', 'for', 'autistic', 'disorder', 'communication', 'difficulties', 'by', 'age', 'three', 'typical', 'children', 'have', 'passed', 'predictable', 'language', 'learning', 'milestones', 'one', 'of', 'the', 'earliest', 'is', 'babbling', 'by', 'the', 'first', 'birthday', 'a', 'typical', 'toddler', 'says', 'words', 'turns', 'when', 'he', 'or', 'she', 'hears', 'his', 'or', 'her', 'name', 'points', 'when', 'he', 'or', 'she_wants', 'a', 'toy', 'and', 'when', 'offered', 'something', 'distasteful', 'makes', 'it', 'clear', 'that', 'the', 'answer', 'is', 'no', 'speech', 'development', 'in', 'people', 'with', 'autism', 'takes', 'different_paths', 'some', 'remain', 'mute', 'throughout', 'their_lives', 'while', 'being', 'fully', 'literate', 'and', 'able_to', 'communicate', 'in', 'other', 'ways', 'images', 'sign_language', 'and', 'typing', 'are', 'far_more', 'natural', 'to', 'them', 'some', 'infants', 'who', 'later', 'show_signs', 'of', 'autism', 'coo', 'and', 'babble', 'during', 'the', 'first', 'few_months', 'of', 'life', 'but', 'stop', 'soon_afterwards', 'others', 'may_be', 'delayed', 'developing', 'language', 'as', 'late', 'as', 'the', 'teenage_years', 'still', 'inability_to', 'speak', 'does_not', 'mean', 'that', 'people', 'with', 'autism', 'are', 'unintelligent', 'or', 'unaware', 'once', 'given', 'appropriate', 'accommodations', 'many', 'will', 'happily', 'converse', 'for', 'hours', 'and', 'can', 'often', 'be_found', 'in', 'online_chat', 'rooms', 'discussion_boards', 'or', 'websites', 'and', 'even', 'using', 'communication', 'devices', 'at', 'autism', 'community', 'social', 'events', 'such_as', 'autreat', 'those_who', 'do', 'speak', 'often', 'use', 'language', 'in', 'unusual', 'ways', 'retaining', 'features', 'of', 'earlier_stages', 'of', 'language', 'development', 'for', 'long_periods', 'or', 'throughout', 'their_lives', 'some', 'speak', 'only', 'single', 'words', 'while_others', 'repeat', 'the', 'same', 'phrase', 'over', 'and', 'over', 'some', 'repeat', 'what', 'they', 'hear', 'a', 'condition', 'called', 'echolalia', 'sing', 'song', 'repetitions', 'in', 'particular', 'are', 'a', 'calming', 'joyous', 'activity', 'that', 'many', 'autistic_adults', 'engage', 'in', 'many', 'people', 'with', 'autism', 'have', 'a', 'strong', 'tonal', 'sense', 'and', 'can', 'often', 'understand', 'spoken_language', 'some', 'children', 'may', 'exhibit', 'only', 'slight', 'delays', 'in', 'language', 'or', 'even', 'seem', 'to', 'have', 'precocious', 'language', 'and', 'unusually_large', 'vocabularies', 'but', 'have', 'great_difficulty', 'in', 'sustaining', 'typical', 'conversations', 'the', 'give', 'and', 'take', 'of', 'non_autistic', 'conversation', 'is', 'hard', 'for', 'them', 'although', 'they', 'often', 'carry', 'on', 'a', 'monologue', 'on', 'a', 'favorite', 'subject', 'giving', 'no', 'one', 'else', 'an_opportunity', 'to', 'comment', 'when', 'given', 'the', 'chance', 'to', 'converse', 'with', 'other', 'autistics', 'they', 'comfortably', 'do_so', 'in', 'parallel', 'monologue', 'taking_turns', 'expressing', 'views', 'and', 'information', 'just', 'as', 'neurotypicals', 'people', 'without', 'autism', 'have', 'trouble_understanding', 'autistic', 'body', 'languages', 'vocal', 'tones', 'or', 'phraseology', 'people', 'with', 'autism', 'similarly', 'have', 'trouble', 'with', 'such', 'things', 'in', 'people', 'without', 'autism', 'in', 'particular', 'autistic', 'language', 'abilities', 'tend_to', 'be', 'highly', 'literal', 'people', 'without', 'autism', 'often', 'inappropriately', 'attribute', 'hidden_meaning', 'to', 'what', 'people', 'with', 'autism', 'say', 'or', 'expect', 'the', 'person', 'with', 'autism', 'to', 'sense', 'such', 'unstated', 'meaning', 'in', 'their_own', 'words', 'the', 'body', 'language', 'of', 'people', 'with', 'autism', 'can_be', 'difficult', 'for', 'other', 'people', 'to', 'understand', 'facial_expressions', 'movements', 'and', 'gestures', 'may_be', 'easily_understood', 'by', 'some', 'other', 'people', 'with', 'autism', 'but', 'do_not', 'match', 'those', 'used', 'by', 'other', 'people', 'also', 'their', 'tone', 'of', 'voice', 'has', 'a', 'much_more', 'subtle', 'inflection', 'in', 'reflecting', 'their', 'feelings', 'and', 'the', 'auditory', 'system', 'of', 'a', 'person', 'without', 'autism', 'often', 'cannot', 'sense', 'the', 'fluctuations', 'what', 'seems', 'to', 'non_autistic', 'people', 'like', 'a', 'high_pitched', 'sing', 'song', 'or', 'flat', 'robot', 'like', 'voice', 'is', 'common', 'in', 'autistic_children', 'some', 'autistic_children', 'with', 'relatively', 'good', 'language', 'skills', 'speak', 'like', 'little', 'adults', 'rather_than', 'communicating', 'at', 'their', 'current', 'age', 'level', 'which', 'is', 'one', 'of', 'the', 'things', 'that', 'can_lead', 'to', 'problems', 'since', 'non_autistic', 'people', 'are', 'often', 'unfamiliar_with', 'the', 'autistic', 'body', 'language', 'and', 'since', 'autistic', 'natural', 'language', 'may', 'not', 'tend_towards', 'speech', 'autistic_people', 'often', 'struggle', 'to', 'let', 'other', 'people', 'know_what', 'they', 'need', 'as', 'anybody', 'might', 'do', 'in', 'such', 'a', 'situation', 'they', 'may', 'scream', 'in', 'frustration', 'or', 'resort', 'to', 'grabbing', 'what', 'they_want', 'while_waiting', 'for', 'non_autistic', 'people', 'to', 'learn', 'to', 'communicate_with', 'them', 'people', 'with', 'autism', 'do_whatever', 'they', 'can', 'to', 'get', 'through', 'to', 'them', 'communication', 'difficulties', 'may', 'contribute', 'to', 'autistic_people', 'becoming', 'socially', 'anxious', 'or', 'depressed', 'repetitive', 'behaviors', 'although', 'people', 'with', 'autism', 'usually', 'appear', 'physically', 'normal', 'and', 'have', 'good', 'muscle', 'control', 'unusual', 'repetitive', 'motions', 'known_as', 'self', 'stimulation', 'or', 'stimming', 'may', 'set', 'them', 'apart', 'these', 'behaviors', 'might_be', 'extreme', 'and', 'highly', 'apparent', 'or', 'more_subtle', 'some', 'children', 'and', 'older', 'individuals', 'spend', 'a_lot', 'of', 'time', 'repeatedly', 'flapping', 'their', 'arms', 'or', 'wiggling', 'their', 'toes', 'others', 'suddenly', 'freeze', 'in', 'position', 'as', 'children', 'they', 'might', 'spend_hours', 'lining_up', 'their', 'cars', 'and', 'trains', 'in', 'a', 'certain', 'way', 'not', 'using', 'them', 'for', 'pretend', 'play', 'if_someone', 'accidentally', 'moves', 'one', 'of', 'these', 'toys', 'the', 'child', 'may_be', 'tremendously', 'upset', 'autistic_children', 'often', 'need', 'and', 'demand', 'absolute', 'consistency', 'in', 'their', 'environment', 'a', 'slight', 'change', 'in', 'any', 'routine', 'in', 'mealtimes', 'dressing', 'taking', 'a', 'bath', 'or', 'going', 'to', 'school', 'at', 'a', 'certain', 'time', 'and', 'by', 'the', 'same', 'route', 'can_be', 'extremely', 'disturbing', 'people', 'with', 'autism', 'sometimes', 'have', 'a', 'persistent', 'intense', 'preoccupation', 'for_example', 'the', 'child', 'might_be', 'obsessed_with', 'learning', 'all', 'about', 'vacuum_cleaners', 'train', 'schedules', 'or', 'lighthouses', 'often', 'they', 'show', 'great', 'interest', 'in', 'different', 'languages', 'numbers', 'symbols', 'or', 'science', 'topics', 'repetitive', 'behaviors', 'can', 'also', 'extend', 'into', 'the', 'spoken_word', 'as_well', 'perseveration', 'of', 'a', 'single', 'word', 'or', 'phrase', 'even', 'for', 'a', 'specific', 'number', 'of', 'times', 'can', 'also', 'become', 'a', 'part', 'of', 'the', 'child', 's', 'daily_routine', 'effects', 'in', 'education', 'children', 'with', 'autism', 'are', 'affected', 'with', 'these', 'symptoms', 'every_day', 'these', 'unusual', 'characteristics', 'set', 'them', 'apart_from', 'the', 'everyday', 'normal', 'student', 'because_they', 'have', 'trouble_understanding', 'people', 's', 'thoughts', 'and', 'feelings', 'they', 'have', 'trouble_understanding', 'what', 'their', 'teacher', 'may_be', 'telling_them', 'they_do', 'not', 'understand', 'that', 'facial_expressions', 'and', 'vocal', 'variations', 'hold', 'meanings', 'and', 'may', 'misinterpret', 'what', 'emotion', 'their', 'instructor', 'is', 'displaying', 'this', 'inability_to', 'fully', 'decipher', 'the', 'world', 'around', 'them', 'makes', 'education', 'stressful', 'teachers', 'need', 'to', 'be', 'aware', 'of', 'a', 'student', 's', 'disorder', 'so', 'that', 'they', 'are', 'able_to', 'help', 'the', 'student', 'get', 'the', 'best', 'out', 'of', 'the', 'lessons', 'being', 'taught', 'some', 'students', 'learn', 'better', 'with', 'visual', 'aids', 'as', 'they', 'are', 'better', 'able_to', 'understand', 'material', 'presented', 'this', 'way', 'because', 'of', 'this', 'many', 'teachers', 'create', 'visual', 'schedules', 'for', 'their', 'autistic', 'students', 'this', 'allows', 'the', 'student', 'to', 'know_what', 'is', 'going', 'on', 'throughout', 'the', 'day', 'so', 'they', 'know_what', 'to', 'prepare', 'for', 'and', 'what', 'activity', 'they', 'will_be', 'doing', 'next', 'some', 'autistic_children', 'have', 'trouble', 'going', 'from', 'one', 'activity', 'to', 'the', 'next', 'so', 'this', 'visual', 'schedule', 'can', 'help', 'to', 'reduce', 'stress', 'research', 'has', 'shown', 'that', 'working', 'in', 'pairs', 'may_be', 'beneficial', 'to', 'autistic_children', 'autistic', 'students', 'have', 'problems', 'in', 'schools', 'not', 'only', 'with', 'language', 'and', 'communication', 'but', 'with', 'socialization', 'as_well', 'they', 'feel', 'self_conscious', 'about', 'themselves', 'and', 'many', 'feel', 'that', 'they', 'will_always', 'be', 'outcasts', 'by', 'allowing_them', 'to', 'work', 'with', 'peers', 'they', 'can', 'make', 'friends', 'which', 'in', 'turn', 'can', 'help', 'them', 'cope_with', 'the', 'problems', 'that', 'arise', 'by', 'doing_so', 'they', 'can', 'become', 'more', 'integrated_into', 'the', 'mainstream', 'environment', 'of', 'the', 'classroom', 'a', 'teacher', 's', 'aide', 'can', 'also', 'be', 'useful', 'to', 'the', 'student', 'the', 'aide', 'is', 'able_to', 'give', 'more_elaborate', 'directions', 'that', 'the', 'teacher', 'may', 'not', 'have', 'time', 'to', 'explain', 'to', 'the', 'autistic_child', 'the', 'aide', 'can', 'also', 'facilitate', 'the', 'autistic_child', 'in', 'such', 'a', 'way', 'as', 'to', 'allow_them', 'to', 'stay', 'at', 'a', 'similar', 'level', 'to', 'the', 'rest', 'of', 'the', 'class', 'this', 'allows', 'a', 'partially', 'one', 'on', 'one', 'lesson', 'structure', 'so', 'that', 'the', 'child', 'is', 'still', 'able_to', 'stay', 'in', 'a', 'normal', 'classroom', 'but', 'be', 'given', 'the', 'extra', 'help', 'that', 'they', 'need', 'there_are', 'many', 'different', 'techniques', 'that', 'teachers', 'can', 'use', 'to', 'assist', 'their', 'students', 'a', 'teacher', 'needs', 'to', 'become_familiar', 'with', 'the', 'child', 's', 'disorder', 'to', 'know_what', 'will', 'work', 'best', 'with', 'that', 'particular', 'child', 'every', 'child', 'is', 'going', 'to', 'be', 'different', 'and', 'teachers', 'have', 'to', 'be_able', 'to', 'adjust', 'with', 'every', 'one', 'of', 'them', 'students', 'with', 'autism_spectrum', 'disorders', 'typically', 'have', 'high_levels', 'of', 'anxiety', 'and', 'stress', 'particularly', 'in', 'social', 'environments', 'like', 'school', 'if', 'a', 'student', 'exhibits', 'aggressive', 'or', 'explosive', 'behavior', 'it', 'is', 'important', 'for', 'educational', 'teams', 'to', 'recognize', 'the', 'impact', 'of', 'stress', 'and', 'anxiety', 'preparing', 'students', 'for', 'new', 'situations', 'by', 'writing', 'social', 'stories', 'can', 'lower', 'anxiety', 'teaching', 'social', 'and', 'emotional', 'concepts', 'using', 'systematic', 'teaching', 'approaches', 'such_as', 'the', 'incredible', 'five', 'point', 'scale', 'or', 'other', 'cognitive_behavioral', 'strategies', 'can', 'increase', 'a', 'student', 's', 'ability', 'to', 'control', 'excessive', 'behavioral', 'reactions', 'dsm', 'definition', 'autism', 'is', 'defined', 'in', 'section', 'two', 'nine', 'nine', 'zero', 'zero', 'of', 'the', 'diagnostic', 'and', 'statistical_manual', 'of', 'mental_disorders', 'dsm_iv', 'as', 'a', 'total', 'of', 'six', 'or', 'more', 'items', 'from', 'one', 'two', 'and', 'three', 'with', 'at_least', 'two', 'from', 'one', 'and', 'one', 'each', 'from', 'two', 'and', 'three', 'qualitative', 'impairment', 'in', 'social_interaction', 'as', 'manifested', 'by', 'at_least', 'two', 'of', 'the', 'following', 'marked_impairment', 'in', 'the', 'use', 'of', 'multiple', 'nonverbal', 'behaviors', 'such_as', 'eye', 'to', 'eye', 'gaze', 'facial_expression', 'body', 'postures', 'and', 'gestures', 'to', 'regulate', 'social_interaction', 'failure', 'to', 'develop', 'peer', 'relationships', 'appropriate', 'to', 'developmental', 'level', 'a', 'lack', 'of', 'spontaneous', 'seeking', 'to', 'share', 'enjoyment', 'interests', 'or', 'achievements', 'with', 'other', 'people', 'e_g', 'by', 'a', 'lack', 'of', 'showing', 'bringing', 'or', 'pointing_out', 'objects', 'of', 'interest', 'lack', 'of', 'social', 'or', 'emotional']\n"
     ]
    }
   ],
   "source": [
    "dataset = api.load(\"text8\")\n",
    "dataset = [wd for wd in dataset]\n",
    "dct = corpora.Dictionary(dataset)\n",
    "corpus = [dct.doc2bow(line) for line in dataset]\n",
    "\n",
    "# Build the bigram models\n",
    "bigram = gensim.models.phrases.Phrases(dataset, min_count=3, threshold=10)\n",
    "\n",
    "# Construct bigram\n",
    "print(bigram[dataset[0]])\n",
    "# ['anarchism', 'originated', 'as', 'a', 'term', 'of', 'abuse', 'first', 'used',\n",
    "#  'against', 'early', 'working_class', 'radicals', 'including', 'the', 'diggers',\n",
    "#  'of', 'the', 'english', 'revolution', 'and', 'the', 'sans_culottes', 'of', 'the',\n",
    "#  'french_revolution', 'whilst',...]"
   ]
  },
  {
   "cell_type": "code",
   "execution_count": 32,
   "metadata": {},
   "outputs": [
    {
     "name": "stdout",
     "output_type": "stream",
     "text": [
      "['anarchism', 'originated', 'as', 'a', 'term', 'of', 'abuse', 'first', 'used', 'against', 'early', 'working_class', 'radicals', 'including', 'the', 'diggers', 'of', 'the', 'english', 'revolution', 'and', 'the', 'sans_culottes', 'of', 'the', 'french_revolution', 'whilst', 'the', 'term', 'is', 'still', 'used', 'in', 'a', 'pejorative_way', 'to_describe', 'any', 'act', 'that', 'used', 'violent', 'means', 'to', 'destroy', 'the', 'organization', 'of', 'society', 'it', 'has', 'also_been', 'taken_up', 'as', 'a', 'positive', 'label', 'by', 'self', 'defined', 'anarchists', 'the', 'word', 'anarchism', 'is', 'derived_from', 'the', 'greek', 'without', 'archons', 'ruler', 'chief', 'king', 'anarchism', 'as', 'a', 'political_philosophy', 'is', 'the', 'belief_that', 'rulers', 'are', 'unnecessary', 'and', 'should_be', 'abolished', 'although', 'there_are', 'differing_interpretations', 'of', 'what', 'this', 'means', 'anarchism', 'also', 'refers_to', 'related', 'social_movements', 'that', 'advocate', 'the', 'elimination', 'of', 'authoritarian', 'institutions', 'particularly', 'the', 'state', 'the', 'word', 'anarchy', 'as', 'most', 'anarchists', 'use', 'it', 'does_not_imply', 'chaos', 'nihilism', 'or', 'anomie', 'but_rather', 'a', 'harmonious', 'anti_authoritarian', 'society', 'in', 'place', 'of', 'what', 'are', 'regarded_as', 'authoritarian', 'political', 'structures', 'and', 'coercive', 'economic', 'institutions', 'anarchists', 'advocate', 'social_relations', 'based_upon', 'voluntary_association', 'of', 'autonomous', 'individuals', 'mutual_aid', 'and', 'self_governance', 'while', 'anarchism', 'is', 'most', 'easily', 'defined_by', 'what', 'it', 'is', 'against', 'anarchists', 'also', 'offer', 'positive', 'visions', 'of', 'what_they_believe', 'to_be', 'a', 'truly', 'free', 'society', 'however', 'ideas_about', 'how', 'an', 'anarchist_society', 'might', 'work', 'vary_considerably', 'especially', 'with_respect_to', 'economics', 'there_is', 'also', 'disagreement_about', 'how', 'a', 'free', 'society', 'might_be', 'brought_about', 'origins', 'and', 'predecessors', 'kropotkin', 'and', 'others_argue_that', 'before', 'recorded_history', 'human_society', 'was', 'organized', 'on', 'anarchist_principles', 'most', 'anthropologists', 'follow', 'kropotkin', 'and', 'engels', 'in', 'believing_that', 'hunter_gatherer', 'bands', 'were', 'egalitarian', 'and', 'lacked', 'division', 'of', 'labour', 'accumulated_wealth', 'or', 'decreed', 'law', 'and', 'had', 'equal', 'access', 'to', 'resources', 'william_godwin', 'anarchists', 'including', 'the', 'the', 'anarchy', 'organisation', 'and', 'rothbard', 'find', 'anarchist', 'attitudes', 'in', 'taoism', 'from', 'ancient_china', 'kropotkin', 'found', 'similar', 'ideas', 'in', 'stoic', 'zeno', 'of', 'citium', 'according_to', 'kropotkin', 'zeno', 'repudiated', 'the', 'omnipotence', 'of', 'the', 'state', 'its', 'intervention', 'and', 'regimentation', 'and', 'proclaimed', 'the', 'sovereignty', 'of', 'the', 'moral_law', 'of', 'the', 'individual', 'the', 'anabaptists', 'of', 'one', 'six', 'th_century', 'europe', 'are', 'sometimes_considered', 'to_be', 'religious', 'forerunners', 'of', 'modern', 'anarchism', 'bertrand_russell', 'in', 'his', 'history', 'of', 'western_philosophy', 'writes_that', 'the', 'anabaptists', 'repudiated', 'all', 'law', 'since', 'they', 'held', 'that', 'the', 'good', 'man', 'will_be', 'guided', 'at', 'every', 'moment', 'by', 'the', 'holy_spirit', 'from', 'this', 'premise', 'they', 'arrive_at', 'communism', 'the', 'diggers', 'or', 'true', 'levellers', 'were', 'an', 'early', 'communistic', 'movement', 'during', 'the', 'time', 'of', 'the', 'english_civil_war', 'and', 'are', 'considered', 'by', 'some', 'as', 'forerunners', 'of', 'modern', 'anarchism', 'in', 'the', 'modern_era', 'the', 'first', 'to', 'use', 'the', 'term', 'to', 'mean', 'something', 'other_than', 'chaos', 'was', 'louis', 'armand', 'baron_de', 'lahontan', 'in', 'his', 'nouveaux', 'voyages', 'dans_l', 'am_rique', 'septentrionale', 'one', 'seven', 'zero', 'three', 'where_he', 'described', 'the', 'indigenous', 'american_society', 'which', 'had', 'no', 'state', 'laws', 'prisons', 'priests', 'or', 'private_property', 'as', 'being', 'in', 'anarchy', 'russell', 'means', 'a', 'libertarian', 'and', 'leader', 'in', 'the', 'american_indian', 'movement', 'has', 'repeatedly_stated', 'that', 'he', 'is', 'an_anarchist', 'and', 'so', 'are', 'all', 'his', 'ancestors', 'in', 'one', 'seven', 'nine', 'three', 'in', 'the', 'thick', 'of', 'the', 'french_revolution', 'william_godwin', 'published', 'an_enquiry', 'concerning', 'political', 'justice', 'although', 'godwin', 'did_not', 'use', 'the', 'word', 'anarchism', 'many', 'later', 'anarchists', 'have', 'regarded', 'this', 'book', 'as', 'the', 'first', 'major', 'anarchist', 'text', 'and', 'godwin', 'as', 'the', 'founder', 'of', 'philosophical_anarchism', 'but', 'at', 'this', 'point', 'no', 'anarchist_movement', 'yet', 'existed', 'and', 'the', 'term', 'anarchiste', 'was', 'known', 'mainly', 'as_an_insult', 'hurled', 'by', 'the', 'bourgeois', 'girondins', 'at', 'more_radical', 'elements', 'in', 'the', 'french_revolution', 'the', 'first', 'self', 'labelled', 'anarchist', 'pierre_joseph_proudhon', 'it', 'is', 'commonly_held', 'that', 'it_wasn_t', 'until', 'pierre_joseph_proudhon', 'published', 'what', 'is', 'property', 'in', 'one', 'eight', 'four', 'zero', 'that', 'the', 'term', 'anarchist', 'was', 'adopted', 'as', 'a', 'self_description', 'it', 'is', 'for_this_reason', 'that', 'some', 'claim', 'proudhon', 'as', 'the', 'founder', 'of', 'modern', 'anarchist', 'theory', 'in', 'what', 'is', 'property', 'proudhon', 'answers', 'with', 'the', 'famous', 'accusation', 'property', 'is', 'theft', 'in', 'this', 'work', 'he', 'opposed', 'the', 'institution', 'of', 'decreed', 'property', 'propri_t', 'where', 'owners', 'have', 'complete', 'rights', 'to', 'use', 'and', 'abuse', 'their', 'property', 'as', 'they_wish', 'such_as', 'exploiting', 'workers', 'for', 'profit', 'in', 'its', 'place', 'proudhon', 'supported', 'what', 'he', 'called', 'possession', 'individuals', 'can', 'have', 'limited', 'rights', 'to', 'use', 'resources', 'capital', 'and', 'goods', 'in_accordance_with', 'principles', 'of', 'equality', 'and', 'justice', 'proudhon', 's', 'vision', 'of', 'anarchy', 'which', 'he', 'called', 'mutualism', 'mutuellisme', 'involved', 'an', 'exchange', 'economy', 'where', 'individuals', 'and', 'groups', 'could', 'trade', 'the', 'products', 'of', 'their', 'labor', 'using', 'labor', 'notes', 'which', 'represented', 'the', 'amount', 'of', 'working', 'time', 'involved', 'in', 'production', 'this', 'would_ensure_that', 'no', 'one', 'would', 'profit', 'from', 'the', 'labor', 'of', 'others', 'workers', 'could', 'freely', 'join_together', 'in', 'co_operative', 'workshops', 'an', 'interest', 'free', 'bank', 'would_be', 'set_up', 'to', 'provide', 'everyone', 'with', 'access', 'to', 'the', 'means', 'of', 'production', 'proudhon', 's', 'ideas', 'were', 'influential', 'within', 'french', 'working_class', 'movements', 'and', 'his_followers', 'were', 'active', 'in', 'the', 'revolution', 'of', 'one', 'eight', 'four', 'eight', 'in', 'france', 'proudhon', 's', 'philosophy', 'of', 'property', 'is', 'complex', 'it', 'was', 'developed', 'in', 'a', 'number', 'of', 'works', 'over', 'his_lifetime', 'and', 'there_are', 'differing_interpretations', 'of', 'some', 'of', 'his', 'ideas', 'for', 'more_detailed_discussion', 'see', 'here', 'max_stirner', 's', 'egoism', 'in', 'his', 'the', 'ego', 'and', 'its_own', 'stirner', 'argued_that', 'most_commonly_accepted', 'social_institutions', 'including', 'the', 'notion', 'of', 'state', 'property', 'as', 'a', 'right', 'natural_rights', 'in', 'general', 'and', 'the', 'very', 'notion', 'of', 'society', 'were', 'mere', 'illusions', 'or', 'ghosts', 'in', 'the', 'mind', 'saying', 'of', 'society', 'that', 'the', 'individuals', 'are', 'its', 'reality', 'he', 'advocated', 'egoism', 'and', 'a', 'form', 'of', 'amoralism', 'in', 'which', 'individuals', 'would', 'unite', 'in', 'associations', 'of', 'egoists', 'only', 'when', 'it', 'was', 'in', 'their', 'self_interest', 'to_do_so', 'for', 'him', 'property', 'simply', 'comes', 'about', 'through', 'might', 'whoever', 'knows_how', 'to', 'take', 'to_defend', 'the', 'thing', 'to', 'him', 'belongs', 'property', 'and', 'what', 'i', 'have', 'in', 'my', 'power', 'that', 'is', 'my_own', 'so_long', 'as', 'i', 'assert', 'myself', 'as', 'holder', 'i_am', 'the', 'proprietor', 'of', 'the', 'thing', 'stirner', 'never', 'called', 'himself', 'an_anarchist', 'he', 'accepted', 'only', 'the', 'label', 'egoist', 'nevertheless', 'his', 'ideas', 'were', 'influential', 'on', 'many', 'individualistically', 'inclined', 'anarchists', 'although', 'interpretations', 'of', 'his', 'thought', 'are', 'diverse', 'american_individualist_anarchism', 'benjamin_tucker', 'in', 'one', 'eight', 'two', 'five', 'josiah_warren', 'had', 'participated_in', 'a', 'communitarian', 'experiment', 'headed_by', 'robert_owen', 'called', 'new', 'harmony', 'which', 'failed', 'in', 'a_few_years', 'amidst', 'much', 'internal_conflict', 'warren', 'blamed', 'the', 'community', 's', 'failure', 'on', 'a', 'lack', 'of', 'individual', 'sovereignty', 'and', 'a', 'lack', 'of', 'private_property', 'warren', 'proceeded', 'to', 'organise', 'experimenal', 'anarchist', 'communities', 'which', 'respected', 'what', 'he', 'called', 'the', 'sovereignty', 'of', 'the', 'individual', 'at', 'utopia', 'and', 'modern_times', 'in', 'one', 'eight', 'three', 'three', 'warren', 'wrote', 'and', 'published', 'the', 'peaceful', 'revolutionist', 'which', 'some', 'have', 'noted', 'to_be', 'the', 'first', 'anarchist_periodical', 'ever', 'published', 'benjamin_tucker', 'says_that', 'warren', 'was', 'the', 'first', 'man', 'to', 'expound', 'and', 'formulate', 'the', 'doctrine', 'now_known_as', 'anarchism', 'liberty', 'xiv', 'december', 'one', 'nine', 'zero', 'zero', 'one', 'benjamin_tucker', 'became_interested_in', 'anarchism', 'through', 'meeting', 'josiah_warren', 'and', 'william_b_greene', 'he', 'edited', 'and', 'published', 'liberty', 'from', 'august', 'one', 'eight', 'eight', 'one', 'to', 'april', 'one', 'nine', 'zero', 'eight', 'it', 'is_widely_considered', 'to_be', 'the', 'finest', 'individualist_anarchist', 'periodical', 'ever', 'issued', 'in', 'the', 'english_language', 'tucker', 's', 'conception', 'of', 'individualist_anarchism', 'incorporated', 'the', 'ideas', 'of', 'a_variety', 'of', 'theorists', 'greene', 's', 'ideas', 'on', 'mutual', 'banking', 'warren', 's', 'ideas', 'on', 'cost', 'as', 'the', 'limit', 'of', 'price', 'a', 'heterodox', 'variety', 'of', 'labour', 'theory', 'of', 'value', 'proudhon', 's', 'market_anarchism', 'max_stirner', 's', 'egoism', 'and', 'herbert_spencer', 's', 'law', 'of', 'equal', 'freedom', 'tucker', 'strongly_supported', 'the', 'individual', 's', 'right', 'to', 'own', 'the', 'product', 'of', 'his', 'or', 'her', 'labour', 'as', 'private_property', 'and', 'believed', 'in', 'a', 'market_economy', 'for', 'trading', 'this', 'property', 'he', 'argued_that', 'in', 'a', 'truly', 'free_market', 'system', 'without', 'the', 'state', 'the', 'abundance', 'of', 'competition', 'would_eliminate', 'profits', 'and', 'ensure_that', 'all', 'workers', 'received', 'the', 'full', 'value', 'of', 'their', 'labor', 'other', 'one', 'nine', 'th_century', 'individualists', 'included', 'lysander_spooner', 'stephen_pearl', 'andrews', 'and', 'victor', 'yarros', 'the', 'first', 'international', 'mikhail_bakunin', 'one', 'eight', 'one', 'four', 'one', 'eight', 'seven', 'six', 'in', 'europe', 'harsh', 'reaction', 'followed', 'the', 'revolutions', 'of', 'one', 'eight', 'four', 'eight', 'twenty_years_later', 'in', 'one', 'eight', 'six', 'four', 'the', 'international_workingmen', 's', 'association', 'sometimes_called', 'the', 'first', 'international', 'united', 'some', 'diverse', 'european', 'revolutionary', 'currents', 'including', 'anarchism', 'due_to_its', 'genuine', 'links', 'to', 'active', 'workers', 'movements', 'the', 'international', 'became', 'signficiant', 'from', 'the', 'start', 'karl_marx', 'was', 'a', 'leading_figure', 'in', 'the', 'international', 'he', 'was_elected', 'to', 'every', 'succeeding', 'general_council', 'of', 'the', 'association', 'the', 'first', 'objections', 'to', 'marx', 'came_from', 'the', 'mutualists', 'who', 'opposed_communism', 'and', 'statism', 'shortly_after', 'mikhail_bakunin', 'and', 'his_followers', 'joined', 'in', 'one', 'eight', 'six', 'eight', 'the', 'first', 'international', 'became', 'polarised', 'into', 'two', 'camps', 'with', 'marx', 'and', 'bakunin', 'as', 'their_respective', 'figureheads', 'the', 'clearest', 'difference_between', 'the', 'camps', 'was', 'over', 'strategy', 'the', 'anarchists', 'around', 'bakunin', 'favoured', 'in', 'kropotkin', 's', 'words', 'direct', 'economical', 'struggle_against', 'capitalism', 'without_interfering', 'in', 'the', 'political', 'parliamentary', 'agitation', 'at', 'that', 'time', 'marx', 'and', 'his_followers', 'focused_on', 'parliamentary', 'activity', 'bakunin', 'characterised', 'marx_s', 'ideas', 'as', 'authoritarian', 'and', 'predicted', 'that', 'if', 'a', 'marxist', 'party', 'gained', 'to', 'power', 'its', 'leaders', 'would', 'end', 'up', 'as', 'bad', 'as', 'the', 'ruling_class', 'they', 'had', 'fought_against', 'in', 'one', 'eight', 'seven', 'two', 'the', 'conflict', 'climaxed', 'with', 'a', 'final', 'split_between', 'the', 'two', 'groups', 'at', 'the', 'hague', 'congress', 'this', 'is_often_cited', 'as', 'the', 'origin', 'of', 'the', 'conflict_between', 'anarchists', 'and', 'marxists', 'from', 'this', 'moment', 'the', 'social_democratic', 'and', 'libertarian', 'currents', 'of', 'socialism', 'had', 'distinct', 'organisations', 'including', 'rival', 'internationals', 'anarchist_communism', 'peter_kropotkin', 'proudhon', 'and', 'bakunin', 'both', 'opposed_communism', 'associating', 'it', 'with', 'statism', 'however', 'in', 'the', 'one', 'eight', 'seven', 'zero', 's', 'many', 'anarchists', 'moved_away_from', 'bakunin', 's', 'economic', 'thinking', 'called', 'collectivism', 'and', 'embraced', 'communist', 'concepts', 'communists', 'believed', 'the', 'means', 'of', 'production', 'should_be', 'owned', 'collectively', 'and', 'that', 'goods', 'be', 'distributed', 'by', 'need_not', 'labor', 'an', 'early', 'anarchist', 'communist', 'was', 'joseph', 'd', 'jacque', 'the', 'first_person', 'to_describe', 'himself', 'as', 'libertarian', 'unlike', 'proudhon', 'he', 'argued_that', 'it', 'is', 'not', 'the', 'product', 'of', 'his', 'or', 'her', 'labor', 'that', 'the', 'worker', 'has', 'a', 'right', 'to', 'but', 'to', 'the', 'satisfaction', 'of', 'his', 'or', 'her', 'needs', 'whatever', 'may_be', 'their', 'nature', 'he', 'announced', 'his', 'ideas', 'in', 'his', 'us', 'published', 'journal', 'le', 'libertaire', 'one', 'eight', 'five', 'eight', 'one', 'eight', 'six', 'one', 'peter_kropotkin', 'often_seen_as', 'the', 'most_important', 'theorist', 'outlined', 'his', 'economic', 'ideas', 'in', 'the', 'conquest', 'of', 'bread', 'and', 'fields', 'factories', 'and', 'workshops', 'he_felt', 'co_operation', 'is', 'more', 'beneficial', 'than', 'competition', 'illustrated', 'in', 'nature', 'in', 'mutual_aid', 'a', 'factor', 'of', 'evolution', 'one', 'eight', 'nine', 'seven', 'subsequent', 'anarchist_communists', 'include', 'emma_goldman', 'and', 'alexander_berkman', 'many', 'in', 'the', 'anarcho_syndicalist', 'movements', 'see_below', 'saw', 'anarchist_communism', 'as', 'their', 'objective', 'isaac', 'puente', 's', 'one', 'nine', 'three', 'two', 'comunismo', 'libertario', 'was', 'adopted', 'by', 'the', 'spanish', 'cnt', 'as', 'its', 'manifesto', 'for', 'a', 'post', 'revolutionary', 'society', 'some', 'anarchists', 'disliked', 'merging', 'communism', 'with', 'anarchism', 'several', 'individualist_anarchists', 'maintained', 'that', 'abolition', 'of', 'private_property', 'was', 'not', 'consistent_with', 'liberty', 'for_example', 'benjamin_tucker', 'whilst', 'professing', 'respect', 'for', 'kropotkin', 'and', 'publishing', 'his', 'work', 'described', 'communist', 'anarchism', 'as', 'pseudo', 'anarchism', 'propaganda', 'of', 'the', 'deed', 'johann', 'most', 'was', 'an_outspoken', 'advocate', 'of', 'violence', 'anarchists', 'have', 'often_been', 'portrayed_as', 'dangerous', 'and', 'violent', 'due_mainly', 'to', 'a', 'number', 'of', 'high_profile', 'violent_acts', 'including', 'riots', 'assassinations', 'insurrections', 'and', 'terrorism', 'by', 'some', 'anarchists', 'some', 'revolutionaries', 'of', 'the', 'late', 'one', 'nine', 'th_century', 'encouraged', 'acts', 'of', 'political_violence', 'such_as', 'bombings', 'and', 'the', 'assassinations', 'of', 'heads', 'of', 'state', 'to', 'further', 'anarchism', 'such', 'actions', 'have', 'sometimes', 'been', 'called', 'propaganda', 'by', 'the', 'deed', 'one', 'of', 'the', 'more', 'outspoken', 'advocates', 'of', 'this', 'strategy', 'was', 'johann', 'most', 'who', 'said', 'the', 'existing', 'system', 'will_be', 'quickest', 'and', 'most', 'radically', 'overthrown_by', 'the', 'annihilation', 'of', 'its', 'exponents', 'therefore', 'massacres', 'of', 'the', 'enemies', 'of', 'the', 'people', 'must_be', 'set', 'in', 'motion', 'most', 's', 'preferred_method', 'of', 'terrorism', 'dynamite', 'earned_him', 'the', 'moniker', 'dynamost', 'however', 'there_is', 'no_consensus_on', 'the', 'legitimacy', 'or', 'utility', 'of', 'violence', 'in', 'general', 'mikhail_bakunin', 'and', 'errico_malatesta', 'for_example', 'wrote', 'of', 'violence', 'as', 'a', 'necessary', 'and', 'sometimes', 'desirable', 'force', 'in', 'revolutionary', 'settings', 'but', 'at', 'the', 'same_time', 'they', 'denounced', 'acts', 'of', 'individual', 'terrorism', 'malatesta', 'in', 'on', 'violence', 'and', 'bakunin', 'when', 'he', 'refuted', 'nechaev', 'other', 'anarchists', 'sometimes_identified', 'as', 'pacifist', 'anarchists', 'advocated', 'complete', 'nonviolence', 'leo_tolstoy', 'whose', 'philosophy', 'is', 'often_viewed_as', 'a', 'form', 'of', 'christian_anarchism', 'see_below', 'was', 'a', 'notable', 'exponent', 'of', 'nonviolent_resistance', 'anarchism', 'in', 'the', 'labour_movement', 'the', 'red', 'and', 'black_flag', 'coming_from', 'the', 'experience', 'of', 'anarchists', 'in', 'the', 'labour_movement', 'is', 'particularly', 'associated_with', 'anarcho_syndicalism', 'anarcho_syndicalism', 'was', 'an', 'early', 'two', 'zero', 'th_century', 'working_class', 'movement', 'seeking', 'to', 'overthrow', 'capitalism', 'and', 'the', 'state', 'to', 'institute', 'a', 'worker', 'controlled', 'society', 'the', 'movement', 'pursued', 'industrial', 'actions', 'such_as', 'general_strike', 'as', 'a', 'primary', 'strategy', 'many', 'anarcho_syndicalists', 'believed', 'in', 'anarchist_communism', 'though', 'not', 'all', 'communists', 'believed', 'in', 'syndicalism', 'after', 'the', 'one', 'eight', 'seven', 'one', 'repression', 'french', 'anarchism', 'reemerged', 'influencing', 'the', 'bourses', 'de', 'travails', 'of', 'autonomous', 'workers', 'groups', 'and', 'trade_unions', 'from', 'this', 'movement', 'the', 'conf', 'd_ration', 'g_n_rale', 'du_travail', 'general', 'confederation', 'of', 'work', 'cgt', 'was', 'formed', 'in', 'one', 'eight', 'nine', 'five', 'as', 'the', 'first', 'major', 'anarcho_syndicalist', 'movement', 'emile', 'pataud', 'and', 'emile', 'pouget', 's', 'writing', 'for', 'the', 'cgt', 'saw', 'libertarian_communism', 'developing', 'from', 'a', 'general_strike', 'after', 'one', 'nine', 'one', 'four', 'the', 'cgt', 'moved_away_from', 'anarcho_syndicalism', 'due_to', 'the', 'appeal', 'of', 'bolshevism', 'french', 'style', 'syndicalism', 'was', 'a', 'significant', 'movement', 'in', 'europe', 'prior_to', 'one', 'nine', 'two', 'one', 'and', 'remained', 'a', 'significant', 'movement', 'in', 'spain', 'until', 'the', 'mid', 'one', 'nine', 'four', 'zero', 's', 'the', 'industrial_workers', 'of', 'the', 'world', 'iww', 'founded', 'in', 'one', 'nine', 'zero', 'five', 'in', 'the', 'us', 'espoused', 'unionism', 'and', 'sought', 'a', 'general_strike', 'to', 'usher', 'in', 'a', 'stateless', 'society', 'in', 'one', 'nine', 'two', 'three', 'one', 'zero', 'zero', 'zero', 'zero', 'zero', 'members', 'existed', 'with', 'the', 'support', 'of', 'up', 'to', 'three', 'zero', 'zero', 'zero', 'zero', 'zero', 'though', 'not', 'explicitly', 'anarchist', 'they', 'organized', 'by', 'rank', 'and', 'file', 'democracy', 'embodying', 'a', 'spirit', 'of', 'resistance', 'that', 'has_inspired', 'many', 'anglophone', 'syndicalists', 'cnt', 'propaganda', 'from', 'april', 'two', 'zero', 'zero', 'four', 'reads', 'don_t_let', 'the', 'politicians', 'rule', 'our_lives', 'you', 'vote', 'and', 'they', 'decide', 'don_t', 'allow', 'it', 'unity', 'action', 'self_management', 'spanish', 'anarchist', 'trade_union', 'federations', 'were', 'formed', 'in', 'the', 'one', 'eight', 'seven', 'zero', 's', 'one', 'nine', 'zero', 'zero', 'and', 'one', 'nine', 'one', 'zero', 'the', 'most_successful', 'was', 'the', 'confederaci_n', 'nacional_del', 'trabajo', 'national', 'confederation', 'of', 'labour', 'cnt', 'founded', 'in', 'one', 'nine', 'one', 'zero', 'prior_to', 'the', 'one', 'nine', 'four', 'zero', 's', 'the', 'cnt', 'was', 'the', 'major', 'force', 'in', 'spanish', 'working_class', 'politics', 'with', 'a', 'membership', 'of', 'one', 'five', 'eight', 'million', 'in', 'one', 'nine', 'three', 'four', 'the', 'cnt', 'played', 'a_major_role', 'in', 'the', 'spanish_civil_war', 'see_also', 'anarchism', 'in', 'spain', 'syndicalists', 'like', 'ricardo', 'flores', 'mag', 'n', 'were', 'key_figures', 'in', 'the', 'mexican_revolution', 'latin_american', 'anarchism', 'was_strongly_influenced', 'extending', 'to', 'the', 'zapatista', 'rebellion', 'and', 'the', 'factory', 'occupation', 'movements', 'in', 'argentina', 'in', 'berlin', 'in', 'one', 'nine', 'two', 'two', 'the', 'cnt', 'was', 'joined', 'with', 'the', 'international', 'workers', 'association', 'an', 'anarcho_syndicalist', 'successor', 'to', 'the', 'first', 'international', 'contemporary', 'anarcho_syndicalism', 'continues', 'as', 'a', 'minor', 'force', 'in', 'many', 'socities', 'much_smaller_than', 'in', 'the', 'one', 'nine', 'one', 'zero', 's', 'two', 'zero', 's', 'and', 'three', 'zero', 's', 'the', 'largest', 'organised', 'anarchist_movement', 'today', 'is', 'in', 'spain', 'in', 'the', 'form', 'of', 'the', 'confederaci_n', 'general', 'del_trabajo', 'and', 'the', 'cnt', 'the', 'cgt', 'claims', 'a', 'paid', 'up', 'membership', 'of', 'six', 'zero', 'zero', 'zero', 'zero', 'and', 'received', 'over', 'a', 'million', 'votes', 'in', 'spanish', 'syndical', 'elections', 'other', 'active', 'syndicalist', 'movements', 'include', 'the', 'us', 'workers_solidarity', 'alliance', 'and', 'the', 'uk', 'solidarity', 'federation', 'the', 'revolutionary', 'industrial', 'unionist', 'industrial_workers', 'of', 'the', 'world', 'also', 'exists', 'claiming', 'two', 'zero', 'zero', 'zero', 'paid', 'members', 'contemporary', 'critics', 'of', 'anarcho_syndicalism', 'and', 'revolutionary', 'industrial_unionism', 'claim_that', 'they_are', 'workerist', 'and', 'fail', 'to', 'deal_with', 'economic', 'life', 'outside', 'work', 'post', 'leftist', 'critics', 'such_as', 'bob', 'black', 'claim', 'anarcho_syndicalism', 'advocates', 'oppressive_social', 'structures', 'such_as', 'work', 'and', 'the', 'workplace', 'anarcho_syndicalists', 'in', 'general', 'uphold', 'principles', 'of', 'workers_solidarity', 'direct_action', 'and', 'self_management', 'the', 'russian_revolution', 'the', 'russian_revolution', 'of', 'one', 'nine', 'one', 'seven', 'was', 'a', 'seismic', 'event', 'in', 'the', 'development', 'of', 'anarchism', 'as', 'a', 'movement', 'and', 'as', 'a', 'philosophy', 'anarchists', 'participated', 'alongside', 'the', 'bolsheviks', 'in', 'both', 'february', 'and', 'october', 'revolutions', 'many', 'anarchists', 'initially', 'supporting', 'the', 'bolshevik', 'coup', 'however', 'the', 'bolsheviks', 'soon_turned', 'against', 'the', 'anarchists', 'and', 'other', 'left_wing_opposition', 'a', 'conflict', 'which_culminated_in', 'the', 'one', 'nine', 'one', 'eight', 'kronstadt_rebellion', 'anarchists', 'in', 'central', 'russia', 'were', 'imprisoned', 'or', 'driven_underground', 'or', 'joined', 'the', 'victorious', 'bolsheviks', 'in', 'ukraine', 'anarchists', 'fought', 'in', 'the', 'civil_war', 'against', 'both', 'whites', 'and', 'bolsheviks', 'within', 'the', 'makhnovshchina', 'peasant', 'army', 'led_by', 'nestor_makhno', 'expelled', 'american', 'anarchists', 'emma_goldman', 'and', 'alexander_berkman', 'before_leaving', 'russia', 'were', 'amongst', 'those', 'agitating', 'in', 'response', 'to', 'bolshevik', 'policy', 'and', 'the', 'suppression', 'of', 'the', 'kronstadt', 'uprising', 'both', 'wrote', 'classic', 'accounts', 'of', 'their', 'experiences', 'in', 'russia', 'aiming', 'to', 'expose', 'the', 'reality', 'of', 'bolshevik', 'control', 'for', 'them', 'bakunin', 's', 'predictions_about', 'the', 'consequences', 'of', 'marxist', 'rule', 'had', 'proved', 'all', 'too', 'true', 'the', 'victory', 'of', 'the', 'bolsheviks', 'in', 'the', 'october_revolution', 'and', 'the', 'resulting', 'russian_civil_war', 'did', 'serious_damage', 'to', 'anarchist', 'movements', 'internationally', 'many', 'workers', 'and', 'activists', 'saw', 'bolshevik', 'success', 'as', 'setting', 'an_example', 'communist_parties', 'grew', 'at', 'the', 'expense', 'of', 'anarchism', 'and', 'other', 'socialist_movements', 'in', 'france', 'and', 'the', 'us', 'for_example', 'the', 'major', 'syndicalist', 'movements', 'of', 'the', 'cgt', 'and', 'iww', 'began', 'to', 'realign', 'themselves', 'away_from', 'anarchism', 'and', 'towards', 'the', 'communist_international', 'in', 'paris', 'the', 'dielo', 'truda', 'group', 'of', 'russian', 'anarchist', 'exiles', 'which', 'included', 'nestor_makhno', 'concluded_that', 'anarchists', 'needed', 'to', 'develop', 'new', 'forms', 'of', 'organisation', 'in', 'response', 'to', 'the', 'structures', 'of', 'bolshevism', 'their', 'one', 'nine', 'two', 'six', 'manifesto', 'known_as', 'the', 'organisational', 'platform', 'of', 'the', 'libertarian_communists', 'was', 'supported_by', 'some', 'communist_anarchists', 'though', 'opposed', 'by', 'many_others', 'the', 'platform', 'continues_to', 'inspire', 'some', 'contemporary', 'anarchist', 'groups', 'who', 'believe', 'in', 'an', 'anarchist_movement', 'organised_around', 'its', 'principles', 'of', 'theoretical', 'unity', 'tactical', 'unity', 'collective_responsibility', 'and', 'federalism', 'platformist', 'groups', 'today', 'include', 'the', 'workers_solidarity', 'movement', 'in', 'ireland', 'the', 'uk', 's', 'anarchist', 'federation', 'and', 'the', 'late', 'north_eastern', 'federation', 'of', 'anarchist_communists', 'in', 'the', 'northeastern_united_states', 'and', 'bordering', 'canada', 'the', 'fight_against', 'fascism', 'spain', 'one', 'nine', 'three', 'six', 'members', 'of', 'the', 'cnt', 'construct', 'armoured_cars', 'to', 'fight_against', 'the', 'fascists', 'in', 'one', 'of', 'the', 'collectivised', 'factories', 'in', 'the', 'one', 'nine', 'two', 'zero', 's', 'and', 'one', 'nine', 'three', 'zero', 's', 'the', 'familiar', 'dynamics', 'of', 'anarchism', 's', 'conflict_with', 'the', 'state', 'were', 'transformed', 'by', 'the', 'rise', 'of', 'fascism', 'in', 'europe', 'in_many_cases', 'european', 'anarchists', 'faced', 'difficult', 'choices', 'should', 'they', 'join', 'in', 'popular', 'fronts', 'with', 'reformist', 'democrats', 'and', 'soviet', 'led', 'communists', 'against', 'a', 'common', 'fascist', 'enemy', 'luigi', 'fabbri', 'an', 'exile', 'from', 'italian_fascism', 'was', 'amongst', 'those', 'arguing_that', 'fascism', 'was', 'something', 'different', 'fascism', 'is', 'not_just', 'another', 'form', 'of', 'government', 'which', 'like', 'all', 'others', 'uses', 'violence', 'it', 'is', 'the', 'most', 'authoritarian', 'and', 'the', 'most', 'violent', 'form', 'of', 'government', 'imaginable', 'it', 'represents', 'the', 'utmost', 'glorification', 'of', 'the', 'theory', 'and', 'practice', 'of', 'the', 'principle', 'of', 'authority', 'in', 'france', 'where', 'the', 'fascists', 'came_close_to', 'insurrection', 'in', 'the', 'february', 'one', 'nine', 'three', 'four', 'riots', 'anarchists', 'divided', 'over', 'a', 'united_front', 'policy', 'in', 'spain', 'the', 'cnt', 'initially_refused', 'to_join', 'a', 'popular_front', 'electoral', 'alliance', 'and', 'abstention', 'by', 'cnt', 'supporters', 'led', 'to', 'a', 'right_wing', 'election_victory', 'but', 'in', 'one', 'nine', 'three', 'six', 'the', 'cnt', 'changed', 'its', 'policy', 'and', 'anarchist', 'votes', 'helped_bring', 'the', 'popular_front', 'back', 'to', 'power', 'months_later', 'the', 'ruling_class', 'responded_with', 'an', 'attempted_coup', 'and', 'the', 'spanish_civil_war', 'one', 'nine', 'three', 'six', 'three', 'nine', 'was', 'underway', 'in', 'reponse', 'to', 'the', 'army', 'rebellion', 'an_anarchist', 'inspired', 'movement', 'of', 'peasants', 'and', 'workers', 'supported_by', 'armed', 'militias', 'took_control', 'of', 'the', 'major', 'city', 'of', 'barcelona', 'and', 'of', 'large_areas', 'of', 'rural', 'spain', 'where', 'they', 'collectivized', 'the', 'land', 'but', 'even', 'before', 'the', 'eventual', 'fascist', 'victory', 'in', 'one', 'nine', 'three', 'nine', 'the', 'anarchists', 'were', 'losing_ground', 'in', 'a', 'bitter_struggle', 'with', 'the', 'stalinists', 'the', 'cnt', 'leadership', 'often', 'appeared', 'confused', 'and', 'divided', 'with', 'some', 'members', 'controversially', 'entering', 'the', 'government', 'stalinist', 'led', 'troops', 'suppressed', 'the', 'collectives', 'and', 'persecuted', 'both', 'dissident', 'marxists', 'and', 'anarchists', 'since', 'the', 'late', 'one', 'nine', 'seven', 'zero', 's', 'anarchists', 'have_been', 'involved', 'in', 'fighting', 'the', 'rise', 'of', 'neo_fascist', 'groups', 'in', 'germany', 'and', 'the', 'united_kingdom', 'some', 'anarchists', 'worked', 'within', 'militant', 'anti_fascist', 'groups', 'alongside', 'members', 'of', 'the', 'marxist', 'left', 'they', 'advocated', 'directly', 'combating', 'fascists', 'with', 'physical_force', 'rather_than_relying_on', 'the', 'state', 'since', 'the', 'late', 'one', 'nine', 'nine', 'zero', 's', 'a', 'similar', 'tendency', 'has', 'developed', 'within', 'us', 'anarchism', 'see_also', 'anti_racist', 'action', 'us', 'anti_fascist', 'action', 'uk', 'antifa', 'religious', 'anarchism', 'leo_tolstoy', 'one', 'eight', 'two', 'eight', 'one', 'nine', 'one', 'zero', 'most', 'anarchist', 'culture', 'tends_to_be', 'secular', 'if', 'not', 'outright', 'anti', 'religious', 'however', 'the', 'combination', 'of', 'religious', 'social', 'conscience', 'historical', 'religiousity', 'amongst', 'oppressed', 'social_classes', 'and', 'the', 'compatibility', 'of', 'some', 'interpretations', 'of', 'religious_traditions', 'with', 'anarchism', 'has_resulted_in', 'religious', 'anarchism', 'christian', 'anarchists', 'believe_that', 'there_is', 'no', 'higher', 'authority', 'than', 'god', 'and', 'oppose', 'earthly', 'authority', 'such_as', 'government', 'and', 'established', 'churches', 'they_believe_that', 'jesus_teachings', 'were', 'clearly', 'anarchistic', 'but', 'were', 'corrupted', 'when', 'christianity', 'was', 'declared', 'the', 'official_religion', 'of', 'rome', 'christian', 'anarchists', 'who', 'follow', 'jesus', 'directive', 'to', 'turn', 'the', 'other', 'cheek', 'are', 'strict', 'pacifists', 'the', 'most_famous', 'advocate', 'of', 'christian_anarchism', 'was', 'leo_tolstoy', 'author', 'of', 'the', 'kingdom', 'of', 'god', 'is', 'within', 'you', 'who', 'called', 'for', 'a', 'society', 'based_on', 'compassion', 'nonviolent', 'principles', 'and', 'freedom', 'christian', 'anarchists', 'tend_to', 'form', 'experimental', 'communities', 'they', 'also', 'occasionally', 'resist', 'taxation', 'many', 'christian', 'anarchists', 'are', 'vegetarian', 'or', 'vegan', 'christian', 'anarchy', 'can_be', 'said', 'to', 'have', 'roots', 'as', 'old', 'as', 'the', 'religion', 's', 'birth', 'as', 'the', 'early', 'church', 'exhibits', 'many', 'anarchistic', 'tendencies', 'such_as', 'communal', 'goods', 'and', 'wealth', 'by', 'aiming', 'to', 'obey', 'utterly', 'certain', 'of', 'the', 'bible', 's', 'teachings', 'certain', 'anabaptist_groups', 'of', 'sixteenth_century', 'europe', 'attempted_to', 'emulate', 'the', 'early', 'church', 's', 'social_economic', 'organisation', 'and', 'philosophy', 'by', 'regarding', 'it', 'as', 'the', 'only', 'social_structure', 'capable', 'of', 'true', 'obediance', 'to', 'jesus_teachings', 'and', 'utterly', 'rejected', 'in', 'theory', 'all', 'earthly', 'hierarchies', 'and', 'authority', 'and', 'indeed', 'non', 'anabaptists', 'in', 'general', 'and', 'violence', 'as', 'ungodly', 'such', 'groups', 'for_example', 'the', 'hutterites', 'typically', 'went', 'from', 'initially', 'anarchistic', 'beginnings', 'to', 'as', 'their', 'movements', 'stabalised', 'more', 'authoritarian', 'social', 'models', 'chinese', 'anarchism', 'was', 'most_influential', 'in', 'the', 'one', 'nine', 'two', 'zero', 's', 'strands', 'of', 'chinese', 'anarchism', 'included', 'tai', 'xu', 's', 'buddhist', 'anarchism', 'which', 'was', 'influenced_by', 'tolstoy', 'and', 'the', 'well', 'field', 'system', 'neopaganism', 'with', 'its', 'focus_on', 'the', 'environment', 'and', 'equality', 'along_with', 'its', 'often', 'decentralized_nature', 'has', 'lead', 'to', 'a', 'number', 'of', 'neopagan', 'anarchists', 'one', 'of', 'the', 'most_prominent', 'is', 'starhawk', 'who', 'writes', 'extensively', 'about', 'both', 'spirituality', 'and', 'activism', 'anarchism', 'and', 'feminism', 'emma_goldman', 'early', 'french', 'feminists', 'such_as', 'jenny', 'd', 'h', 'ricourt', 'and', 'juliette', 'adam', 'criticised', 'the', 'mysogyny', 'in', 'the', 'anarchism', 'of', 'proudhon', 'during', 'the', 'one', 'eight', 'five', 'zero', 's', 'anarcha_feminism', 'is', 'a', 'kind', 'of', 'radical_feminism', 'that', 'espouses', 'the', 'belief_that', 'patriarchy', 'is', 'a', 'fundamental', 'problem', 'in', 'society', 'while', 'anarchist', 'feminism', 'has_existed', 'for', 'more_than', 'a', 'hundred_years', 'its', 'explicit', 'formulation', 'as', 'anarcha_feminism', 'dates_back_to', 'the', 'early', 'seven', 'zero', 's', 'during', 'the', 'second_wave', 'feminist_movement', 'anarcha_feminism', 'views', 'patriarchy', 'as', 'the', 'first', 'manifestation', 'of', 'hierarchy', 'in', 'human', 'history', 'thus', 'the', 'first', 'form', 'of', 'oppression', 'occurred', 'in', 'the', 'dominance', 'of', 'male', 'over', 'female', 'anarcha', 'feminists', 'then', 'conclude_that', 'if', 'feminists', 'are', 'against', 'patriarchy', 'they', 'must', 'also', 'be', 'against', 'all', 'forms', 'of', 'hierarchy', 'and', 'therefore', 'must', 'reject', 'the', 'authoritarian', 'nature', 'of', 'the', 'state', 'and', 'capitalism_anarcho', 'primitivists', 'see', 'the', 'creation', 'of', 'gender_roles', 'and', 'patriarchy', 'a', 'creation', 'of', 'the', 'start', 'of', 'civilization', 'and', 'therefore', 'consider', 'primitivism', 'to', 'also', 'be', 'an_anarchist', 'school', 'of', 'thought', 'that', 'addresses', 'feminist', 'concerns', 'eco', 'feminism', 'is_often_considered', 'a', 'feminist', 'variant', 'of', 'green', 'anarchist', 'feminist', 'thought', 'anarcha_feminism', 'is', 'most_often_associated', 'with', 'early', 'two', 'zero', 'th_century', 'authors', 'and', 'theorists_such_as', 'emma_goldman', 'and', 'voltairine_de', 'cleyre', 'although', 'even', 'early', 'first', 'wave_feminist', 'mary_wollstonecraft', 'held', 'proto', 'anarchist', 'views', 'and', 'william_godwin', 'is_often_considered', 'a', 'feminist', 'anarchist', 'precursor', 'it_should_be', 'noted_that', 'goldman', 'and', 'de_cleyre', 'though', 'they', 'both', 'opposed', 'the', 'state', 'had', 'opposing', 'philosophies', 'as', 'de_cleyre', 'explains', 'miss', 'goldman', 'is', 'a', 'communist', 'i_am', 'an_individualist', 'she', 'wishes', 'to', 'destroy', 'the', 'right', 'of', 'property', 'i_wish', 'to', 'assert', 'it', 'i', 'make', 'my', 'war', 'upon', 'privilege', 'and', 'authority', 'whereby', 'the', 'right', 'of', 'property', 'the', 'true', 'right', 'in', 'that', 'which', 'is', 'proper', 'to', 'the', 'individual', 'is', 'annihilated', 'she_believes', 'that', 'co_operation', 'would', 'entirely', 'supplant', 'competition', 'i', 'hold', 'that', 'competition', 'in', 'one', 'form', 'or', 'another', 'will_always', 'exist', 'and', 'that', 'it', 'is', 'highly_desirable', 'it', 'should', 'in', 'the', 'spanish_civil_war', 'an', 'anarcha', 'feminist', 'group', 'free', 'women', 'organized', 'to_defend', 'both', 'anarchist', 'and', 'feminist_ideas', 'in', 'the', 'modern_day', 'anarchist_movement', 'many', 'anarchists', 'male', 'or', 'female', 'consider_themselves', 'feminists', 'and', 'anarcha', 'feminist_ideas', 'are', 'growing', 'the', 'publishing', 'of', 'quiet', 'rumors', 'an', 'anarcha', 'feminist', 'reader', 'has', 'helped', 'to', 'spread', 'various_kinds', 'of', 'anti_authoritarian', 'and', 'anarchist', 'feminist_ideas', 'to', 'the', 'broader', 'movement', 'wendy_mcelroy', 'has', 'popularized', 'an', 'individualist_anarchism', 'take', 'on', 'feminism', 'in', 'her', 'books', 'articles', 'and', 'individualist', 'feminist', 'website', 'anarcho_capitalism', 'murray_rothbard', 'one', 'nine', 'two', 'six', 'one', 'nine', 'nine', 'five', 'anarcho_capitalism', 'is', 'a', 'predominantly', 'united_states', 'based', 'theoretical', 'tradition', 'that', 'desires', 'a', 'stateless', 'society', 'with', 'the', 'economic_system', 'of', 'free_market_capitalism', 'unlike_other', 'branches', 'of', 'anarchism', 'it', 'does_not', 'oppose', 'profit', 'or', 'capitalism', 'consequently', 'most', 'anarchists', 'do_not', 'recognise', 'anarcho_capitalism', 'as', 'a', 'form', 'of', 'anarchism', 'murray_rothbard', 's', 'synthesis', 'of', 'classical_liberalism', 'and', 'austrian_economics', 'was', 'germinal', 'for', 'the', 'development', 'of', 'contemporary', 'anarcho_capitalist', 'theory', 'he', 'defines', 'anarcho_capitalism', 'in', 'terms', 'of', 'the', 'non_aggression', 'principle', 'based_on', 'the', 'concept', 'of', 'natural_law', 'competiting', 'theorists', 'use', 'egoism', 'utilitarianism', 'used', 'by', 'david_friedman', 'or', 'contractarianism', 'used', 'by', 'jan', 'narveson', 'some', 'minarchists', 'such_as', 'ayn_rand', 'robert_nozick', 'and', 'robert', 'a_heinlein', 'have_influenced', 'anarcho_capitalism', 'some', 'anarcho_capitalists', 'along_with', 'some', 'right_wing', 'libertarian', 'historians', 'such_as', 'david', 'hart', 'and', 'ralph', 'raico', 'considered', 'similar', 'philosophies', 'existing', 'prior_to', 'rothbard', 'to_be', 'anarcho_capitalist', 'such_as', 'those', 'of', 'gustave_de_molinari', 'and', 'auberon_herbert', 'opponents', 'of', 'anarcho_capitalists', 'dispute', 'these', 'claims', 'the', 'place', 'of', 'anarcho_capitalism', 'within', 'anarchism', 'and', 'indeed', 'whether', 'it', 'is', 'a', 'form', 'of', 'anarchism', 'at', 'all', 'is', 'highly_controversial', 'for', 'more', 'on', 'this', 'debate', 'see', 'anarchism', 'and', 'anarcho_capitalism', 'anarchism', 'and', 'the', 'environment', 'since', 'the', 'late', 'one', 'nine', 'seven', 'zero', 's', 'anarchists', 'in', 'anglophone', 'and', 'european_countries', 'have_been', 'taking', 'action', 'for', 'the', 'natural_environment', 'eco_anarchists', 'or', 'green', 'anarchists', 'believe', 'in', 'deep_ecology', 'this', 'is', 'a', 'worldview', 'that', 'embraces', 'biodiversity', 'and', 'sustainability', 'eco_anarchists', 'often', 'use', 'direct_action', 'against', 'what', 'they', 'see', 'as', 'earth', 'destroying', 'institutions', 'of', 'particular_importance', 'is', 'the', 'earth', 'first', 'movement', 'that', 'takes', 'action', 'such_as', 'tree', 'sitting', 'another', 'important_component', 'is', 'ecofeminism', 'which', 'sees', 'the', 'domination', 'of', 'nature', 'as', 'a', 'metaphor', 'for', 'the', 'domination', 'of', 'women', 'green_anarchism', 'also', 'involves', 'a', 'critique', 'of', 'industrial_capitalism', 'and', 'for', 'some', 'green', 'anarchists', 'civilization', 'itself', 'primitivism', 'is', 'a', 'predominantly', 'western_philosophy', 'that', 'advocates', 'a', 'return', 'to', 'a', 'pre_industrial', 'and', 'usually', 'pre', 'agricultural', 'society', 'it', 'develops', 'a', 'critique', 'of', 'industrial', 'civilization', 'in', 'this', 'critique', 'technology', 'and', 'development', 'have', 'alienated', 'people', 'from', 'the', 'natural', 'world', 'this', 'philosophy', 'develops', 'themes', 'present', 'in', 'the', 'political', 'action', 'of', 'the', 'luddites', 'and', 'the', 'writings', 'of', 'jean_jacques_rousseau', 'primitivism', 'developed', 'in', 'the', 'context', 'of', 'the', 'reclaim', 'the', 'streets', 'earth', 'first', 'and', 'the', 'earth_liberation_front', 'movements', 'john_zerzan', 'wrote', 'that', 'civilization', 'not_just', 'the', 'state', 'would_need', 'to', 'fall', 'for', 'anarchy', 'to', 'be_achieved', 'anarcho', 'primitivists', 'point', 'to', 'the', 'anti_authoritarian', 'nature', 'of', 'many', 'primitive', 'or', 'hunter_gatherer_societies', 'throughout', 'the', 'world', 's', 'history', 'as', 'examples', 'of', 'anarchist', 'societies', 'other_branches', 'and', 'offshoots', 'anarchism', 'generates', 'many', 'eclectic', 'and', 'syncretic', 'philosophies', 'and', 'movements', 'since', 'the', 'western', 'social', 'formet', 'in', 'the', 'one', 'nine', 'six', 'zero', 's', 'and', 'one', 'nine', 'seven', 'zero', 's', 'a', 'number', 'new', 'of', 'movements', 'and', 'schools', 'have', 'appeared', 'most', 'of', 'these', 'stances', 'are', 'limited', 'to', 'even', 'smaller_numbers', 'than', 'the', 'schools', 'and', 'movements', 'listed_above', 'hakim_bey', 'post_left_anarchy', 'post_left_anarchy', 'also', 'called', 'egoist', 'anarchism', 'seeks_to', 'distance', 'itself', 'from', 'the', 'traditional', 'left', 'communists', 'liberals', 'social_democrats', 'etc', 'and', 'to', 'escape', 'the', 'confines', 'of', 'ideology', 'in', 'general', 'post', 'leftists', 'argue_that', 'anarchism', 'has_been', 'weakened', 'by', 'its', 'long', 'attachment', 'to', 'contrary', 'leftist', 'movements', 'and', 'single', 'issue', 'causes', 'anti_war', 'anti_nuclear', 'etc', 'it', 'calls_for', 'a', 'synthesis', 'of', 'anarchist', 'thought', 'and', 'a', 'specifically', 'anti_authoritarian', 'revolutionary_movement', 'outside', 'of', 'the', 'leftist', 'milieu', 'it', 'often', 'focuses_on', 'the', 'individual', 'rather_than', 'speaking', 'in', 'terms', 'of', 'class', 'or', 'other', 'broad', 'generalizations', 'and', 'shuns', 'organizational', 'tendencies', 'in', 'favor', 'of', 'the', 'complete_absence', 'of', 'explicit', 'hierarchy', 'important', 'groups', 'and', 'individuals', 'associated_with', 'post_left_anarchy', 'include', 'crimethinc', 'the', 'magazine', 'anarchy', 'a', 'journal', 'of', 'desire', 'armed', 'and', 'its', 'editor', 'jason', 'mcquinn', 'bob', 'black', 'hakim_bey', 'and', 'others', 'for', 'more_information', 'see', 'infoshop_org', 's', 'anarchy', 'after', 'leftism', 'section', 'and', 'the', 'post', 'left', 'section', 'on', 'anarchism', 'ws', 'see_also', 'post_left_anarchy', 'post_structuralism', 'the', 'term', 'postanarchism', 'was', 'originated', 'by', 'saul', 'newman', 'first', 'receiving', 'popular', 'attention', 'in', 'his', 'book', 'from', 'bakunin', 'to', 'lacan', 'to', 'refer_to', 'a', 'theoretical', 'move_towards', 'a', 'synthesis', 'of', 'classical', 'anarchist', 'theory', 'and', 'poststructuralist', 'thought', 'subsequent', 'to', 'newman', 's', 'use', 'of', 'the', 'term', 'however', 'it', 'has', 'taken', 'on', 'a', 'life', 'of', 'its_own', 'and', 'a_wide_range', 'of', 'ideas', 'including', 'autonomism', 'post_left_anarchy', 'situationism', 'post', 'colonialism', 'and', 'zapatismo', 'by', 'its', 'very', 'nature', 'post', 'anarchism', 'rejects', 'the', 'idea_that', 'it_should_be', 'a', 'coherent', 'set', 'of', 'doctrines', 'and', 'beliefs', 'as', 'such', 'it', 'is', 'difficult', 'if', 'not', 'impossible', 'to', 'state', 'with', 'any', 'degree', 'of', 'certainty', 'who', 'should', 'or', 'shouldn_t_be', 'grouped_under', 'the', 'rubric', 'nonetheless', 'key', 'thinkers', 'associated_with', 'post', 'anarchism', 'include', 'saul', 'newman', 'todd', 'may', 'gilles_deleuze', 'and', 'f_lix_guattari', 'external', 'reference', 'postanarchism', 'clearinghouse', 'see_also', 'post', 'anarchism', 'insurrectionary', 'anarchism', 'insurrectionary', 'anarchism', 'is', 'a', 'form', 'of', 'revolutionary', 'anarchism', 'critical', 'of', 'formal', 'anarchist', 'labor_unions', 'and', 'federations', 'insurrectionary', 'anarchists', 'advocate', 'informal', 'organization', 'including', 'small', 'affinity', 'groups', 'carrying_out', 'acts', 'of', 'resistance', 'in', 'various', 'struggles', 'and', 'mass', 'organizations', 'called', 'base', 'structures', 'which', 'can', 'include', 'exploited', 'individuals_who_are', 'not', 'anarchists', 'proponents', 'include', 'wolfi', 'landstreicher', 'and', 'alfredo', 'm', 'bonanno', 'author', 'of', 'works', 'including', 'armed', 'joy', 'and', 'the', 'anarchist', 'tension', 'this', 'tendency', 'is', 'represented', 'in', 'the', 'us', 'in', 'magazines', 'such_as', 'willful', 'disobedience', 'and', 'killing', 'king', 'abacus', 'see_also', 'insurrectionary', 'anarchism', 'small', 'a', 'anarchism', 'small', 'a', 'anarchism', 'is', 'a', 'term', 'used', 'in', 'two', 'different', 'but', 'not', 'unconnected', 'contexts', 'dave', 'neal', 'posited', 'the', 'term', 'in', 'opposition', 'to', 'big', 'a', 'anarchism', 'in', 'the', 'article', 'anarchism', 'ideology', 'or', 'methodology', 'while', 'big', 'a', 'anarchism', 'referred_to', 'ideological', 'anarchists', 'small', 'a', 'anarchism', 'was', 'applied', 'to', 'their', 'methodological', 'counterparts', 'those_who', 'viewed', 'anarchism', 'as', 'a', 'way', 'of', 'acting', 'or', 'a', 'historical', 'tendency', 'against', 'illegitimate', 'authority', 'as', 'an', 'anti', 'ideological', 'position', 'small', 'a', 'anarchism', 'shares', 'some', 'similarities', 'with', 'post_left_anarchy', 'david', 'graeber', 'and', 'andrej', 'grubacic', 'offer', 'an_alternative', 'use', 'of', 'the', 'term', 'applying', 'it', 'to', 'groups', 'and', 'movements', 'organising', 'according_to', 'or', 'acting', 'in', 'a', 'manner_consistent_with', 'anarchist_principles', 'of', 'decentralisation', 'voluntary_association', 'mutual_aid', 'the', 'network', 'model', 'and', 'crucially', 'the', 'rejection', 'of', 'any', 'idea_that', 'the', 'end', 'justifies', 'the', 'means', 'let_alone', 'that', 'the', 'business', 'of', 'a', 'revolutionary', 'is', 'to_seize', 'state', 'power', 'and', 'then', 'begin', 'imposing', 'one', 's', 'vision', 'at', 'the', 'point', 'of', 'a', 'gun', 'other', 'issues', 'conceptions', 'of', 'an', 'anarchist_society', 'many', 'political', 'philosophers', 'justify', 'support', 'of', 'the', 'state', 'as', 'a', 'means', 'of', 'regulating', 'violence', 'so', 'that', 'the', 'destruction', 'caused_by', 'human', 'conflict', 'is', 'minimized', 'and', 'fair', 'relationships', 'are', 'established', 'anarchists', 'argue_that', 'pursuit', 'of', 'these', 'ends', 'does_not', 'justify', 'the', 'establishment', 'of', 'a', 'state', 'many', 'argue_that', 'the', 'state', 'is', 'incompatible_with', 'those', 'goals', 'and', 'the', 'cause', 'of', 'chaos', 'violence', 'and', 'war', 'anarchists', 'argue_that', 'the', 'state', 'helps', 'to_create', 'a', 'monopoly', 'on', 'violence', 'and', 'uses', 'violence', 'to', 'advance', 'elite', 'interests', 'much', 'effort', 'has_been', 'dedicated', 'to', 'explaining_how', 'anarchist', 'societies', 'would', 'handle', 'criminality', 'see_also', 'anarchism', 'and', 'society', 'civil_rights', 'and', 'cultural', 'sovereignty', 'black', 'anarchism', 'opposes', 'the', 'existence', 'of', 'a', 'state', 'capitalism', 'and', 'subjugation', 'and', 'domination', 'of', 'people', 'of', 'color', 'and', 'favors', 'a', 'non', 'hierarchical_organization', 'of', 'society', 'theorists', 'include', 'ashanti', 'alston', 'lorenzo', 'komboa', 'ervin', 'and', 'sam', 'mbah', 'anarchist', 'people', 'of', 'color', 'was', 'created', 'as', 'a', 'forum', 'for', 'non', 'caucasian', 'anarchists', 'to', 'express', 'their', 'thoughts', 'about', 'racial', 'issues', 'within', 'the', 'anarchist_movement', 'particularly', 'within', 'the', 'united_states', 'national', 'anarchism', 'is', 'a', 'political', 'view', 'which', 'seeks_to', 'unite', 'cultural', 'or', 'ethnic', 'preservation', 'with', 'anarchist', 'views', 'its_adherents', 'propose', 'that', 'those', 'preventing', 'ethnic_groups', 'or', 'races', 'from', 'living', 'in', 'separate', 'autonomous', 'groupings', 'should_be', 'resisted', 'anti_racist', 'action', 'is', 'not', 'an_anarchist', 'group', 'but', 'many', 'anarchists', 'are', 'involved', 'it', 'focuses_on', 'publicly', 'confronting', 'racist', 'agitators', 'the', 'zapatista', 'movement', 'of', 'chiapas_mexico', 'is', 'a', 'cultural', 'sovereignty', 'group', 'with', 'some', 'anarchist', 'proclivities', 'neocolonialism', 'and', 'globalization', 'nearly_all', 'anarchists', 'oppose', 'neocolonialism', 'as', 'an_attempt_to', 'use', 'economic_coercion', 'on', 'a', 'global_scale', 'carried_out', 'through', 'state', 'institutions', 'such_as', 'the', 'world_bank', 'world_trade_organization', 'group', 'of', 'eight', 'and', 'the', 'world_economic_forum', 'globalization', 'is', 'an', 'ambiguous', 'term', 'that', 'has', 'different_meanings', 'to', 'different', 'anarchist', 'factions', 'most', 'anarchists', 'use', 'the', 'term', 'to', 'mean', 'neocolonialism', 'and', 'or', 'cultural_imperialism', 'which', 'they', 'may', 'see', 'as', 'related', 'many', 'are', 'active', 'in', 'the', 'anti_globalization_movement', 'others', 'particularly', 'anarcho_capitalists', 'use', 'globalization', 'to', 'mean', 'the', 'worldwide', 'expansion', 'of', 'the', 'division', 'of', 'labor', 'and', 'trade', 'which', 'they', 'see', 'as', 'beneficial', 'so_long', 'as', 'governments', 'do_not', 'intervene', 'parallel', 'structures', 'many', 'anarchists', 'try_to', 'set_up', 'alternatives', 'to', 'state', 'supported', 'institutions', 'and', 'outposts', 'such_as', 'food', 'not', 'bombs', 'infoshops', 'educational', 'systems', 'such_as', 'home_schooling', 'neighborhood', 'mediation_arbitration', 'groups', 'and', 'so', 'on', 'the', 'idea', 'is', 'to_create', 'the', 'structures', 'for', 'a', 'new', 'anti_authoritarian', 'society', 'in', 'the', 'shell', 'of', 'the', 'old', 'authoritarian', 'one', 'technology', 'recent', 'technological_developments', 'have', 'made', 'the', 'anarchist', 'cause', 'both', 'easier', 'to', 'advance', 'and', 'more', 'conceivable', 'to', 'people', 'many', 'people', 'use', 'the', 'internet', 'to', 'form', 'on', 'line', 'communities', 'intellectual_property', 'is', 'undermined', 'and', 'a', 'gift', 'culture', 'supported_by', 'sharing', 'music', 'files', 'open_source', 'programming', 'and', 'the', 'free_software_movement', 'these', 'cyber', 'communities', 'include', 'the', 'gnu_linux', 'indymedia', 'and', 'wiki', 'some', 'anarchists', 'see', 'information_technology', 'as', 'the', 'best', 'weapon', 'to', 'defeat', 'authoritarianism', 'some', 'even', 'think', 'the', 'information', 'age', 'makes', 'eventual', 'anarchy', 'inevitable', 'see_also', 'crypto_anarchism', 'and', 'cypherpunk', 'pacifism', 'some', 'anarchists', 'consider', 'pacifism', 'opposition', 'to', 'war', 'to_be', 'inherent', 'in', 'their', 'philosophy', 'anarcho', 'pacifists', 'take', 'it', 'further', 'and', 'follow', 'leo_tolstoy', 's', 'belief', 'in', 'non_violence', 'anarchists', 'see', 'war', 'as', 'an', 'activity', 'in', 'which', 'the', 'state', 'seeks_to', 'gain', 'and', 'consolidate_power', 'both', 'domestically', 'and', 'in', 'foreign', 'lands', 'and', 'subscribe_to', 'randolph', 'bourne', 's', 'view', 'that', 'war', 'is', 'the', 'health', 'of', 'the', 'state', 'a_lot', 'of', 'anarchist', 'activity', 'has_been', 'anti_war', 'based', 'parliamentarianism', 'in', 'general', 'terms', 'the', 'anarchist', 'ethos', 'opposes', 'voting', 'in', 'elections', 'because', 'voting', 'amounts', 'to', 'condoning', 'the', 'state', 'voluntaryism', 'is', 'an_anarchist', 'school', 'of', 'thought', 'which', 'emphasizes', 'tending', 'your_own', 'garden', 'and', 'neither', 'ballots', 'nor', 'bullets', 'the', 'anarchist', 'case', 'against', 'voting', 'is', 'explained', 'in', 'the', 'ethics', 'of', 'voting', 'by', 'george_h', 'smith', 'also', 'see', 'voting', 'anarchists', 'an_oxymoron', 'or', 'what', 'by', 'joe', 'peacott', 'and', 'writings', 'by', 'fred', 'woodworth', 'sectarianism', 'most', 'anarchist', 'schools', 'of', 'thought', 'are', 'to_some_degree', 'sectarian', 'there_is', 'often', 'a', 'difference', 'of', 'opinion', 'within', 'each', 'school', 'about', 'how', 'to', 'react', 'to', 'or', 'interact_with', 'other', 'schools', 'some', 'such_as', 'panarchists', 'believe_that', 'it', 'is', 'possible', 'for', 'a_variety', 'of', 'modes', 'of', 'social', 'life', 'to', 'coexist', 'and', 'compete', 'some', 'anarchists', 'view', 'opposing', 'schools', 'as', 'a', 'social', 'impossibility', 'and', 'resist', 'interaction', 'others', 'see', 'opportunities_for', 'coalition', 'building', 'or', 'at_least', 'temporary', 'alliances', 'for_specific_purposes', 'see', 'anarchism', 'without', 'adjectives', 'criticisms', 'of', 'anarchism', 'main_article', 'criticisms', 'of', 'anarchism', 'violence', 'since', 'anarchism', 'has', 'often_been', 'associated_with', 'violence', 'and', 'destruction', 'some', 'people', 'have_seen', 'it', 'as', 'being', 'too', 'violent', 'on', 'the', 'other_hand', 'hand', 'frederick_engels', 'criticsed', 'anarchists', 'for', 'not', 'being', 'violent', 'enough', 'a', 'revolution', 'is', 'certainly', 'the', 'most', 'authoritarian', 'thing', 'there_is', 'it', 'is', 'the', 'act', 'whereby', 'one', 'part', 'of', 'the', 'population', 'imposes', 'its', 'will', 'upon', 'the', 'other', 'part', 'by', 'means', 'of', 'rifles', 'bayonets', 'and', 'cannon', 'authoritarian', 'means', 'if', 'such', 'there', 'be', 'at', 'all', 'and', 'if', 'the', 'victorious', 'party', 'does_not_want', 'to', 'have', 'fought', 'in', 'vain', 'it', 'must_maintain', 'this', 'rule', 'by', 'means', 'of', 'the', 'terror', 'which', 'its', 'arms', 'inspire', 'in', 'the', 'reactionists', 'would', 'the', 'paris_commune', 'have', 'lasted', 'a', 'single', 'day', 'if', 'it', 'had', 'not', 'made', 'use', 'of', 'this', 'authority', 'of', 'the', 'armed', 'people', 'against', 'the', 'bourgeois', 'utopianism', 'anarchism', 'is', 'often_criticised', 'as', 'unfeasible', 'or', 'plain', 'utopian', 'even', 'by', 'many', 'who', 'agree_that', 'it', 's', 'a', 'nice', 'idea', 'in', 'principle', 'for_example', 'carl', 'landauer', 'in', 'his', 'book', 'european', 'socialism', 'criticizes', 'anarchism', 'as', 'being', 'unrealistically', 'utopian', 'and', 'holds_that', 'government', 'is', 'a', 'lesser', 'evil', 'than', 'a', 'society', 'without', 'repressive', 'force', 'he', 'holds_that', 'the', 'belief_that', 'ill', 'intentions', 'will_cease', 'if', 'repressive', 'force', 'disappears', 'is', 'an', 'absurdity', 'however', 'it', 'must_be_noted_that', 'not', 'all', 'anarchists', 'have', 'such', 'a', 'utopian', 'view', 'of', 'anarchism', 'for_example', 'some', 'such_as', 'benjamin_tucker', 'advocate', 'privately_funded', 'institutions', 'that', 'defend', 'individual_liberty', 'and', 'property', 'however', 'other', 'anarchists', 'such_as', 'sir_herbert', 'read', 'proudly', 'accept', 'the', 'characterization', 'utopian', 'class', 'character', 'marxists', 'have', 'characterised', 'anarchism', 'as', 'an_expression', 'of', 'the', 'class', 'interests', 'of', 'the', 'petite', 'bourgeoisie', 'or', 'perhaps', 'the', 'lumpenproletariat', 'see', 'e_g', 'plekhanov', 'for', 'a', 'marxist_critique', 'of', 'one', 'eight', 'nine', 'five', 'anarchists', 'have', 'also_been', 'characterised_as', 'spoilt', 'middle_class', 'dilettantes', 'most_recently', 'in', 'relation', 'to', 'anti_capitalist', 'protesters', 'tacit', 'authoritarianism', 'in_recent_decades', 'anarchism', 'has_been_criticised', 'by', 'situationists', 'post', 'anarchists', 'and', 'others', 'of', 'preserving', 'tacitly', 'statist', 'authoritarian', 'or', 'bureaucratic', 'tendencies', 'behind', 'a', 'dogmatic', 'facade', 'hypocrisy', 'some_critics', 'point', 'to', 'the', 'sexist', 'and', 'racist_views', 'of', 'some', 'prominent', 'anarchists', 'notably', 'proudhon', 'and', 'bakunin', 'as', 'examples', 'of', 'hypocrisy', 'inherent', 'within', 'anarchism', 'while', 'many', 'anarchists', 'however', 'dismiss', 'that', 'the', 'personal', 'prejudices', 'of', 'one', 'nine', 'th_century', 'theorists', 'influence', 'the', 'beliefs', 'of', 'present_day', 'anarchists', 'others', 'criticise', 'modern', 'anarchism', 'for', 'continuing', 'to_be', 'eurocentric', 'and', 'reference', 'the', 'impact', 'of', 'anarchist', 'thinkers', 'like', 'proudhon', 'on', 'fascism', 'through', 'groups', 'like', 'cercle', 'proudhon', 'anarcho_capitalist', 'bryan', 'caplan', 'argues_that', 'the', 'treatment', 'of', 'fascists', 'and', 'suspected', 'fascist', 'sympathizers', 'by', 'spanish', 'anarchists', 'in', 'the', 'spanish_civil_war', 'was', 'a', 'form', 'of', 'illegitimate', 'coercion', 'making', 'the', 'proffessed', 'anarchists', 'ultimately', 'just', 'a', 'third', 'faction', 'of', 'totalitarians', 'alongside', 'the', 'communists', 'and', 'fascists', 'he', 'also', 'criticizes', 'the', 'willingness', 'of', 'the', 'cnt', 'to_join', 'the', 'statist', 'republican_government', 'during', 'the', 'civil_war', 'and', 'references', 'stanley', 'g', 'payne', 's', 'book', 'on', 'the', 'franco_regime', 'which', 'claims_that', 'the', 'cnt', 'entered', 'negotiations_with', 'the', 'fascist_government', 'six', 'years_after', 'the', 'war', 'cultural', 'phenomena', 'noam_chomsky', 'one', 'nine', 'two', 'eight', 'the', 'kind', 'of', 'anarchism', 'that', 'is', 'most', 'easily', 'encountered', 'in', 'popular_culture', 'is', 'represented_by', 'celebrities', 'who', 'publicly', 'identify_themselves_as', 'anarchists', 'although', 'some', 'anarchists', 'reject_any', 'focus_on', 'such', 'famous', 'living', 'individuals', 'as', 'inherently', 'litist', 'the', 'following', 'figures', 'are', 'examples', 'of', 'prominent', 'publicly', 'self', 'avowed', 'anarchists', 'the', 'mit', 'professor', 'of', 'linguistics', 'noam_chomsky', 'the', 'science_fiction_author', 'ursula_k_le_guin', 'the', 'social', 'historian', 'howard_zinn', 'entertainer', 'and', 'author', 'hans', 'alfredsson', 'the', 'avant_garde', 'artist', 'nicol', 's', 'rossell', 'in', 'denmark', 'the', 'freetown', 'christiania', 'was', 'created', 'in', 'downtown', 'copenhagen', 'the', 'housing', 'and', 'employment', 'crisis', 'in', 'most', 'of', 'western_europe', 'led', 'to', 'the', 'formation', 'of', 'communes', 'and', 'squatter', 'movements', 'like', 'the', 'one', 'still', 'thriving', 'in', 'barcelona', 'in', 'catalonia', 'militant', 'resistance', 'to', 'neo_nazi_groups', 'in', 'places_like', 'germany', 'and', 'the', 'uprisings', 'of', 'autonomous', 'marxism', 'situationist', 'and', 'autonomist', 'groups', 'in', 'france', 'and', 'italy', 'also', 'helped', 'to', 'give', 'popularity', 'to', 'anti_authoritarian', 'non', 'capitalist', 'ideas', 'in', 'various', 'musical_styles', 'anarchism', 'rose', 'in', 'popularity', 'most_famous', 'for', 'the', 'linking', 'of', 'anarchist_ideas', 'and', 'music', 'has_been', 'punk_rock', 'although', 'in', 'the', 'modern', 'age', 'hip_hop', 'and', 'folk_music', 'are', 'also', 'becoming', 'important', 'mediums', 'for', 'the', 'spreading', 'of', 'the', 'anarchist', 'message', 'in', 'the', 'uk', 'this', 'was', 'associated_with', 'the', 'punk_rock', 'movement', 'the', 'band_crass', 'is', 'celebrated', 'for', 'its', 'anarchist', 'and', 'pacifist', 'ideas', 'the', 'dutch', 'punk_band', 'the', 'ex', 'further', 'exemplifies', 'this', 'expression', 'for_further_details', 'see', 'anarcho_punk', 'see_also', 'there_are_many', 'concepts', 'relevant', 'to', 'the', 'topic', 'of', 'anarchism', 'this', 'is', 'a', 'brief_summary', 'there_is', 'also', 'a', 'more_extensive', 'list', 'of', 'anarchist', 'concepts', 'individualist_anarchism', 'anarcho_communism', 'anarcho_syndicalism', 'anarcho_capitalism', 'mutualism', 'christian_anarchism', 'anarcha_feminism', 'green_anarchism', 'nihilist', 'anarchism_anarcho', 'nationalism', 'black', 'anarchism', 'national', 'anarchism', 'post', 'anarchism', 'post', 'left', 'anarchism', 'libertarian_socialism', 'anarchist', 'symbolism', 'list', 'of', 'anarchism', 'links', 'list', 'of', 'anarchists', 'list', 'of', 'anarchist_organizations', 'major', 'conflicts', 'within', 'anarchist', 'thought', 'past', 'and', 'present', 'anarchist', 'communities', 'historical_events', 'paris_commune', 'one', 'eight', 'seven', 'one', 'haymarket_riot', 'one', 'eight', 'eight', 'six', 'the', 'makhnovschina', 'one', 'nine', 'one', 'seven', 'one', 'nine', 'two', 'one', 'kronstadt_rebellion', 'one', 'nine', 'two', 'one', 'spanish', 'revolution', 'one', 'nine', 'three', 'six', 'see', 'anarchism', 'in', 'spain', 'and', 'spanish', 'revolution', 'may', 'one', 'nine', 'six', 'eight', 'france', 'one', 'nine', 'six', 'eight', 'wto', 'meeting', 'in', 'seattle', 'one', 'nine', 'nine', 'nine', 'books', 'the', 'following', 'is', 'a', 'sample', 'of', 'books', 'that', 'have_been', 'referenced', 'in', 'this', 'page', 'a', 'more_complete_list', 'can_be_found', 'at', 'the', 'list', 'of', 'anarchist', 'books', 'mikhail_bakunin', 'god', 'and', 'the', 'state', 'emma_goldman', 'anarchism', 'other', 'essays', 'peter_kropotkin', 'mutual_aid', 'pierre_joseph_proudhon', 'what', 'is', 'property', 'rudolf_rocker', 'anarcho_syndicalism', 'murray_rothbard', 'the', 'ethics', 'of', 'liberty', 'max_stirner', 'the', 'ego', 'and', 'its_own', 'leo_tolstoy', 'the', 'kingdom', 'of', 'god', 'is', 'within', 'you', 'anarchism', 'by', 'region', 'culture', 'african', 'anarchism', 'anarchism', 'in', 'spain', 'anarchism', 'in', 'the', 'english', 'tradition', 'chinese', 'anarchism', 'references', 'these', 'notes', 'have', 'no', 'corresponding', 'reference', 'in', 'the', 'article', 'they', 'might_be', 're', 'used', 'against', 'politics', 'appleton', 'boston', 'anarchists', 'yarros', 'victor', 'liberty', 'vii', 'january', 'two', 'one', 'eight', 'nine', 'two', 'noam_chomsky', 'on', 'anarchism', 'by', 'noam_chomsky', 'external_links', 'the', 'overwhelming', 'diversity', 'and', 'number', 'of', 'links', 'relating_to', 'anarchism', 'is', 'extensively_covered', 'on', 'the', 'links', 'subpage', 'anarchoblogs', 'blogs', 'by', 'anarchists', 'anarchy', 'archives', 'extensively', 'archives', 'information', 'relating_to', 'famous', 'anarchists', 'this', 'includes', 'many', 'of', 'their', 'books', 'and', 'other', 'publications', 'hundreds', 'of', 'anarchists', 'are_listed', 'with', 'short', 'bios', 'links', 'dedicated', 'pages', 'at', 'the', 'daily', 'bleed', 's', 'anarchist', 'encyclopedia', 'infoshop_org', 'wikipedia_page', 'industrial_workers', 'of', 'the', 'world', 'anarchism', 'forms', 'of', 'government', 'political_ideology', 'entry', 'points', 'political_theories', 'social_philosophy', 'autism', 'is', 'classified_as', 'a', 'neurodevelopmental', 'disorder', 'that', 'manifests_itself', 'in', 'markedly', 'abnormal', 'social_interaction', 'communication', 'ability', 'patterns', 'of', 'interests', 'and', 'patterns', 'of', 'behavior', 'although', 'the', 'specific', 'etiology', 'of', 'autism', 'is', 'unknown', 'many', 'researchers', 'suspect', 'that', 'autism', 'results', 'from', 'genetically', 'mediated', 'vulnerabilities', 'to', 'environmental', 'triggers', 'and', 'while', 'there_is', 'disagreement_about', 'the', 'magnitude', 'nature', 'and', 'mechanisms', 'for', 'such', 'environmental_factors', 'researchers_have', 'found', 'at_least', 'seven', 'major', 'genes', 'prevalent_among', 'individuals', 'diagnosed', 'as', 'autistic', 'some', 'estimate', 'that', 'autism', 'occurs', 'in', 'as', 'many', 'as', 'one', 'united_states', 'child', 'in', 'one', 'six', 'six', 'however', 'the', 'national_institute', 'of', 'mental_health', 'gives', 'a', 'more', 'conservative_estimate', 'of', 'one', 'in', 'one', 'zero', 'zero', 'zero', 'for', 'families', 'that', 'already', 'have', 'one', 'autistic_child', 'the', 'odds', 'of', 'a', 'second', 'autistic_child', 'may_be', 'as', 'high', 'as', 'one', 'in', 'twenty', 'diagnosis', 'is', 'based_on', 'a', 'list', 'of', 'psychiatric', 'criteria', 'and', 'a', 'series', 'of', 'standardized', 'clinical_tests', 'may_also', 'be', 'used', 'autism', 'may_not', 'be', 'physiologically', 'obvious', 'a', 'complete', 'physical', 'and', 'neurological', 'evaluation', 'will', 'typically', 'be', 'part', 'of', 'diagnosing', 'autism', 'some', 'now', 'speculate_that', 'autism', 'is', 'not', 'a', 'single', 'condition', 'but', 'a', 'group', 'of', 'several', 'distinct', 'conditions', 'that', 'manifest', 'in', 'similar', 'ways', 'by', 'definition', 'autism', 'must', 'manifest', 'delays', 'in', 'social_interaction', 'language', 'as', 'used', 'in', 'social', 'communication', 'or', 'symbolic', 'or', 'imaginative', 'play', 'with', 'onset', 'prior_to', 'age', 'three', 'years', 'according_to', 'the', 'diagnostic', 'and', 'statistical_manual', 'of', 'mental_disorders', 'the', 'icd', 'one', 'zero', 'also', 'says_that', 'symptoms', 'must', 'manifest', 'before', 'the', 'age', 'of', 'three', 'years', 'there_have_been', 'large', 'increases', 'in', 'the', 'reported', 'incidence', 'of', 'autism', 'for', 'reasons', 'that', 'are', 'heavily_debated', 'by', 'researchers', 'in', 'psychology', 'and', 'related_fields', 'within', 'the', 'scientific_community', 'some', 'children', 'with', 'autism', 'have', 'improved', 'their', 'social', 'and', 'other', 'skills', 'to', 'the', 'point_where', 'they', 'can', 'fully', 'participate_in', 'mainstream', 'education', 'and', 'social_events', 'but', 'there_are', 'lingering', 'concerns', 'that', 'an_absolute', 'cure', 'from', 'autism', 'is', 'impossible', 'with', 'current', 'technology', 'however', 'many', 'autistic_children', 'and', 'adults', 'who', 'are', 'able_to_communicate', 'at_least', 'in', 'writing', 'are', 'opposed', 'to', 'attempts_to', 'cure', 'their', 'conditions', 'and', 'see', 'such', 'conditions', 'as', 'part', 'of', 'who', 'they_are', 'history', 'dr', 'hans_asperger', 'described', 'a', 'form', 'of', 'autism', 'in', 'the', 'one', 'nine', 'four', 'zero', 's', 'that', 'later_became_known_as', 'asperger_s_syndrome', 'the', 'word', 'autism', 'was', 'first', 'used', 'in', 'the', 'english_language', 'by', 'swiss_psychiatrist', 'eugene_bleuler', 'in', 'a', 'one', 'nine', 'one', 'two', 'number', 'of', 'the', 'american_journal', 'of', 'insanity', 'it', 'comes_from', 'the', 'greek_word_for', 'self', 'however', 'the', 'classification', 'of', 'autism', 'did_not_occur', 'until', 'the', 'middle', 'of', 'the', 'twentieth_century', 'when', 'in', 'one', 'nine', 'four', 'three', 'psychiatrist_dr', 'leo', 'kanner', 'of', 'the', 'johns_hopkins', 'hospital', 'in', 'baltimore', 'reported', 'on', 'one', 'one', 'child', 'patients_with', 'striking', 'behavioral', 'similarities', 'and', 'introduced', 'the', 'label', 'early_infantile', 'autism', 'he', 'suggested', 'autism', 'from', 'the', 'greek', 'autos', 'meaning', 'self', 'to_describe', 'the', 'fact_that', 'the', 'children', 'seemed', 'to', 'lack', 'interest', 'in', 'other', 'people', 'although', 'kanner', 's', 'first', 'paper', 'on', 'the', 'subject', 'was', 'published', 'in', 'a', 'now_defunct', 'journal', 'the', 'nervous', 'child', 'almost_every', 'characteristic', 'he', 'originally', 'described', 'is', 'still', 'regarded_as', 'typical', 'of', 'the', 'autistic_spectrum', 'of', 'disorders', 'at', 'the', 'same_time', 'an', 'austrian', 'scientist', 'dr', 'hans_asperger', 'described', 'a', 'different', 'form', 'of', 'autism', 'that', 'became_known_as', 'asperger_s_syndrome', 'but', 'the', 'widespread', 'recognition', 'of', 'asperger_s', 'work', 'was', 'delayed', 'by', 'world_war_ii', 'in', 'germany', 'and', 'by', 'the', 'fact_that', 'his', 'seminal', 'paper', 'wasn_t', 'translated_into_english', 'for', 'almost', 'five', 'zero', 'years', 'the', 'majority', 'of', 'his', 'work', 'wasn_t', 'widely_read', 'until', 'one', 'nine', 'nine', 'seven', 'thus', 'these', 'two', 'conditions', 'were', 'described', 'and', 'are', 'today', 'listed', 'in', 'the', 'diagnostic', 'and', 'statistical_manual', 'of', 'mental_disorders', 'dsm_iv_tr', 'fourth_edition', 'text', 'revision', 'one', 'as', 'two', 'of', 'the', 'five', 'pervasive_developmental_disorders', 'pdd', 'more', 'often_referred_to', 'today', 'as', 'autism_spectrum', 'disorders', 'asd', 'all', 'of', 'these', 'conditions', 'are', 'characterized_by', 'varying_degrees', 'of', 'difference', 'in', 'communication_skills', 'social_interactions', 'and', 'restricted', 'repetitive', 'and', 'stereotyped', 'patterns', 'of', 'behavior', 'few', 'clinicians', 'today', 'solely', 'use', 'the', 'dsm_iv', 'criteria_for', 'determining', 'a', 'diagnosis', 'of', 'autism', 'which', 'are', 'based_on', 'the', 'absence', 'or', 'delay', 'of', 'certain', 'developmental', 'milestones', 'many', 'clinicians', 'instead', 'use', 'an_alternate', 'means', 'or', 'a', 'combination_thereof', 'to', 'more_accurately', 'determine', 'a', 'diagnosis', 'terminology', 'when_referring_to', 'someone', 'diagnosed_with', 'autism', 'the', 'term', 'autistic', 'is_often_used', 'however', 'the', 'term', 'person', 'with', 'autism', 'can_be_used', 'instead', 'this', 'is', 'referred_to_as', 'person', 'first', 'terminology', 'the', 'autistic', 'community', 'generally', 'prefers', 'the', 'term', 'autistic', 'for', 'reasons', 'that', 'are', 'fairly', 'controversial', 'this_article', 'uses', 'the', 'term', 'autistic', 'see', 'talk_page', 'characteristics', 'dr_leo', 'kanner', 'introduced', 'the', 'label', 'early_infantile', 'autism', 'in', 'one', 'nine', 'four', 'three', 'there_is', 'a', 'great_diversity', 'in', 'the', 'skills', 'and', 'behaviors', 'of', 'individuals', 'diagnosed', 'as', 'autistic', 'and', 'physicians', 'will', 'often', 'arrive_at', 'different', 'conclusions_about', 'the', 'appropriate', 'diagnosis', 'much', 'of', 'this', 'is', 'due_to', 'the', 'sensory', 'system', 'of', 'an', 'autistic', 'which', 'is', 'quite_different_from', 'the', 'sensory', 'system', 'of', 'other', 'people', 'since', 'certain', 'stimulations', 'can_affect', 'an', 'autistic', 'differently_than', 'a', 'non_autistic', 'and', 'the', 'degree', 'to', 'which', 'the', 'sensory', 'system', 'is', 'affected', 'varies_wildly', 'from', 'one', 'autistic', 'person', 'to', 'another', 'nevertheless', 'professionals', 'within', 'pediatric', 'care', 'and', 'development', 'often', 'look', 'for', 'early', 'indicators', 'of', 'autism', 'in', 'order', 'to', 'initiate', 'treatment', 'as', 'early', 'as', 'possible', 'however', 'some', 'people', 'do_not_believe', 'in', 'treatment', 'for', 'autism', 'either', 'because_they_do_not', 'believe', 'autism', 'is', 'a', 'disorder', 'or', 'because_they_believe', 'treatment', 'can_do', 'more', 'harm', 'than', 'good', 'social_development', 'typically', 'developing', 'infants', 'are', 'social', 'beings', 'early', 'in', 'life', 'they_do', 'such_things', 'as', 'gaze', 'at', 'people', 'turn', 'toward', 'voices', 'grasp', 'a', 'finger', 'and', 'even', 'smile', 'in', 'contrast', 'most', 'autistic_children', 'prefer', 'objects', 'to', 'faces', 'and', 'seem_to', 'have', 'tremendous', 'difficulty_learning', 'to', 'engage', 'in', 'the', 'give', 'and', 'take', 'of', 'everyday', 'human_interaction', 'even', 'in', 'the', 'first', 'few_months', 'of', 'life', 'many', 'seem', 'indifferent', 'to', 'other', 'people', 'because_they', 'avoid', 'eye_contact', 'and', 'do_not', 'interact_with', 'them', 'as', 'often', 'as', 'non_autistic', 'children', 'children', 'with', 'autism', 'often', 'appear', 'to', 'prefer', 'being', 'alone', 'to', 'the', 'company', 'of', 'others', 'and', 'may', 'passively', 'accept', 'such_things', 'as', 'hugs', 'and', 'cuddling', 'without', 'reciprocating', 'or', 'resist', 'attention', 'altogether', 'later', 'they', 'seldom', 'seek', 'comfort', 'from', 'others', 'or', 'respond', 'to', 'parents', 'displays', 'of', 'anger', 'or', 'affection', 'in', 'a', 'typical', 'way', 'research', 'has_suggested_that', 'although', 'autistic_children', 'are', 'attached_to', 'their_parents', 'their', 'expression', 'of', 'this', 'attachment', 'is', 'unusual', 'and', 'difficult', 'to', 'interpret', 'parents', 'who', 'looked_forward_to', 'the', 'joys', 'of', 'cuddling', 'teaching', 'and', 'playing', 'with', 'their', 'child', 'may', 'feel', 'crushed', 'by', 'this', 'lack', 'of', 'expected', 'attachment', 'behavior', 'children', 'with', 'autism', 'appear', 'to', 'lack', 'theory', 'of', 'mind', 'the', 'ability_to', 'see', 'things', 'from', 'another_person', 's', 'perspective', 'a', 'behavior', 'cited', 'as', 'exclusive', 'to', 'human_beings', 'above', 'the', 'age', 'of', 'five', 'and', 'possibly', 'other', 'higher', 'primates', 'such_as', 'adult', 'gorillas', 'chimpanzees', 'and', 'bonobos', 'typical', 'five', 'year_olds', 'can', 'develop', 'insights_into', 'other', 'people', 's', 'different', 'knowledge', 'feelings', 'and', 'intentions', 'interpretations', 'based_upon', 'social', 'cues', 'e_g', 'gestures', 'facial_expressions', 'an_individual', 'with', 'autism', 'seems_to', 'lack', 'these', 'interpretation', 'skills', 'an', 'inability', 'that', 'leaves', 'them', 'unable_to', 'predict', 'or', 'understand', 'other', 'people', 's', 'actions', 'the', 'social', 'alienation', 'of', 'autistic', 'and', 'asperger_s', 'people', 'is', 'so', 'intense', 'from', 'childhood', 'that', 'many', 'of', 'them', 'have', 'imaginary_friends', 'as', 'companionship', 'however', 'having', 'an_imaginary', 'friend', 'is', 'not_necessarily', 'a', 'sign', 'of', 'autism', 'and', 'also', 'occurs', 'in', 'non_autistic', 'children', 'although', 'not', 'universal', 'it', 'is', 'common', 'for', 'autistic_people', 'to', 'not', 'regulate', 'their', 'behavior', 'this', 'can_take', 'the', 'form', 'of', 'crying', 'or', 'verbal', 'outbursts', 'that', 'may_seem', 'out', 'of', 'proportion', 'to', 'the', 'situation', 'individuals', 'with', 'autism', 'generally', 'prefer', 'consistent', 'routines', 'and', 'environments', 'they', 'may', 'react', 'negatively', 'to', 'changes', 'in', 'them', 'it', 'is_not_uncommon', 'for', 'these', 'individuals', 'to', 'exhibit', 'aggression', 'increased', 'levels', 'of', 'self', 'stimulatory', 'behavior', 'self', 'injury', 'or', 'extensive', 'withdrawal', 'in', 'overwhelming', 'situations', 'sensory', 'system', 'a', 'key', 'indicator', 'to', 'clinicians', 'making', 'a', 'proper', 'assessment', 'for', 'autism', 'would', 'include', 'looking_for', 'symptoms', 'much_like', 'those', 'found', 'in', 'sensory', 'integration', 'dysfunction', 'children', 'will', 'exhibit', 'problems', 'coping_with', 'the', 'normal', 'sensory_input', 'indicators', 'of', 'this', 'disorder', 'include', 'oversensitivity', 'or', 'underreactivity', 'to', 'touch', 'movement', 'sights', 'or', 'sounds', 'physical', 'clumsiness', 'or', 'carelessness', 'poor', 'body', 'awareness', 'a', 'tendency', 'to_be', 'easily', 'distracted', 'impulsive', 'physical', 'or', 'verbal_behavior', 'an', 'activity', 'level', 'that', 'is', 'unusually_high', 'or', 'low', 'not', 'unwinding', 'or', 'calming', 'oneself', 'difficulty_learning', 'new', 'movements', 'difficulty', 'in', 'making', 'transitions', 'from', 'one', 'situation', 'to', 'another', 'social', 'and', 'or', 'emotional_problems', 'delays', 'in', 'speech', 'language', 'or', 'motor_skills', 'specific', 'learning_difficulties', 'delays', 'in', 'academic_achievement', 'one', 'common', 'example', 'is', 'an_individual', 'with', 'autism', 'hearing', 'a', 'person', 'with', 'autism', 'may_have', 'trouble', 'hearing', 'certain', 'people', 'while', 'other', 'people', 'are', 'louder_than', 'usual', 'or', 'the', 'person', 'with', 'autism', 'may_be', 'unable_to', 'filter_out', 'sounds', 'in', 'certain_situations', 'such_as', 'in', 'a', 'large', 'crowd', 'of', 'people', 'see', 'cocktail', 'party', 'effect', 'however', 'this', 'is', 'perhaps', 'the', 'part', 'of', 'the', 'autism', 'that', 'tends_to', 'vary', 'the', 'most', 'from', 'person', 'to', 'person', 'so', 'these', 'examples', 'may', 'not_apply', 'to', 'every', 'autistic', 'it_should_be', 'noted_that', 'sensory', 'difficulties', 'although', 'reportedly', 'common', 'in', 'autistics', 'are', 'not', 'part', 'of', 'the', 'dsm_iv', 'diagnostic_criteria', 'for', 'autistic', 'disorder', 'communication', 'difficulties', 'by', 'age', 'three', 'typical', 'children', 'have', 'passed', 'predictable', 'language_learning', 'milestones', 'one', 'of', 'the', 'earliest', 'is', 'babbling', 'by', 'the', 'first', 'birthday', 'a', 'typical', 'toddler', 'says', 'words', 'turns', 'when', 'he', 'or', 'she', 'hears', 'his', 'or', 'her', 'name', 'points', 'when', 'he', 'or_she_wants', 'a', 'toy', 'and', 'when', 'offered', 'something', 'distasteful', 'makes_it', 'clear', 'that', 'the', 'answer', 'is', 'no', 'speech', 'development', 'in', 'people', 'with', 'autism', 'takes', 'different_paths', 'some', 'remain', 'mute', 'throughout_their_lives', 'while', 'being', 'fully', 'literate', 'and', 'able_to_communicate', 'in', 'other', 'ways', 'images', 'sign_language', 'and', 'typing', 'are', 'far_more', 'natural', 'to', 'them', 'some', 'infants', 'who', 'later', 'show_signs', 'of', 'autism', 'coo', 'and', 'babble', 'during', 'the', 'first', 'few_months', 'of', 'life', 'but', 'stop', 'soon_afterwards', 'others', 'may_be', 'delayed', 'developing', 'language', 'as', 'late', 'as', 'the', 'teenage_years', 'still', 'inability_to', 'speak', 'does_not_mean', 'that', 'people', 'with', 'autism', 'are', 'unintelligent', 'or', 'unaware', 'once', 'given', 'appropriate', 'accommodations', 'many', 'will', 'happily', 'converse', 'for', 'hours', 'and', 'can', 'often', 'be_found', 'in', 'online_chat', 'rooms', 'discussion_boards', 'or', 'websites', 'and', 'even', 'using', 'communication', 'devices', 'at', 'autism', 'community', 'social_events', 'such_as', 'autreat', 'those_who', 'do', 'speak', 'often', 'use', 'language', 'in', 'unusual', 'ways', 'retaining', 'features', 'of', 'earlier_stages', 'of', 'language', 'development', 'for_long_periods', 'or', 'throughout_their_lives', 'some', 'speak', 'only', 'single', 'words', 'while_others', 'repeat', 'the', 'same', 'phrase', 'over', 'and', 'over', 'some', 'repeat', 'what', 'they', 'hear', 'a', 'condition', 'called', 'echolalia', 'sing', 'song', 'repetitions', 'in', 'particular', 'are', 'a', 'calming', 'joyous', 'activity', 'that', 'many', 'autistic_adults', 'engage', 'in', 'many', 'people', 'with', 'autism', 'have', 'a', 'strong', 'tonal', 'sense', 'and', 'can', 'often', 'understand', 'spoken_language', 'some', 'children', 'may', 'exhibit', 'only', 'slight', 'delays', 'in', 'language', 'or', 'even', 'seem_to', 'have', 'precocious', 'language', 'and', 'unusually_large', 'vocabularies', 'but', 'have', 'great_difficulty', 'in', 'sustaining', 'typical', 'conversations', 'the', 'give', 'and', 'take', 'of', 'non_autistic', 'conversation', 'is', 'hard', 'for', 'them', 'although', 'they', 'often', 'carry', 'on', 'a', 'monologue', 'on', 'a', 'favorite', 'subject', 'giving', 'no', 'one', 'else', 'an_opportunity_to', 'comment', 'when', 'given', 'the', 'chance', 'to', 'converse', 'with', 'other', 'autistics', 'they', 'comfortably', 'do_so', 'in', 'parallel', 'monologue', 'taking_turns', 'expressing', 'views', 'and', 'information', 'just', 'as', 'neurotypicals', 'people', 'without', 'autism', 'have', 'trouble_understanding', 'autistic', 'body', 'languages', 'vocal', 'tones', 'or', 'phraseology', 'people', 'with', 'autism', 'similarly', 'have', 'trouble', 'with', 'such_things', 'in', 'people', 'without', 'autism', 'in', 'particular', 'autistic', 'language', 'abilities', 'tend_to_be', 'highly', 'literal', 'people', 'without', 'autism', 'often', 'inappropriately', 'attribute', 'hidden_meaning', 'to', 'what', 'people', 'with', 'autism', 'say', 'or', 'expect', 'the', 'person', 'with', 'autism', 'to', 'sense', 'such', 'unstated', 'meaning', 'in', 'their_own', 'words', 'the', 'body', 'language', 'of', 'people', 'with', 'autism', 'can_be_difficult', 'for', 'other', 'people', 'to', 'understand', 'facial_expressions', 'movements', 'and', 'gestures', 'may_be', 'easily_understood', 'by', 'some', 'other', 'people', 'with', 'autism', 'but', 'do_not_match', 'those', 'used', 'by', 'other', 'people', 'also', 'their', 'tone', 'of', 'voice', 'has', 'a', 'much_more', 'subtle', 'inflection', 'in', 'reflecting', 'their', 'feelings', 'and', 'the', 'auditory', 'system', 'of', 'a', 'person', 'without', 'autism', 'often', 'cannot', 'sense', 'the', 'fluctuations', 'what', 'seems_to', 'non_autistic', 'people', 'like', 'a', 'high_pitched', 'sing', 'song', 'or', 'flat', 'robot', 'like', 'voice', 'is', 'common', 'in', 'autistic_children', 'some', 'autistic_children', 'with', 'relatively_good', 'language', 'skills', 'speak', 'like', 'little', 'adults', 'rather_than', 'communicating', 'at', 'their', 'current', 'age', 'level', 'which', 'is', 'one', 'of', 'the', 'things', 'that', 'can_lead_to', 'problems', 'since', 'non_autistic', 'people', 'are', 'often', 'unfamiliar_with', 'the', 'autistic', 'body', 'language', 'and', 'since', 'autistic', 'natural_language', 'may_not', 'tend_towards', 'speech', 'autistic_people', 'often', 'struggle', 'to', 'let', 'other', 'people', 'know_what', 'they', 'need', 'as', 'anybody', 'might', 'do', 'in', 'such', 'a', 'situation', 'they', 'may', 'scream', 'in', 'frustration', 'or', 'resort', 'to', 'grabbing', 'what_they_want', 'while_waiting_for', 'non_autistic', 'people', 'to', 'learn', 'to', 'communicate_with', 'them', 'people', 'with', 'autism', 'do_whatever', 'they', 'can', 'to', 'get', 'through', 'to', 'them', 'communication', 'difficulties', 'may_contribute', 'to', 'autistic_people', 'becoming', 'socially', 'anxious', 'or', 'depressed', 'repetitive', 'behaviors', 'although', 'people', 'with', 'autism', 'usually', 'appear', 'physically', 'normal', 'and', 'have', 'good', 'muscle', 'control', 'unusual', 'repetitive', 'motions', 'known_as', 'self', 'stimulation', 'or', 'stimming', 'may', 'set', 'them', 'apart', 'these', 'behaviors', 'might_be', 'extreme', 'and', 'highly', 'apparent', 'or', 'more_subtle', 'some', 'children', 'and', 'older', 'individuals', 'spend_a_lot', 'of', 'time', 'repeatedly', 'flapping', 'their', 'arms', 'or', 'wiggling', 'their', 'toes', 'others', 'suddenly', 'freeze', 'in', 'position', 'as', 'children', 'they', 'might', 'spend_hours', 'lining_up', 'their', 'cars', 'and', 'trains', 'in', 'a', 'certain', 'way', 'not', 'using', 'them', 'for', 'pretend', 'play', 'if_someone', 'accidentally', 'moves', 'one', 'of', 'these', 'toys', 'the', 'child', 'may_be', 'tremendously', 'upset', 'autistic_children', 'often', 'need', 'and', 'demand', 'absolute', 'consistency', 'in', 'their', 'environment', 'a', 'slight', 'change', 'in', 'any', 'routine', 'in', 'mealtimes', 'dressing', 'taking', 'a', 'bath', 'or', 'going', 'to', 'school', 'at', 'a', 'certain', 'time', 'and', 'by', 'the', 'same', 'route', 'can_be', 'extremely', 'disturbing', 'people', 'with', 'autism', 'sometimes', 'have', 'a', 'persistent', 'intense', 'preoccupation', 'for_example', 'the', 'child', 'might_be', 'obsessed_with', 'learning', 'all', 'about', 'vacuum_cleaners', 'train', 'schedules', 'or', 'lighthouses', 'often', 'they', 'show', 'great_interest', 'in', 'different_languages', 'numbers', 'symbols', 'or', 'science', 'topics', 'repetitive', 'behaviors', 'can_also', 'extend', 'into', 'the', 'spoken_word', 'as_well', 'perseveration', 'of', 'a', 'single', 'word', 'or', 'phrase', 'even', 'for', 'a', 'specific', 'number', 'of', 'times', 'can_also', 'become', 'a', 'part', 'of', 'the', 'child', 's', 'daily_routine', 'effects', 'in', 'education', 'children', 'with', 'autism', 'are', 'affected', 'with', 'these', 'symptoms', 'every_day', 'these', 'unusual', 'characteristics', 'set', 'them', 'apart_from', 'the', 'everyday', 'normal', 'student', 'because_they_have', 'trouble_understanding', 'people', 's', 'thoughts', 'and', 'feelings', 'they', 'have', 'trouble_understanding', 'what', 'their', 'teacher', 'may_be', 'telling_them', 'they_do_not', 'understand', 'that', 'facial_expressions', 'and', 'vocal', 'variations', 'hold', 'meanings', 'and', 'may', 'misinterpret', 'what', 'emotion', 'their', 'instructor', 'is', 'displaying', 'this', 'inability_to', 'fully', 'decipher', 'the', 'world', 'around', 'them', 'makes', 'education', 'stressful', 'teachers', 'need', 'to_be', 'aware', 'of', 'a', 'student', 's', 'disorder', 'so', 'that', 'they_are', 'able_to', 'help', 'the', 'student', 'get', 'the', 'best', 'out', 'of', 'the', 'lessons', 'being', 'taught', 'some', 'students', 'learn', 'better', 'with', 'visual', 'aids', 'as', 'they_are', 'better_able_to', 'understand', 'material', 'presented', 'this', 'way', 'because', 'of', 'this', 'many', 'teachers', 'create', 'visual', 'schedules', 'for', 'their', 'autistic', 'students', 'this_allows', 'the', 'student', 'to', 'know_what', 'is', 'going', 'on', 'throughout', 'the', 'day', 'so', 'they', 'know_what', 'to_prepare', 'for', 'and', 'what', 'activity', 'they', 'will_be', 'doing', 'next', 'some', 'autistic_children', 'have', 'trouble', 'going', 'from', 'one', 'activity', 'to', 'the', 'next', 'so', 'this', 'visual', 'schedule', 'can_help', 'to_reduce', 'stress', 'research', 'has_shown', 'that', 'working', 'in', 'pairs', 'may_be', 'beneficial', 'to', 'autistic_children', 'autistic', 'students', 'have', 'problems', 'in', 'schools', 'not_only', 'with', 'language', 'and', 'communication', 'but', 'with', 'socialization', 'as_well', 'they_feel', 'self_conscious', 'about', 'themselves', 'and', 'many', 'feel_that', 'they', 'will_always_be', 'outcasts', 'by', 'allowing_them_to', 'work', 'with', 'peers', 'they', 'can_make', 'friends', 'which', 'in', 'turn', 'can_help', 'them', 'cope_with', 'the', 'problems', 'that', 'arise', 'by', 'doing_so', 'they', 'can_become', 'more', 'integrated_into', 'the', 'mainstream', 'environment', 'of', 'the', 'classroom', 'a', 'teacher', 's', 'aide', 'can_also', 'be', 'useful', 'to', 'the', 'student', 'the', 'aide', 'is', 'able_to_give', 'more_elaborate', 'directions', 'that', 'the', 'teacher', 'may_not', 'have', 'time', 'to_explain', 'to', 'the', 'autistic_child', 'the', 'aide', 'can_also', 'facilitate', 'the', 'autistic_child', 'in', 'such', 'a', 'way', 'as', 'to', 'allow_them_to', 'stay', 'at', 'a', 'similar', 'level', 'to', 'the', 'rest', 'of', 'the', 'class', 'this_allows', 'a', 'partially', 'one', 'on', 'one', 'lesson', 'structure', 'so', 'that', 'the', 'child', 'is', 'still', 'able_to', 'stay', 'in', 'a', 'normal', 'classroom', 'but', 'be', 'given', 'the', 'extra', 'help', 'that', 'they', 'need', 'there_are_many', 'different', 'techniques', 'that', 'teachers', 'can', 'use', 'to_assist', 'their', 'students', 'a', 'teacher', 'needs', 'to', 'become_familiar', 'with', 'the', 'child', 's', 'disorder', 'to', 'know_what', 'will', 'work', 'best', 'with', 'that', 'particular', 'child', 'every', 'child', 'is', 'going', 'to_be', 'different', 'and', 'teachers', 'have', 'to', 'be_able_to', 'adjust', 'with', 'every', 'one', 'of', 'them', 'students', 'with', 'autism_spectrum', 'disorders', 'typically', 'have', 'high_levels', 'of', 'anxiety', 'and', 'stress', 'particularly', 'in', 'social', 'environments', 'like', 'school', 'if', 'a', 'student', 'exhibits', 'aggressive', 'or', 'explosive', 'behavior', 'it', 'is', 'important', 'for', 'educational', 'teams', 'to', 'recognize', 'the', 'impact', 'of', 'stress', 'and', 'anxiety', 'preparing', 'students', 'for', 'new', 'situations', 'by', 'writing', 'social', 'stories', 'can', 'lower', 'anxiety', 'teaching', 'social', 'and', 'emotional', 'concepts', 'using', 'systematic', 'teaching', 'approaches', 'such_as', 'the', 'incredible', 'five', 'point', 'scale', 'or', 'other', 'cognitive_behavioral', 'strategies', 'can', 'increase', 'a', 'student', 's', 'ability_to', 'control', 'excessive', 'behavioral', 'reactions', 'dsm', 'definition', 'autism', 'is', 'defined', 'in', 'section', 'two', 'nine', 'nine', 'zero', 'zero', 'of', 'the', 'diagnostic', 'and', 'statistical_manual', 'of', 'mental_disorders', 'dsm_iv', 'as', 'a', 'total', 'of', 'six', 'or', 'more', 'items', 'from', 'one', 'two', 'and', 'three', 'with', 'at_least', 'two', 'from', 'one', 'and', 'one', 'each', 'from', 'two', 'and', 'three', 'qualitative', 'impairment', 'in', 'social_interaction', 'as', 'manifested', 'by', 'at_least', 'two', 'of', 'the', 'following', 'marked_impairment', 'in', 'the', 'use', 'of', 'multiple', 'nonverbal', 'behaviors', 'such_as', 'eye', 'to', 'eye', 'gaze', 'facial_expression', 'body', 'postures', 'and', 'gestures', 'to', 'regulate', 'social_interaction', 'failure', 'to', 'develop', 'peer', 'relationships', 'appropriate', 'to', 'developmental', 'level', 'a', 'lack', 'of', 'spontaneous', 'seeking', 'to', 'share', 'enjoyment', 'interests', 'or', 'achievements', 'with', 'other', 'people', 'e_g', 'by', 'a', 'lack', 'of', 'showing', 'bringing', 'or', 'pointing_out', 'objects', 'of', 'interest', 'lack', 'of', 'social', 'or', 'emotional']\n"
     ]
    }
   ],
   "source": [
    "# Build the trigram models\n",
    "trigram = gensim.models.phrases.Phrases(bigram[dataset], threshold=10)\n",
    "\n",
    "# Construct trigram\n",
    "print(trigram[bigram[dataset[0]]])"
   ]
  },
  {
   "cell_type": "markdown",
   "metadata": {},
   "source": [
    "## 11. How to create Topic Models with LDA?"
   ]
  },
  {
   "cell_type": "code",
   "execution_count": 11,
   "metadata": {},
   "outputs": [],
   "source": [
    "# Step 0: Import packages and stopwords\n",
    "from gensim.models import LdaModel, LdaMulticore\n",
    "import gensim.downloader as api\n",
    "from gensim.utils import simple_preprocess, lemmatize\n",
    "from nltk.corpus import stopwords\n",
    "import re\n",
    "import logging\n",
    "logging.basicConfig(format='%(asctime)s : %(levelname)s : %(message)s')\n",
    "logging.root.setLevel(level=logging.INFO)\n",
    "stop_words = stopwords.words('english')\n",
    "stop_words = stop_words + ['com', 'edu', 'subject', 'lines', 'organization', 'would', 'article', 'could']"
   ]
  },
  {
   "cell_type": "code",
   "execution_count": 12,
   "metadata": {},
   "outputs": [],
   "source": [
    "# Step 1: Import the dataset and get the text and real topic of each news article\n",
    "dataset = api.load(\"text8\")\n",
    "data = [d for d in dataset]"
   ]
  },
  {
   "cell_type": "code",
   "execution_count": 13,
   "metadata": {},
   "outputs": [
    {
     "ename": "RuntimeError",
     "evalue": "generator raised StopIteration",
     "output_type": "error",
     "traceback": [
      "\u001b[1;31m---------------------------------------------------------------------------\u001b[0m",
      "\u001b[1;31mStopIteration\u001b[0m                             Traceback (most recent call last)",
      "\u001b[1;32m~\\AppData\\Local\\Continuum\\anaconda3\\lib\\site-packages\\pattern\\text\\__init__.py\u001b[0m in \u001b[0;36m_read\u001b[1;34m(path, encoding, comment)\u001b[0m\n\u001b[0;32m    608\u001b[0m             \u001b[1;32myield\u001b[0m \u001b[0mline\u001b[0m\u001b[1;33m\u001b[0m\u001b[1;33m\u001b[0m\u001b[0m\n\u001b[1;32m--> 609\u001b[1;33m     \u001b[1;32mraise\u001b[0m \u001b[0mStopIteration\u001b[0m\u001b[1;33m\u001b[0m\u001b[1;33m\u001b[0m\u001b[0m\n\u001b[0m\u001b[0;32m    610\u001b[0m \u001b[1;33m\u001b[0m\u001b[0m\n",
      "\u001b[1;31mStopIteration\u001b[0m: ",
      "\nThe above exception was the direct cause of the following exception:\n",
      "\u001b[1;31mRuntimeError\u001b[0m                              Traceback (most recent call last)",
      "\u001b[1;32m<ipython-input-13-409c1d76d0bf>\u001b[0m in \u001b[0;36m<module>\u001b[1;34m\u001b[0m\n\u001b[0;32m      6\u001b[0m     \u001b[1;32mfor\u001b[0m \u001b[0mwd\u001b[0m \u001b[1;32min\u001b[0m \u001b[0mdoc\u001b[0m\u001b[1;33m:\u001b[0m\u001b[1;33m\u001b[0m\u001b[1;33m\u001b[0m\u001b[0m\n\u001b[0;32m      7\u001b[0m         \u001b[1;32mif\u001b[0m \u001b[0mwd\u001b[0m \u001b[1;32mnot\u001b[0m \u001b[1;32min\u001b[0m \u001b[0mstop_words\u001b[0m\u001b[1;33m:\u001b[0m  \u001b[1;31m# remove stopwords\u001b[0m\u001b[1;33m\u001b[0m\u001b[1;33m\u001b[0m\u001b[0m\n\u001b[1;32m----> 8\u001b[1;33m             \u001b[0mlemmatized_word\u001b[0m \u001b[1;33m=\u001b[0m \u001b[0mlemmatize\u001b[0m\u001b[1;33m(\u001b[0m\u001b[0mwd\u001b[0m\u001b[1;33m,\u001b[0m \u001b[0mallowed_tags\u001b[0m\u001b[1;33m=\u001b[0m\u001b[0mre\u001b[0m\u001b[1;33m.\u001b[0m\u001b[0mcompile\u001b[0m\u001b[1;33m(\u001b[0m\u001b[1;34mr'(NN|JJ|RB)'\u001b[0m\u001b[1;33m)\u001b[0m\u001b[1;33m)\u001b[0m  \u001b[1;31m# lemmatize\u001b[0m\u001b[1;33m\u001b[0m\u001b[1;33m\u001b[0m\u001b[0m\n\u001b[0m\u001b[0;32m      9\u001b[0m             \u001b[1;32mif\u001b[0m \u001b[0mlemmatized_word\u001b[0m\u001b[1;33m:\u001b[0m\u001b[1;33m\u001b[0m\u001b[1;33m\u001b[0m\u001b[0m\n\u001b[0;32m     10\u001b[0m                 \u001b[0mdoc_out\u001b[0m \u001b[1;33m=\u001b[0m \u001b[0mdoc_out\u001b[0m \u001b[1;33m+\u001b[0m \u001b[1;33m[\u001b[0m\u001b[0mlemmatized_word\u001b[0m\u001b[1;33m[\u001b[0m\u001b[1;36m0\u001b[0m\u001b[1;33m]\u001b[0m\u001b[1;33m.\u001b[0m\u001b[0msplit\u001b[0m\u001b[1;33m(\u001b[0m\u001b[1;34mb'/'\u001b[0m\u001b[1;33m)\u001b[0m\u001b[1;33m[\u001b[0m\u001b[1;36m0\u001b[0m\u001b[1;33m]\u001b[0m\u001b[1;33m.\u001b[0m\u001b[0mdecode\u001b[0m\u001b[1;33m(\u001b[0m\u001b[1;34m'utf-8'\u001b[0m\u001b[1;33m)\u001b[0m\u001b[1;33m]\u001b[0m\u001b[1;33m\u001b[0m\u001b[1;33m\u001b[0m\u001b[0m\n",
      "\u001b[1;32m~\\AppData\\Local\\Continuum\\anaconda3\\lib\\site-packages\\gensim\\utils.py\u001b[0m in \u001b[0;36mlemmatize\u001b[1;34m(content, allowed_tags, light, stopwords, min_length, max_length)\u001b[0m\n\u001b[0;32m   1690\u001b[0m     \u001b[0mcontent\u001b[0m \u001b[1;33m=\u001b[0m \u001b[0mu\u001b[0m\u001b[1;33m(\u001b[0m\u001b[1;34m' '\u001b[0m\u001b[1;33m)\u001b[0m\u001b[1;33m.\u001b[0m\u001b[0mjoin\u001b[0m\u001b[1;33m(\u001b[0m\u001b[0mtokenize\u001b[0m\u001b[1;33m(\u001b[0m\u001b[0mcontent\u001b[0m\u001b[1;33m,\u001b[0m \u001b[0mlower\u001b[0m\u001b[1;33m=\u001b[0m\u001b[1;32mTrue\u001b[0m\u001b[1;33m,\u001b[0m \u001b[0merrors\u001b[0m\u001b[1;33m=\u001b[0m\u001b[1;34m'ignore'\u001b[0m\u001b[1;33m)\u001b[0m\u001b[1;33m)\u001b[0m\u001b[1;33m\u001b[0m\u001b[1;33m\u001b[0m\u001b[0m\n\u001b[0;32m   1691\u001b[0m \u001b[1;33m\u001b[0m\u001b[0m\n\u001b[1;32m-> 1692\u001b[1;33m     \u001b[0mparsed\u001b[0m \u001b[1;33m=\u001b[0m \u001b[0mparse\u001b[0m\u001b[1;33m(\u001b[0m\u001b[0mcontent\u001b[0m\u001b[1;33m,\u001b[0m \u001b[0mlemmata\u001b[0m\u001b[1;33m=\u001b[0m\u001b[1;32mTrue\u001b[0m\u001b[1;33m,\u001b[0m \u001b[0mcollapse\u001b[0m\u001b[1;33m=\u001b[0m\u001b[1;32mFalse\u001b[0m\u001b[1;33m)\u001b[0m\u001b[1;33m\u001b[0m\u001b[1;33m\u001b[0m\u001b[0m\n\u001b[0m\u001b[0;32m   1693\u001b[0m     \u001b[0mresult\u001b[0m \u001b[1;33m=\u001b[0m \u001b[1;33m[\u001b[0m\u001b[1;33m]\u001b[0m\u001b[1;33m\u001b[0m\u001b[1;33m\u001b[0m\u001b[0m\n\u001b[0;32m   1694\u001b[0m     \u001b[1;32mfor\u001b[0m \u001b[0msentence\u001b[0m \u001b[1;32min\u001b[0m \u001b[0mparsed\u001b[0m\u001b[1;33m:\u001b[0m\u001b[1;33m\u001b[0m\u001b[1;33m\u001b[0m\u001b[0m\n",
      "\u001b[1;32m~\\AppData\\Local\\Continuum\\anaconda3\\lib\\site-packages\\pattern\\text\\en\\__init__.py\u001b[0m in \u001b[0;36mparse\u001b[1;34m(s, *args, **kwargs)\u001b[0m\n\u001b[0;32m    167\u001b[0m     \"\"\" Returns a tagged Unicode string.\n\u001b[0;32m    168\u001b[0m     \"\"\"\n\u001b[1;32m--> 169\u001b[1;33m     \u001b[1;32mreturn\u001b[0m \u001b[0mparser\u001b[0m\u001b[1;33m.\u001b[0m\u001b[0mparse\u001b[0m\u001b[1;33m(\u001b[0m\u001b[0ms\u001b[0m\u001b[1;33m,\u001b[0m \u001b[1;33m*\u001b[0m\u001b[0margs\u001b[0m\u001b[1;33m,\u001b[0m \u001b[1;33m**\u001b[0m\u001b[0mkwargs\u001b[0m\u001b[1;33m)\u001b[0m\u001b[1;33m\u001b[0m\u001b[1;33m\u001b[0m\u001b[0m\n\u001b[0m\u001b[0;32m    170\u001b[0m \u001b[1;33m\u001b[0m\u001b[0m\n\u001b[0;32m    171\u001b[0m \u001b[1;33m\u001b[0m\u001b[0m\n",
      "\u001b[1;32m~\\AppData\\Local\\Continuum\\anaconda3\\lib\\site-packages\\pattern\\text\\__init__.py\u001b[0m in \u001b[0;36mparse\u001b[1;34m(self, s, tokenize, tags, chunks, relations, lemmata, encoding, **kwargs)\u001b[0m\n\u001b[0;32m   1170\u001b[0m             \u001b[1;31m# Tagger (required by chunker, labeler & lemmatizer).\u001b[0m\u001b[1;33m\u001b[0m\u001b[1;33m\u001b[0m\u001b[1;33m\u001b[0m\u001b[0m\n\u001b[0;32m   1171\u001b[0m             \u001b[1;32mif\u001b[0m \u001b[0mtags\u001b[0m \u001b[1;32mor\u001b[0m \u001b[0mchunks\u001b[0m \u001b[1;32mor\u001b[0m \u001b[0mrelations\u001b[0m \u001b[1;32mor\u001b[0m \u001b[0mlemmata\u001b[0m\u001b[1;33m:\u001b[0m\u001b[1;33m\u001b[0m\u001b[1;33m\u001b[0m\u001b[0m\n\u001b[1;32m-> 1172\u001b[1;33m                 \u001b[0ms\u001b[0m\u001b[1;33m[\u001b[0m\u001b[0mi\u001b[0m\u001b[1;33m]\u001b[0m \u001b[1;33m=\u001b[0m \u001b[0mself\u001b[0m\u001b[1;33m.\u001b[0m\u001b[0mfind_tags\u001b[0m\u001b[1;33m(\u001b[0m\u001b[0ms\u001b[0m\u001b[1;33m[\u001b[0m\u001b[0mi\u001b[0m\u001b[1;33m]\u001b[0m\u001b[1;33m,\u001b[0m \u001b[1;33m**\u001b[0m\u001b[0mkwargs\u001b[0m\u001b[1;33m)\u001b[0m\u001b[1;33m\u001b[0m\u001b[1;33m\u001b[0m\u001b[0m\n\u001b[0m\u001b[0;32m   1173\u001b[0m             \u001b[1;32melse\u001b[0m\u001b[1;33m:\u001b[0m\u001b[1;33m\u001b[0m\u001b[1;33m\u001b[0m\u001b[0m\n\u001b[0;32m   1174\u001b[0m                 \u001b[0ms\u001b[0m\u001b[1;33m[\u001b[0m\u001b[0mi\u001b[0m\u001b[1;33m]\u001b[0m \u001b[1;33m=\u001b[0m \u001b[1;33m[\u001b[0m\u001b[1;33m[\u001b[0m\u001b[0mw\u001b[0m\u001b[1;33m]\u001b[0m \u001b[1;32mfor\u001b[0m \u001b[0mw\u001b[0m \u001b[1;32min\u001b[0m \u001b[0ms\u001b[0m\u001b[1;33m[\u001b[0m\u001b[0mi\u001b[0m\u001b[1;33m]\u001b[0m\u001b[1;33m]\u001b[0m\u001b[1;33m\u001b[0m\u001b[1;33m\u001b[0m\u001b[0m\n",
      "\u001b[1;32m~\\AppData\\Local\\Continuum\\anaconda3\\lib\\site-packages\\pattern\\text\\en\\__init__.py\u001b[0m in \u001b[0;36mfind_tags\u001b[1;34m(self, tokens, **kwargs)\u001b[0m\n\u001b[0;32m    112\u001b[0m         \u001b[1;32mif\u001b[0m \u001b[0mkwargs\u001b[0m\u001b[1;33m.\u001b[0m\u001b[0mget\u001b[0m\u001b[1;33m(\u001b[0m\u001b[1;34m\"tagset\"\u001b[0m\u001b[1;33m)\u001b[0m \u001b[1;33m==\u001b[0m \u001b[0mUNIVERSAL\u001b[0m\u001b[1;33m:\u001b[0m\u001b[1;33m\u001b[0m\u001b[1;33m\u001b[0m\u001b[0m\n\u001b[0;32m    113\u001b[0m             \u001b[0mkwargs\u001b[0m\u001b[1;33m.\u001b[0m\u001b[0msetdefault\u001b[0m\u001b[1;33m(\u001b[0m\u001b[1;34m\"map\"\u001b[0m\u001b[1;33m,\u001b[0m \u001b[1;32mlambda\u001b[0m \u001b[0mtoken\u001b[0m\u001b[1;33m,\u001b[0m \u001b[0mtag\u001b[0m\u001b[1;33m:\u001b[0m \u001b[0mpenntreebank2universal\u001b[0m\u001b[1;33m(\u001b[0m\u001b[0mtoken\u001b[0m\u001b[1;33m,\u001b[0m \u001b[0mtag\u001b[0m\u001b[1;33m)\u001b[0m\u001b[1;33m)\u001b[0m\u001b[1;33m\u001b[0m\u001b[1;33m\u001b[0m\u001b[0m\n\u001b[1;32m--> 114\u001b[1;33m         \u001b[1;32mreturn\u001b[0m \u001b[0m_Parser\u001b[0m\u001b[1;33m.\u001b[0m\u001b[0mfind_tags\u001b[0m\u001b[1;33m(\u001b[0m\u001b[0mself\u001b[0m\u001b[1;33m,\u001b[0m \u001b[0mtokens\u001b[0m\u001b[1;33m,\u001b[0m \u001b[1;33m**\u001b[0m\u001b[0mkwargs\u001b[0m\u001b[1;33m)\u001b[0m\u001b[1;33m\u001b[0m\u001b[1;33m\u001b[0m\u001b[0m\n\u001b[0m\u001b[0;32m    115\u001b[0m \u001b[1;33m\u001b[0m\u001b[0m\n\u001b[0;32m    116\u001b[0m \u001b[1;33m\u001b[0m\u001b[0m\n",
      "\u001b[1;32m~\\AppData\\Local\\Continuum\\anaconda3\\lib\\site-packages\\pattern\\text\\__init__.py\u001b[0m in \u001b[0;36mfind_tags\u001b[1;34m(self, tokens, **kwargs)\u001b[0m\n\u001b[0;32m   1111\u001b[0m         \u001b[1;31m# [\"The\", \"cat\", \"purs\"] => [[\"The\", \"DT\"], [\"cat\", \"NN\"], [\"purs\", \"VB\"]]\u001b[0m\u001b[1;33m\u001b[0m\u001b[1;33m\u001b[0m\u001b[1;33m\u001b[0m\u001b[0m\n\u001b[0;32m   1112\u001b[0m         return find_tags(tokens,\n\u001b[1;32m-> 1113\u001b[1;33m                     \u001b[0mlexicon\u001b[0m \u001b[1;33m=\u001b[0m \u001b[0mkwargs\u001b[0m\u001b[1;33m.\u001b[0m\u001b[0mget\u001b[0m\u001b[1;33m(\u001b[0m\u001b[1;34m\"lexicon\"\u001b[0m\u001b[1;33m,\u001b[0m \u001b[0mself\u001b[0m\u001b[1;33m.\u001b[0m\u001b[0mlexicon\u001b[0m \u001b[1;32mor\u001b[0m \u001b[1;33m{\u001b[0m\u001b[1;33m}\u001b[0m\u001b[1;33m)\u001b[0m\u001b[1;33m,\u001b[0m\u001b[1;33m\u001b[0m\u001b[1;33m\u001b[0m\u001b[0m\n\u001b[0m\u001b[0;32m   1114\u001b[0m                       \u001b[0mmodel\u001b[0m \u001b[1;33m=\u001b[0m \u001b[0mkwargs\u001b[0m\u001b[1;33m.\u001b[0m\u001b[0mget\u001b[0m\u001b[1;33m(\u001b[0m\u001b[1;34m\"model\"\u001b[0m\u001b[1;33m,\u001b[0m \u001b[0mself\u001b[0m\u001b[1;33m.\u001b[0m\u001b[0mmodel\u001b[0m\u001b[1;33m)\u001b[0m\u001b[1;33m,\u001b[0m\u001b[1;33m\u001b[0m\u001b[1;33m\u001b[0m\u001b[0m\n\u001b[0;32m   1115\u001b[0m                  \u001b[0mmorphology\u001b[0m \u001b[1;33m=\u001b[0m \u001b[0mkwargs\u001b[0m\u001b[1;33m.\u001b[0m\u001b[0mget\u001b[0m\u001b[1;33m(\u001b[0m\u001b[1;34m\"morphology\"\u001b[0m\u001b[1;33m,\u001b[0m \u001b[0mself\u001b[0m\u001b[1;33m.\u001b[0m\u001b[0mmorphology\u001b[0m\u001b[1;33m)\u001b[0m\u001b[1;33m,\u001b[0m\u001b[1;33m\u001b[0m\u001b[1;33m\u001b[0m\u001b[0m\n",
      "\u001b[1;32m~\\AppData\\Local\\Continuum\\anaconda3\\lib\\site-packages\\pattern\\text\\__init__.py\u001b[0m in \u001b[0;36m__len__\u001b[1;34m(self)\u001b[0m\n\u001b[0;32m    374\u001b[0m \u001b[1;33m\u001b[0m\u001b[0m\n\u001b[0;32m    375\u001b[0m     \u001b[1;32mdef\u001b[0m \u001b[0m__len__\u001b[0m\u001b[1;33m(\u001b[0m\u001b[0mself\u001b[0m\u001b[1;33m)\u001b[0m\u001b[1;33m:\u001b[0m\u001b[1;33m\u001b[0m\u001b[1;33m\u001b[0m\u001b[0m\n\u001b[1;32m--> 376\u001b[1;33m         \u001b[1;32mreturn\u001b[0m \u001b[0mself\u001b[0m\u001b[1;33m.\u001b[0m\u001b[0m_lazy\u001b[0m\u001b[1;33m(\u001b[0m\u001b[1;34m\"__len__\"\u001b[0m\u001b[1;33m)\u001b[0m\u001b[1;33m\u001b[0m\u001b[1;33m\u001b[0m\u001b[0m\n\u001b[0m\u001b[0;32m    377\u001b[0m \u001b[1;33m\u001b[0m\u001b[0m\n\u001b[0;32m    378\u001b[0m     \u001b[1;32mdef\u001b[0m \u001b[0m__iter__\u001b[0m\u001b[1;33m(\u001b[0m\u001b[0mself\u001b[0m\u001b[1;33m)\u001b[0m\u001b[1;33m:\u001b[0m\u001b[1;33m\u001b[0m\u001b[1;33m\u001b[0m\u001b[0m\n",
      "\u001b[1;32m~\\AppData\\Local\\Continuum\\anaconda3\\lib\\site-packages\\pattern\\text\\__init__.py\u001b[0m in \u001b[0;36m_lazy\u001b[1;34m(self, method, *args)\u001b[0m\n\u001b[0;32m    366\u001b[0m         \"\"\"\n\u001b[0;32m    367\u001b[0m         \u001b[1;32mif\u001b[0m \u001b[0mdict\u001b[0m\u001b[1;33m.\u001b[0m\u001b[0m__len__\u001b[0m\u001b[1;33m(\u001b[0m\u001b[0mself\u001b[0m\u001b[1;33m)\u001b[0m \u001b[1;33m==\u001b[0m \u001b[1;36m0\u001b[0m\u001b[1;33m:\u001b[0m\u001b[1;33m\u001b[0m\u001b[1;33m\u001b[0m\u001b[0m\n\u001b[1;32m--> 368\u001b[1;33m             \u001b[0mself\u001b[0m\u001b[1;33m.\u001b[0m\u001b[0mload\u001b[0m\u001b[1;33m(\u001b[0m\u001b[1;33m)\u001b[0m\u001b[1;33m\u001b[0m\u001b[1;33m\u001b[0m\u001b[0m\n\u001b[0m\u001b[0;32m    369\u001b[0m             \u001b[0msetattr\u001b[0m\u001b[1;33m(\u001b[0m\u001b[0mself\u001b[0m\u001b[1;33m,\u001b[0m \u001b[0mmethod\u001b[0m\u001b[1;33m,\u001b[0m \u001b[0mtypes\u001b[0m\u001b[1;33m.\u001b[0m\u001b[0mMethodType\u001b[0m\u001b[1;33m(\u001b[0m\u001b[0mgetattr\u001b[0m\u001b[1;33m(\u001b[0m\u001b[0mdict\u001b[0m\u001b[1;33m,\u001b[0m \u001b[0mmethod\u001b[0m\u001b[1;33m)\u001b[0m\u001b[1;33m,\u001b[0m \u001b[0mself\u001b[0m\u001b[1;33m)\u001b[0m\u001b[1;33m)\u001b[0m\u001b[1;33m\u001b[0m\u001b[1;33m\u001b[0m\u001b[0m\n\u001b[0;32m    370\u001b[0m         \u001b[1;32mreturn\u001b[0m \u001b[0mgetattr\u001b[0m\u001b[1;33m(\u001b[0m\u001b[0mdict\u001b[0m\u001b[1;33m,\u001b[0m \u001b[0mmethod\u001b[0m\u001b[1;33m)\u001b[0m\u001b[1;33m(\u001b[0m\u001b[0mself\u001b[0m\u001b[1;33m,\u001b[0m \u001b[1;33m*\u001b[0m\u001b[0margs\u001b[0m\u001b[1;33m)\u001b[0m\u001b[1;33m\u001b[0m\u001b[1;33m\u001b[0m\u001b[0m\n",
      "\u001b[1;32m~\\AppData\\Local\\Continuum\\anaconda3\\lib\\site-packages\\pattern\\text\\__init__.py\u001b[0m in \u001b[0;36mload\u001b[1;34m(self)\u001b[0m\n\u001b[0;32m    623\u001b[0m     \u001b[1;32mdef\u001b[0m \u001b[0mload\u001b[0m\u001b[1;33m(\u001b[0m\u001b[0mself\u001b[0m\u001b[1;33m)\u001b[0m\u001b[1;33m:\u001b[0m\u001b[1;33m\u001b[0m\u001b[1;33m\u001b[0m\u001b[0m\n\u001b[0;32m    624\u001b[0m         \u001b[1;31m# Arnold NNP x\u001b[0m\u001b[1;33m\u001b[0m\u001b[1;33m\u001b[0m\u001b[1;33m\u001b[0m\u001b[0m\n\u001b[1;32m--> 625\u001b[1;33m         \u001b[0mdict\u001b[0m\u001b[1;33m.\u001b[0m\u001b[0mupdate\u001b[0m\u001b[1;33m(\u001b[0m\u001b[0mself\u001b[0m\u001b[1;33m,\u001b[0m \u001b[1;33m(\u001b[0m\u001b[0mx\u001b[0m\u001b[1;33m.\u001b[0m\u001b[0msplit\u001b[0m\u001b[1;33m(\u001b[0m\u001b[1;34m\" \"\u001b[0m\u001b[1;33m)\u001b[0m\u001b[1;33m[\u001b[0m\u001b[1;33m:\u001b[0m\u001b[1;36m2\u001b[0m\u001b[1;33m]\u001b[0m \u001b[1;32mfor\u001b[0m \u001b[0mx\u001b[0m \u001b[1;32min\u001b[0m \u001b[0m_read\u001b[0m\u001b[1;33m(\u001b[0m\u001b[0mself\u001b[0m\u001b[1;33m.\u001b[0m\u001b[0m_path\u001b[0m\u001b[1;33m)\u001b[0m \u001b[1;32mif\u001b[0m \u001b[0mlen\u001b[0m\u001b[1;33m(\u001b[0m\u001b[0mx\u001b[0m\u001b[1;33m.\u001b[0m\u001b[0msplit\u001b[0m\u001b[1;33m(\u001b[0m\u001b[1;34m\" \"\u001b[0m\u001b[1;33m)\u001b[0m\u001b[1;33m)\u001b[0m \u001b[1;33m>\u001b[0m \u001b[1;36m1\u001b[0m\u001b[1;33m)\u001b[0m\u001b[1;33m)\u001b[0m\u001b[1;33m\u001b[0m\u001b[1;33m\u001b[0m\u001b[0m\n\u001b[0m\u001b[0;32m    626\u001b[0m \u001b[1;33m\u001b[0m\u001b[0m\n\u001b[0;32m    627\u001b[0m \u001b[1;31m#--- FREQUENCY -------------------------------------------------------------------------------------\u001b[0m\u001b[1;33m\u001b[0m\u001b[1;33m\u001b[0m\u001b[1;33m\u001b[0m\u001b[0m\n",
      "\u001b[1;32m~\\AppData\\Local\\Continuum\\anaconda3\\lib\\site-packages\\pattern\\text\\__init__.py\u001b[0m in \u001b[0;36m<genexpr>\u001b[1;34m(.0)\u001b[0m\n\u001b[0;32m    623\u001b[0m     \u001b[1;32mdef\u001b[0m \u001b[0mload\u001b[0m\u001b[1;33m(\u001b[0m\u001b[0mself\u001b[0m\u001b[1;33m)\u001b[0m\u001b[1;33m:\u001b[0m\u001b[1;33m\u001b[0m\u001b[1;33m\u001b[0m\u001b[0m\n\u001b[0;32m    624\u001b[0m         \u001b[1;31m# Arnold NNP x\u001b[0m\u001b[1;33m\u001b[0m\u001b[1;33m\u001b[0m\u001b[1;33m\u001b[0m\u001b[0m\n\u001b[1;32m--> 625\u001b[1;33m         \u001b[0mdict\u001b[0m\u001b[1;33m.\u001b[0m\u001b[0mupdate\u001b[0m\u001b[1;33m(\u001b[0m\u001b[0mself\u001b[0m\u001b[1;33m,\u001b[0m \u001b[1;33m(\u001b[0m\u001b[0mx\u001b[0m\u001b[1;33m.\u001b[0m\u001b[0msplit\u001b[0m\u001b[1;33m(\u001b[0m\u001b[1;34m\" \"\u001b[0m\u001b[1;33m)\u001b[0m\u001b[1;33m[\u001b[0m\u001b[1;33m:\u001b[0m\u001b[1;36m2\u001b[0m\u001b[1;33m]\u001b[0m \u001b[1;32mfor\u001b[0m \u001b[0mx\u001b[0m \u001b[1;32min\u001b[0m \u001b[0m_read\u001b[0m\u001b[1;33m(\u001b[0m\u001b[0mself\u001b[0m\u001b[1;33m.\u001b[0m\u001b[0m_path\u001b[0m\u001b[1;33m)\u001b[0m \u001b[1;32mif\u001b[0m \u001b[0mlen\u001b[0m\u001b[1;33m(\u001b[0m\u001b[0mx\u001b[0m\u001b[1;33m.\u001b[0m\u001b[0msplit\u001b[0m\u001b[1;33m(\u001b[0m\u001b[1;34m\" \"\u001b[0m\u001b[1;33m)\u001b[0m\u001b[1;33m)\u001b[0m \u001b[1;33m>\u001b[0m \u001b[1;36m1\u001b[0m\u001b[1;33m)\u001b[0m\u001b[1;33m)\u001b[0m\u001b[1;33m\u001b[0m\u001b[1;33m\u001b[0m\u001b[0m\n\u001b[0m\u001b[0;32m    626\u001b[0m \u001b[1;33m\u001b[0m\u001b[0m\n\u001b[0;32m    627\u001b[0m \u001b[1;31m#--- FREQUENCY -------------------------------------------------------------------------------------\u001b[0m\u001b[1;33m\u001b[0m\u001b[1;33m\u001b[0m\u001b[1;33m\u001b[0m\u001b[0m\n",
      "\u001b[1;31mRuntimeError\u001b[0m: generator raised StopIteration"
     ]
    }
   ],
   "source": [
    "# Step 2: Prepare Data (Remove stopwords and lemmatize)\n",
    "data_processed = []\n",
    "\n",
    "for i, doc in enumerate(data[:100]):\n",
    "    doc_out = []\n",
    "    for wd in doc:\n",
    "        if wd not in stop_words:  # remove stopwords\n",
    "            lemmatized_word = lemmatize(wd, allowed_tags=re.compile(r'(NN|JJ|RB)'))  # lemmatize\n",
    "            if lemmatized_word:\n",
    "                doc_out = doc_out + [lemmatized_word[0].split(b'/')[0].decode('utf-8')]\n",
    "        else:\n",
    "            continue\n",
    "    data_processed.append(doc_out)\n",
    "\n",
    "# Print a small sample    \n",
    "print(data_processed[0][:5]) \n",
    "#> ['anarchism', 'originated', 'term', 'abuse', 'first']"
   ]
  },
  {
   "cell_type": "code",
   "execution_count": 19,
   "metadata": {},
   "outputs": [
    {
     "name": "stderr",
     "output_type": "stream",
     "text": [
      "2019-11-12 10:28:33,008 : INFO : adding document #0 to Dictionary(0 unique tokens: [])\n",
      "2019-11-12 10:28:33,426 : INFO : built Dictionary(40074 unique tokens: ['ability', 'able', 'abnormal', 'abolition', 'absence']...) from 100 documents (total 425549 corpus positions)\n"
     ]
    }
   ],
   "source": [
    "# Step 3: Create the Inputs of LDA model: Dictionary and Corpus\n",
    "dct = corpora.Dictionary(data_processed)\n",
    "corpus = [dct.doc2bow(line) for line in data_processed]"
   ]
  },
  {
   "cell_type": "code",
   "execution_count": 20,
   "metadata": {},
   "outputs": [
    {
     "name": "stderr",
     "output_type": "stream",
     "text": [
      "2019-11-12 10:28:39,263 : INFO : using asymmetric alpha [0.26219156, 0.19027454, 0.14931786, 0.12287004, 0.104381524, 0.090729296, 0.080235206]\n",
      "2019-11-12 10:28:39,265 : INFO : using symmetric eta at 0.14285714285714285\n",
      "2019-11-12 10:28:39,271 : INFO : using serial LDA version on this node\n",
      "2019-11-12 10:28:39,313 : INFO : running online LDA training, 7 topics, 10 passes over the supplied corpus of 100 documents, updating every 7000 documents, evaluating every ~0 documents, iterating 100x with a convergence threshold of 0.001000\n",
      "2019-11-12 10:28:39,315 : INFO : training LDA model using 7 processes\n",
      "2019-11-12 10:28:39,438 : INFO : PROGRESS: pass 0, dispatched chunk #0 = documents up to #100/100, outstanding queue size 1\n",
      "2019-11-12 10:28:49,734 : INFO : topic #6 (0.080): 0.001*\"also\" + 0.001*\"american\" + 0.001*\"state\" + 0.001*\"person\" + 0.001*\"time\" + 0.001*\"world\" + 0.001*\"year\" + 0.001*\"war\" + 0.001*\"many\" + 0.001*\"first\"\n",
      "2019-11-12 10:28:49,736 : INFO : topic #5 (0.091): 0.001*\"also\" + 0.001*\"first\" + 0.001*\"american\" + 0.001*\"state\" + 0.001*\"many\" + 0.000*\"year\" + 0.000*\"war\" + 0.000*\"time\" + 0.000*\"person\" + 0.000*\"new\"\n",
      "2019-11-12 10:28:49,737 : INFO : topic #2 (0.149): 0.001*\"also\" + 0.001*\"first\" + 0.001*\"american\" + 0.001*\"time\" + 0.001*\"year\" + 0.001*\"state\" + 0.001*\"many\" + 0.001*\"number\" + 0.001*\"new\" + 0.001*\"world\"\n",
      "2019-11-12 10:28:49,739 : INFO : topic #1 (0.190): 0.001*\"also\" + 0.001*\"state\" + 0.001*\"first\" + 0.001*\"american\" + 0.001*\"many\" + 0.000*\"war\" + 0.000*\"time\" + 0.000*\"year\" + 0.000*\"system\" + 0.000*\"new\"\n",
      "2019-11-12 10:28:49,740 : INFO : topic #0 (0.262): 0.001*\"also\" + 0.001*\"first\" + 0.000*\"state\" + 0.000*\"american\" + 0.000*\"time\" + 0.000*\"year\" + 0.000*\"book\" + 0.000*\"many\" + 0.000*\"person\" + 0.000*\"new\"\n",
      "2019-11-12 10:28:49,743 : INFO : topic diff=0.232065, rho=0.125000\n",
      "2019-11-12 10:28:49,744 : INFO : PROGRESS: pass 1, dispatched chunk #0 = documents up to #100/100, outstanding queue size 1\n",
      "2019-11-12 10:28:50,497 : INFO : topic #6 (0.080): 0.003*\"also\" + 0.002*\"state\" + 0.002*\"american\" + 0.002*\"time\" + 0.002*\"person\" + 0.002*\"many\" + 0.001*\"world\" + 0.001*\"first\" + 0.001*\"war\" + 0.001*\"history\"\n",
      "2019-11-12 10:28:50,499 : INFO : topic #5 (0.091): 0.001*\"also\" + 0.001*\"abortion\" + 0.001*\"first\" + 0.001*\"american\" + 0.001*\"state\" + 0.001*\"many\" + 0.000*\"year\" + 0.000*\"time\" + 0.000*\"war\" + 0.000*\"person\"\n",
      "2019-11-12 10:28:50,500 : INFO : topic #2 (0.149): 0.003*\"also\" + 0.003*\"american\" + 0.002*\"first\" + 0.002*\"state\" + 0.002*\"year\" + 0.002*\"time\" + 0.002*\"many\" + 0.002*\"new\" + 0.001*\"war\" + 0.001*\"world\"\n",
      "2019-11-12 10:28:50,502 : INFO : topic #1 (0.190): 0.001*\"also\" + 0.001*\"state\" + 0.001*\"first\" + 0.001*\"many\" + 0.001*\"american\" + 0.000*\"war\" + 0.000*\"time\" + 0.000*\"year\" + 0.000*\"ammonia\" + 0.000*\"name\"\n",
      "2019-11-12 10:28:50,503 : INFO : topic #0 (0.262): 0.001*\"also\" + 0.001*\"first\" + 0.000*\"state\" + 0.000*\"american\" + 0.000*\"time\" + 0.000*\"book\" + 0.000*\"year\" + 0.000*\"many\" + 0.000*\"person\" + 0.000*\"new\"\n",
      "2019-11-12 10:28:50,506 : INFO : topic diff=0.156159, rho=0.123939\n",
      "2019-11-12 10:28:50,507 : INFO : PROGRESS: pass 2, dispatched chunk #0 = documents up to #100/100, outstanding queue size 1\n",
      "2019-11-12 10:28:51,089 : INFO : topic #6 (0.080): 0.003*\"also\" + 0.002*\"state\" + 0.002*\"time\" + 0.002*\"american\" + 0.002*\"first\" + 0.002*\"person\" + 0.002*\"many\" + 0.002*\"world\" + 0.002*\"language\" + 0.002*\"history\"\n",
      "2019-11-12 10:28:51,091 : INFO : topic #5 (0.091): 0.001*\"also\" + 0.001*\"abortion\" + 0.001*\"first\" + 0.001*\"american\" + 0.001*\"state\" + 0.001*\"many\" + 0.000*\"year\" + 0.000*\"time\" + 0.000*\"war\" + 0.000*\"person\"\n",
      "2019-11-12 10:28:51,092 : INFO : topic #2 (0.149): 0.004*\"also\" + 0.003*\"american\" + 0.003*\"state\" + 0.003*\"first\" + 0.003*\"year\" + 0.002*\"time\" + 0.002*\"many\" + 0.002*\"new\" + 0.002*\"war\" + 0.002*\"person\"\n",
      "2019-11-12 10:28:51,094 : INFO : topic #1 (0.190): 0.001*\"also\" + 0.001*\"state\" + 0.001*\"first\" + 0.001*\"ammonia\" + 0.001*\"many\" + 0.001*\"american\" + 0.000*\"war\" + 0.000*\"time\" + 0.000*\"year\" + 0.000*\"name\"\n",
      "2019-11-12 10:28:51,096 : INFO : topic #0 (0.262): 0.001*\"also\" + 0.001*\"first\" + 0.000*\"state\" + 0.000*\"american\" + 0.000*\"time\" + 0.000*\"book\" + 0.000*\"year\" + 0.000*\"many\" + 0.000*\"person\" + 0.000*\"new\"\n",
      "2019-11-12 10:28:51,098 : INFO : topic diff=0.121817, rho=0.122998\n",
      "2019-11-12 10:28:51,100 : INFO : PROGRESS: pass 3, dispatched chunk #0 = documents up to #100/100, outstanding queue size 1\n",
      "2019-11-12 10:28:51,701 : INFO : topic #6 (0.080): 0.004*\"also\" + 0.002*\"time\" + 0.002*\"first\" + 0.002*\"state\" + 0.002*\"american\" + 0.002*\"many\" + 0.002*\"person\" + 0.002*\"world\" + 0.002*\"language\" + 0.002*\"apollo\"\n",
      "2019-11-12 10:28:51,702 : INFO : topic #5 (0.091): 0.001*\"also\" + 0.001*\"abortion\" + 0.001*\"first\" + 0.001*\"american\" + 0.001*\"state\" + 0.001*\"many\" + 0.000*\"year\" + 0.000*\"time\" + 0.000*\"war\" + 0.000*\"person\"\n",
      "2019-11-12 10:28:51,704 : INFO : topic #2 (0.149): 0.005*\"also\" + 0.004*\"american\" + 0.004*\"state\" + 0.003*\"first\" + 0.003*\"year\" + 0.003*\"time\" + 0.003*\"many\" + 0.002*\"new\" + 0.002*\"war\" + 0.002*\"person\"\n",
      "2019-11-12 10:28:51,705 : INFO : topic #1 (0.190): 0.001*\"also\" + 0.001*\"state\" + 0.001*\"ammonia\" + 0.001*\"first\" + 0.001*\"many\" + 0.001*\"american\" + 0.000*\"war\" + 0.000*\"time\" + 0.000*\"year\" + 0.000*\"name\"\n",
      "2019-11-12 10:28:51,707 : INFO : topic #0 (0.262): 0.001*\"also\" + 0.001*\"first\" + 0.000*\"state\" + 0.000*\"american\" + 0.000*\"time\" + 0.000*\"book\" + 0.000*\"year\" + 0.000*\"many\" + 0.000*\"person\" + 0.000*\"new\"\n",
      "2019-11-12 10:28:51,710 : INFO : topic diff=0.112030, rho=0.122078\n",
      "2019-11-12 10:28:51,711 : INFO : PROGRESS: pass 4, dispatched chunk #0 = documents up to #100/100, outstanding queue size 1\n",
      "2019-11-12 10:28:52,275 : INFO : topic #6 (0.080): 0.004*\"also\" + 0.003*\"first\" + 0.003*\"time\" + 0.003*\"state\" + 0.002*\"many\" + 0.002*\"american\" + 0.002*\"person\" + 0.002*\"world\" + 0.002*\"language\" + 0.002*\"apollo\"\n",
      "2019-11-12 10:28:52,277 : INFO : topic #5 (0.091): 0.001*\"also\" + 0.001*\"abortion\" + 0.001*\"first\" + 0.001*\"american\" + 0.001*\"state\" + 0.000*\"many\" + 0.000*\"year\" + 0.000*\"time\" + 0.000*\"war\" + 0.000*\"person\"\n",
      "2019-11-12 10:28:52,278 : INFO : topic #2 (0.149): 0.005*\"also\" + 0.004*\"american\" + 0.004*\"state\" + 0.003*\"first\" + 0.003*\"year\" + 0.003*\"many\" + 0.003*\"time\" + 0.002*\"new\" + 0.002*\"war\" + 0.002*\"person\"\n",
      "2019-11-12 10:28:52,280 : INFO : topic #1 (0.190): 0.001*\"also\" + 0.001*\"state\" + 0.001*\"ammonia\" + 0.001*\"first\" + 0.001*\"many\" + 0.001*\"american\" + 0.000*\"war\" + 0.000*\"time\" + 0.000*\"year\" + 0.000*\"name\"\n",
      "2019-11-12 10:28:52,281 : INFO : topic #0 (0.262): 0.001*\"also\" + 0.001*\"first\" + 0.000*\"state\" + 0.000*\"american\" + 0.000*\"time\" + 0.000*\"book\" + 0.000*\"year\" + 0.000*\"many\" + 0.000*\"person\" + 0.000*\"new\"\n",
      "2019-11-12 10:28:52,284 : INFO : topic diff=0.110339, rho=0.121179\n",
      "2019-11-12 10:28:52,285 : INFO : PROGRESS: pass 5, dispatched chunk #0 = documents up to #100/100, outstanding queue size 1\n",
      "2019-11-12 10:28:52,838 : INFO : topic #6 (0.080): 0.004*\"also\" + 0.003*\"first\" + 0.003*\"time\" + 0.003*\"state\" + 0.003*\"many\" + 0.003*\"american\" + 0.003*\"person\" + 0.002*\"world\" + 0.002*\"apollo\" + 0.002*\"language\"\n",
      "2019-11-12 10:28:52,840 : INFO : topic #5 (0.091): 0.001*\"also\" + 0.001*\"abortion\" + 0.001*\"first\" + 0.001*\"american\" + 0.000*\"state\" + 0.000*\"many\" + 0.000*\"year\" + 0.000*\"time\" + 0.000*\"war\" + 0.000*\"person\"\n",
      "2019-11-12 10:28:52,842 : INFO : topic #2 (0.149): 0.005*\"also\" + 0.004*\"american\" + 0.004*\"state\" + 0.004*\"first\" + 0.003*\"year\" + 0.003*\"many\" + 0.003*\"time\" + 0.002*\"new\" + 0.002*\"war\" + 0.002*\"person\"\n",
      "2019-11-12 10:28:52,844 : INFO : topic #1 (0.190): 0.001*\"also\" + 0.001*\"state\" + 0.001*\"ammonia\" + 0.001*\"first\" + 0.000*\"many\" + 0.000*\"american\" + 0.000*\"war\" + 0.000*\"time\" + 0.000*\"year\" + 0.000*\"name\"\n",
      "2019-11-12 10:28:52,846 : INFO : topic #0 (0.262): 0.001*\"also\" + 0.001*\"first\" + 0.000*\"state\" + 0.000*\"american\" + 0.000*\"time\" + 0.000*\"book\" + 0.000*\"year\" + 0.000*\"many\" + 0.000*\"person\" + 0.000*\"new\"\n",
      "2019-11-12 10:28:52,849 : INFO : topic diff=0.111889, rho=0.120299\n",
      "2019-11-12 10:28:52,851 : INFO : PROGRESS: pass 6, dispatched chunk #0 = documents up to #100/100, outstanding queue size 1\n",
      "2019-11-12 10:28:53,409 : INFO : topic #6 (0.080): 0.005*\"also\" + 0.003*\"first\" + 0.003*\"time\" + 0.003*\"many\" + 0.003*\"state\" + 0.003*\"american\" + 0.003*\"person\" + 0.003*\"world\" + 0.002*\"apollo\" + 0.002*\"language\"\n"
     ]
    },
    {
     "name": "stderr",
     "output_type": "stream",
     "text": [
      "2019-11-12 10:28:53,411 : INFO : topic #5 (0.091): 0.001*\"also\" + 0.001*\"abortion\" + 0.001*\"first\" + 0.001*\"american\" + 0.000*\"state\" + 0.000*\"many\" + 0.000*\"year\" + 0.000*\"time\" + 0.000*\"war\" + 0.000*\"person\"\n",
      "2019-11-12 10:28:53,412 : INFO : topic #2 (0.149): 0.005*\"also\" + 0.004*\"american\" + 0.004*\"state\" + 0.004*\"first\" + 0.003*\"year\" + 0.003*\"many\" + 0.003*\"time\" + 0.003*\"new\" + 0.002*\"war\" + 0.002*\"person\"\n",
      "2019-11-12 10:28:53,414 : INFO : topic #1 (0.190): 0.001*\"also\" + 0.001*\"state\" + 0.001*\"ammonia\" + 0.001*\"first\" + 0.000*\"many\" + 0.000*\"american\" + 0.000*\"war\" + 0.000*\"time\" + 0.000*\"year\" + 0.000*\"name\"\n",
      "2019-11-12 10:28:53,416 : INFO : topic #0 (0.262): 0.001*\"also\" + 0.001*\"first\" + 0.000*\"state\" + 0.000*\"american\" + 0.000*\"time\" + 0.000*\"book\" + 0.000*\"year\" + 0.000*\"many\" + 0.000*\"person\" + 0.000*\"new\"\n",
      "2019-11-12 10:28:53,418 : INFO : topic diff=0.115010, rho=0.119438\n",
      "2019-11-12 10:28:53,420 : INFO : PROGRESS: pass 7, dispatched chunk #0 = documents up to #100/100, outstanding queue size 1\n",
      "2019-11-12 10:28:53,987 : INFO : topic #6 (0.080): 0.005*\"also\" + 0.003*\"first\" + 0.003*\"time\" + 0.003*\"many\" + 0.003*\"state\" + 0.003*\"american\" + 0.003*\"person\" + 0.003*\"world\" + 0.003*\"apollo\" + 0.003*\"language\"\n",
      "2019-11-12 10:28:53,989 : INFO : topic #5 (0.091): 0.001*\"also\" + 0.001*\"abortion\" + 0.001*\"first\" + 0.001*\"american\" + 0.000*\"state\" + 0.000*\"many\" + 0.000*\"year\" + 0.000*\"time\" + 0.000*\"war\" + 0.000*\"person\"\n",
      "2019-11-12 10:28:53,991 : INFO : topic #2 (0.149): 0.005*\"also\" + 0.004*\"american\" + 0.004*\"state\" + 0.004*\"first\" + 0.003*\"year\" + 0.003*\"many\" + 0.003*\"time\" + 0.003*\"new\" + 0.003*\"war\" + 0.002*\"person\"\n",
      "2019-11-12 10:28:53,992 : INFO : topic #1 (0.190): 0.001*\"also\" + 0.001*\"state\" + 0.001*\"ammonia\" + 0.001*\"first\" + 0.000*\"many\" + 0.000*\"american\" + 0.000*\"war\" + 0.000*\"time\" + 0.000*\"year\" + 0.000*\"name\"\n",
      "2019-11-12 10:28:53,994 : INFO : topic #0 (0.262): 0.001*\"also\" + 0.000*\"first\" + 0.000*\"state\" + 0.000*\"american\" + 0.000*\"time\" + 0.000*\"book\" + 0.000*\"year\" + 0.000*\"many\" + 0.000*\"person\" + 0.000*\"new\"\n",
      "2019-11-12 10:28:53,997 : INFO : topic diff=0.118935, rho=0.118595\n",
      "2019-11-12 10:28:53,998 : INFO : PROGRESS: pass 8, dispatched chunk #0 = documents up to #100/100, outstanding queue size 1\n",
      "2019-11-12 10:28:54,537 : INFO : topic #6 (0.080): 0.005*\"also\" + 0.004*\"first\" + 0.003*\"time\" + 0.003*\"many\" + 0.003*\"state\" + 0.003*\"american\" + 0.003*\"world\" + 0.003*\"person\" + 0.003*\"apollo\" + 0.003*\"language\"\n",
      "2019-11-12 10:28:54,539 : INFO : topic #5 (0.091): 0.001*\"also\" + 0.001*\"abortion\" + 0.001*\"first\" + 0.001*\"american\" + 0.000*\"state\" + 0.000*\"many\" + 0.000*\"year\" + 0.000*\"time\" + 0.000*\"war\" + 0.000*\"person\"\n",
      "2019-11-12 10:28:54,540 : INFO : topic #2 (0.149): 0.005*\"also\" + 0.004*\"american\" + 0.004*\"state\" + 0.004*\"first\" + 0.003*\"year\" + 0.003*\"many\" + 0.003*\"time\" + 0.003*\"new\" + 0.003*\"war\" + 0.003*\"person\"\n",
      "2019-11-12 10:28:54,542 : INFO : topic #1 (0.190): 0.001*\"also\" + 0.001*\"state\" + 0.001*\"ammonia\" + 0.001*\"first\" + 0.000*\"many\" + 0.000*\"american\" + 0.000*\"war\" + 0.000*\"time\" + 0.000*\"year\" + 0.000*\"name\"\n",
      "2019-11-12 10:28:54,544 : INFO : topic #0 (0.262): 0.001*\"also\" + 0.000*\"first\" + 0.000*\"state\" + 0.000*\"american\" + 0.000*\"time\" + 0.000*\"book\" + 0.000*\"year\" + 0.000*\"many\" + 0.000*\"person\" + 0.000*\"new\"\n",
      "2019-11-12 10:28:54,546 : INFO : topic diff=0.123222, rho=0.117769\n",
      "2019-11-12 10:28:54,548 : INFO : PROGRESS: pass 9, dispatched chunk #0 = documents up to #100/100, outstanding queue size 1\n",
      "2019-11-12 10:28:55,055 : INFO : topic #6 (0.080): 0.005*\"also\" + 0.004*\"first\" + 0.003*\"time\" + 0.003*\"many\" + 0.003*\"state\" + 0.003*\"world\" + 0.003*\"american\" + 0.003*\"person\" + 0.003*\"apollo\" + 0.003*\"language\"\n",
      "2019-11-12 10:28:55,057 : INFO : topic #5 (0.091): 0.001*\"also\" + 0.001*\"abortion\" + 0.001*\"first\" + 0.001*\"american\" + 0.000*\"state\" + 0.000*\"many\" + 0.000*\"year\" + 0.000*\"time\" + 0.000*\"war\" + 0.000*\"person\"\n",
      "2019-11-12 10:28:55,059 : INFO : topic #2 (0.149): 0.005*\"also\" + 0.004*\"american\" + 0.004*\"state\" + 0.004*\"first\" + 0.003*\"year\" + 0.003*\"many\" + 0.003*\"time\" + 0.003*\"new\" + 0.003*\"war\" + 0.003*\"person\"\n",
      "2019-11-12 10:28:55,060 : INFO : topic #1 (0.190): 0.001*\"also\" + 0.001*\"state\" + 0.001*\"ammonia\" + 0.000*\"first\" + 0.000*\"many\" + 0.000*\"american\" + 0.000*\"war\" + 0.000*\"time\" + 0.000*\"year\" + 0.000*\"name\"\n",
      "2019-11-12 10:28:55,062 : INFO : topic #0 (0.262): 0.001*\"also\" + 0.000*\"first\" + 0.000*\"state\" + 0.000*\"american\" + 0.000*\"time\" + 0.000*\"book\" + 0.000*\"year\" + 0.000*\"many\" + 0.000*\"person\" + 0.000*\"new\"\n",
      "2019-11-12 10:28:55,064 : INFO : topic diff=0.127552, rho=0.116961\n",
      "2019-11-12 10:28:55,177 : INFO : saving LdaState object under lda_model.model.state, separately None\n",
      "2019-11-12 10:28:55,194 : INFO : saved lda_model.model.state\n",
      "2019-11-12 10:28:55,256 : INFO : saving LdaMulticore object under lda_model.model, separately ['expElogbeta', 'sstats']\n",
      "2019-11-12 10:28:55,257 : INFO : storing np array 'expElogbeta' to lda_model.model.expElogbeta.npy\n",
      "2019-11-12 10:28:55,262 : INFO : not storing attribute id2word\n",
      "2019-11-12 10:28:55,263 : INFO : not storing attribute dispatcher\n",
      "2019-11-12 10:28:55,263 : INFO : not storing attribute state\n",
      "2019-11-12 10:28:55,266 : INFO : saved lda_model.model\n",
      "2019-11-12 10:28:55,269 : INFO : topic #0 (0.262): 0.001*\"also\" + 0.000*\"first\" + 0.000*\"state\" + 0.000*\"american\" + 0.000*\"time\" + 0.000*\"book\" + 0.000*\"year\" + 0.000*\"many\" + 0.000*\"person\" + 0.000*\"new\"\n",
      "2019-11-12 10:28:55,271 : INFO : topic #1 (0.190): 0.001*\"also\" + 0.001*\"state\" + 0.001*\"ammonia\" + 0.000*\"first\" + 0.000*\"many\" + 0.000*\"american\" + 0.000*\"war\" + 0.000*\"time\" + 0.000*\"year\" + 0.000*\"name\"\n",
      "2019-11-12 10:28:55,272 : INFO : topic #2 (0.149): 0.005*\"also\" + 0.004*\"american\" + 0.004*\"state\" + 0.004*\"first\" + 0.003*\"year\" + 0.003*\"many\" + 0.003*\"time\" + 0.003*\"new\" + 0.003*\"war\" + 0.003*\"person\"\n",
      "2019-11-12 10:28:55,274 : INFO : topic #3 (0.123): 0.001*\"atheism\" + 0.001*\"also\" + 0.001*\"first\" + 0.000*\"american\" + 0.000*\"atheist\" + 0.000*\"god\" + 0.000*\"state\" + 0.000*\"many\" + 0.000*\"new\" + 0.000*\"year\"\n",
      "2019-11-12 10:28:55,276 : INFO : topic #4 (0.104): 0.001*\"state\" + 0.001*\"also\" + 0.001*\"many\" + 0.000*\"world\" + 0.000*\"agave\" + 0.000*\"time\" + 0.000*\"new\" + 0.000*\"war\" + 0.000*\"god\" + 0.000*\"person\"\n",
      "2019-11-12 10:28:55,278 : INFO : topic #5 (0.091): 0.001*\"also\" + 0.001*\"abortion\" + 0.001*\"first\" + 0.001*\"american\" + 0.000*\"state\" + 0.000*\"many\" + 0.000*\"year\" + 0.000*\"time\" + 0.000*\"war\" + 0.000*\"person\"\n",
      "2019-11-12 10:28:55,280 : INFO : topic #6 (0.080): 0.005*\"also\" + 0.004*\"first\" + 0.003*\"time\" + 0.003*\"many\" + 0.003*\"state\" + 0.003*\"world\" + 0.003*\"american\" + 0.003*\"person\" + 0.003*\"apollo\" + 0.003*\"language\"\n"
     ]
    },
    {
     "data": {
      "text/plain": [
       "[(0,\n",
       "  '0.001*\"also\" + 0.000*\"first\" + 0.000*\"state\" + 0.000*\"american\" + 0.000*\"time\" + 0.000*\"book\" + 0.000*\"year\" + 0.000*\"many\" + 0.000*\"person\" + 0.000*\"new\"'),\n",
       " (1,\n",
       "  '0.001*\"also\" + 0.001*\"state\" + 0.001*\"ammonia\" + 0.000*\"first\" + 0.000*\"many\" + 0.000*\"american\" + 0.000*\"war\" + 0.000*\"time\" + 0.000*\"year\" + 0.000*\"name\"'),\n",
       " (2,\n",
       "  '0.005*\"also\" + 0.004*\"american\" + 0.004*\"state\" + 0.004*\"first\" + 0.003*\"year\" + 0.003*\"many\" + 0.003*\"time\" + 0.003*\"new\" + 0.003*\"war\" + 0.003*\"person\"'),\n",
       " (3,\n",
       "  '0.001*\"atheism\" + 0.001*\"also\" + 0.001*\"first\" + 0.000*\"american\" + 0.000*\"atheist\" + 0.000*\"god\" + 0.000*\"state\" + 0.000*\"many\" + 0.000*\"new\" + 0.000*\"year\"'),\n",
       " (4,\n",
       "  '0.001*\"state\" + 0.001*\"also\" + 0.001*\"many\" + 0.000*\"world\" + 0.000*\"agave\" + 0.000*\"time\" + 0.000*\"new\" + 0.000*\"war\" + 0.000*\"god\" + 0.000*\"person\"'),\n",
       " (5,\n",
       "  '0.001*\"also\" + 0.001*\"abortion\" + 0.001*\"first\" + 0.001*\"american\" + 0.000*\"state\" + 0.000*\"many\" + 0.000*\"year\" + 0.000*\"time\" + 0.000*\"war\" + 0.000*\"person\"'),\n",
       " (6,\n",
       "  '0.005*\"also\" + 0.004*\"first\" + 0.003*\"time\" + 0.003*\"many\" + 0.003*\"state\" + 0.003*\"world\" + 0.003*\"american\" + 0.003*\"person\" + 0.003*\"apollo\" + 0.003*\"language\"')]"
      ]
     },
     "execution_count": 20,
     "metadata": {},
     "output_type": "execute_result"
    }
   ],
   "source": [
    "# Step 4: Train the LDA model\n",
    "lda_model = LdaMulticore(corpus=corpus,\n",
    "                         id2word=dct,\n",
    "                         random_state=100,\n",
    "                         num_topics=7,\n",
    "                         passes=10,\n",
    "                         chunksize=1000,\n",
    "                         batch=False,\n",
    "                         alpha='asymmetric',\n",
    "                         decay=0.5,\n",
    "                         offset=64,\n",
    "                         eta=None,\n",
    "                         eval_every=0,\n",
    "                         iterations=100,\n",
    "                         gamma_threshold=0.001,\n",
    "                         per_word_topics=True)\n",
    "\n",
    "# save the model\n",
    "lda_model.save('lda_model.model')\n",
    "\n",
    "# See the topics\n",
    "lda_model.print_topics(-1)"
   ]
  },
  {
   "cell_type": "markdown",
   "metadata": {},
   "source": [
    "The lda_model.print_topics shows what words contributed to which of the 7 topics, along with the weightage of the word’s contribution to that topic.\n",
    "\n",
    "You can see the words like ‘also’, ‘many’ coming across different topics. So I would add such words to the stop_words list to remove them and further tune to topic model for optimal number of topics.\n",
    "\n",
    "LdaMulticore() supports parallel processing. Alternately you could also try and see what topics the LdaModel() gives."
   ]
  },
  {
   "cell_type": "markdown",
   "metadata": {},
   "source": [
    "## 12. How to interpret the LDA Topic Model’s output?"
   ]
  },
  {
   "cell_type": "markdown",
   "metadata": {},
   "source": [
    "The lda_model object supports indexing. That is, if you pass a document (list of words) to the lda_model, it provides 3 things:\n",
    "\n",
    "The topic(s) that document belongs to along with percentage.\n",
    "The topic(s) each word in that document belongs to.\n",
    "The topic(s) each word in that document belongs to AND the phi values.\n",
    "So, what is phi value?\n",
    "\n",
    "Phi value is the probability of the word belonging to that particular topic. And the sum of phi values for a given word adds up to the number of times that word occurred in that document.\n",
    "\n",
    "For example, in below output for the 0th document, the word with id=0 belongs to topic number 6 and the phi value is 3.999. That means, the word with id=0 appeared 4 times in the 0th document."
   ]
  },
  {
   "cell_type": "code",
   "execution_count": null,
   "metadata": {},
   "outputs": [],
   "source": [
    "# Reference: https://github.com/RaRe-Technologies/gensim/blob/develop/docs/notebooks/topic_methods.ipynb\n",
    "for c in lda_model[corpus[5:8]]:\n",
    "    print(\"Document Topics      : \", c[0])      # [(Topics, Perc Contrib)]\n",
    "    print(\"Word id, Topics      : \", c[1][:3])  # [(Word id, [Topics])]\n",
    "    print(\"Phi Values (word id) : \", c[2][:2])  # [(Word id, [(Topic, Phi Value)])]\n",
    "    print(\"Word, Topics         : \", [(dct[wd], topic) for wd, topic in c[1][:2]])   # [(Word, [Topics])]\n",
    "    print(\"Phi Values (word)    : \", [(dct[wd], topic) for wd, topic in c[2][:2]])  # [(Word, [(Topic, Phi Value)])]\n",
    "    print(\"------------------------------------------------------\\n\")\n",
    "\n",
    "#> Document Topics      :  [(2, 0.96124125), (6, 0.038569752)]\n",
    "#> Word id, Topics      :  [(0, [2, 6]), (7, [2, 6]), (10, [2, 6])]\n",
    "#> Phi Values (word id) :  [(0, [(2, 2.887749), (6, 0.112249866)]), (7, [(2, 0.90105206), (6, 0.09893738)])]\n",
    "#> Word, Topics         :  [('ability', [2, 6]), ('absurdity', [2, 6])]\n",
    "#> Phi Values (word)    :  [('ability', [(2, 2.887749), (6, 0.112249866)]), ('absurdity', [(2, 0.90105206), (6, 0.09893738)])]\n",
    "#> ------------------------------------------------------\n",
    "\n",
    "#> Document Topics      :  [(6, 0.9997751)]\n",
    "#> Word id, Topics      :  [(0, [6]), (10, [6]), (16, [6])]\n",
    "#> Phi Values (word id) :  [(0, [(6, 5.9999967)]), (10, [(6, 2.9999983)])]\n",
    "#> Word, Topics         :  [('ability', [6]), ('academic', [6])]\n",
    "#> Phi Values (word)    :  [('ability', [(6, 5.9999967)]), ('academic', [(6, 2.9999983)])]\n",
    "#> ------------------------------------------------------\n",
    "\n",
    "#> Document Topics      :  [(6, 0.9998023)]\n",
    "#> Word id, Topics      :  [(1, [6]), (10, [6]), (15, [6])]\n",
    "#> Phi Values (word id) :  [(1, [(6, 0.99999917)]), (10, [(6, 5.999997)])]\n",
    "#> Word, Topics         :  [('able', [6]), ('academic', [6])]\n",
    "#> Phi Values (word)    :  [('able', [(6, 0.99999917)]), ('academic', [(6, 5.999997)])]\n",
    "#> ------------------------------------------------------"
   ]
  },
  {
   "cell_type": "markdown",
   "metadata": {},
   "source": [
    "## 13. How to create a LSI topic model using gensim?"
   ]
  },
  {
   "cell_type": "code",
   "execution_count": 21,
   "metadata": {},
   "outputs": [
    {
     "name": "stderr",
     "output_type": "stream",
     "text": [
      "2019-11-12 10:33:46,711 : INFO : using serial LSI version on this node\n",
      "2019-11-12 10:33:46,713 : INFO : updating model with new documents\n",
      "2019-11-12 10:33:46,713 : INFO : preparing a new chunk of documents\n",
      "2019-11-12 10:33:46,748 : INFO : using 100 extra samples and 2 power iterations\n",
      "2019-11-12 10:33:46,749 : INFO : 1st phase: constructing (40074, 107) action matrix\n",
      "2019-11-12 10:33:46,791 : INFO : orthonormalizing (40074, 107) action matrix\n",
      "2019-11-12 10:33:47,455 : INFO : 2nd phase: running dense svd on (107, 100) matrix\n",
      "2019-11-12 10:33:47,506 : INFO : computing the final decomposition\n",
      "2019-11-12 10:33:47,508 : INFO : keeping 7 factors (discarding 62.871% of energy spectrum)\n",
      "2019-11-12 10:33:47,524 : INFO : processed documents up to #100\n",
      "2019-11-12 10:33:47,528 : INFO : topic #0(973.794): 0.262*\"also\" + 0.197*\"state\" + 0.197*\"american\" + 0.178*\"first\" + 0.151*\"many\" + 0.149*\"time\" + 0.147*\"year\" + 0.130*\"person\" + 0.130*\"world\" + 0.124*\"war\"\n",
      "2019-11-12 10:33:47,530 : INFO : topic #1(572.318): 0.937*\"agave\" + 0.164*\"asia\" + 0.100*\"aruba\" + 0.063*\"plant\" + 0.053*\"var\" + 0.052*\"state\" + 0.045*\"east\" + 0.044*\"congress\" + -0.042*\"first\" + 0.041*\"maguey\"\n",
      "2019-11-12 10:33:47,533 : INFO : topic #2(401.785): -0.507*\"american\" + -0.180*\"football\" + -0.179*\"player\" + -0.168*\"war\" + -0.150*\"british\" + 0.140*\"also\" + -0.114*\"ball\" + -0.110*\"day\" + 0.107*\"atheism\" + 0.106*\"god\"\n",
      "2019-11-12 10:33:47,535 : INFO : topic #3(334.148): 0.362*\"apollo\" + -0.248*\"lincoln\" + -0.211*\"state\" + 0.172*\"player\" + 0.151*\"football\" + -0.127*\"union\" + 0.125*\"ball\" + -0.124*\"government\" + 0.116*\"moon\" + -0.116*\"jews\"\n",
      "2019-11-12 10:33:47,537 : INFO : topic #4(322.189): 0.363*\"atheism\" + 0.334*\"god\" + 0.329*\"lincoln\" + 0.230*\"apollo\" + 0.215*\"atheist\" + 0.143*\"abraham\" + -0.136*\"island\" + 0.132*\"aristotle\" + -0.124*\"aluminium\" + 0.119*\"belief\"\n",
      "2019-11-12 10:33:47,539 : INFO : topic #0(973.794): 0.262*\"also\" + 0.197*\"state\" + 0.197*\"american\" + 0.178*\"first\" + 0.151*\"many\" + 0.149*\"time\" + 0.147*\"year\" + 0.130*\"person\" + 0.130*\"world\" + 0.124*\"war\"\n",
      "2019-11-12 10:33:47,541 : INFO : topic #1(572.318): 0.937*\"agave\" + 0.164*\"asia\" + 0.100*\"aruba\" + 0.063*\"plant\" + 0.053*\"var\" + 0.052*\"state\" + 0.045*\"east\" + 0.044*\"congress\" + -0.042*\"first\" + 0.041*\"maguey\"\n",
      "2019-11-12 10:33:47,542 : INFO : topic #2(401.785): -0.507*\"american\" + -0.180*\"football\" + -0.179*\"player\" + -0.168*\"war\" + -0.150*\"british\" + 0.140*\"also\" + -0.114*\"ball\" + -0.110*\"day\" + 0.107*\"atheism\" + 0.106*\"god\"\n",
      "2019-11-12 10:33:47,544 : INFO : topic #3(334.148): 0.362*\"apollo\" + -0.248*\"lincoln\" + -0.211*\"state\" + 0.172*\"player\" + 0.151*\"football\" + -0.127*\"union\" + 0.125*\"ball\" + -0.124*\"government\" + 0.116*\"moon\" + -0.116*\"jews\"\n",
      "2019-11-12 10:33:47,546 : INFO : topic #4(322.189): 0.363*\"atheism\" + 0.334*\"god\" + 0.329*\"lincoln\" + 0.230*\"apollo\" + 0.215*\"atheist\" + 0.143*\"abraham\" + -0.136*\"island\" + 0.132*\"aristotle\" + -0.124*\"aluminium\" + 0.119*\"belief\"\n",
      "2019-11-12 10:33:47,548 : INFO : topic #5(315.315): 0.360*\"apollo\" + -0.344*\"atheism\" + 0.326*\"lincoln\" + -0.226*\"god\" + -0.205*\"atheist\" + -0.139*\"american\" + 0.130*\"lunar\" + -0.128*\"football\" + 0.125*\"moon\" + -0.114*\"belief\"\n",
      "2019-11-12 10:33:47,550 : INFO : topic #6(312.092): 0.313*\"lincoln\" + -0.226*\"apollo\" + 0.166*\"football\" + 0.163*\"war\" + -0.162*\"god\" + -0.153*\"australia\" + 0.148*\"play\" + 0.146*\"ball\" + -0.122*\"atheism\" + 0.122*\"line\"\n"
     ]
    },
    {
     "name": "stdout",
     "output_type": "stream",
     "text": [
      "[(0,\n",
      "  '0.262*\"also\" + 0.197*\"state\" + 0.197*\"american\" + 0.178*\"first\" + '\n",
      "  '0.151*\"many\" + 0.149*\"time\" + 0.147*\"year\" + 0.130*\"person\" + 0.130*\"world\" '\n",
      "  '+ 0.124*\"war\"'),\n",
      " (1,\n",
      "  '0.937*\"agave\" + 0.164*\"asia\" + 0.100*\"aruba\" + 0.063*\"plant\" + 0.053*\"var\" '\n",
      "  '+ 0.052*\"state\" + 0.045*\"east\" + 0.044*\"congress\" + -0.042*\"first\" + '\n",
      "  '0.041*\"maguey\"'),\n",
      " (2,\n",
      "  '-0.507*\"american\" + -0.180*\"football\" + -0.179*\"player\" + -0.168*\"war\" + '\n",
      "  '-0.150*\"british\" + 0.140*\"also\" + -0.114*\"ball\" + -0.110*\"day\" + '\n",
      "  '0.107*\"atheism\" + 0.106*\"god\"'),\n",
      " (3,\n",
      "  '0.362*\"apollo\" + -0.248*\"lincoln\" + -0.211*\"state\" + 0.172*\"player\" + '\n",
      "  '0.151*\"football\" + -0.127*\"union\" + 0.125*\"ball\" + -0.124*\"government\" + '\n",
      "  '0.116*\"moon\" + -0.116*\"jews\"'),\n",
      " (4,\n",
      "  '0.363*\"atheism\" + 0.334*\"god\" + 0.329*\"lincoln\" + 0.230*\"apollo\" + '\n",
      "  '0.215*\"atheist\" + 0.143*\"abraham\" + -0.136*\"island\" + 0.132*\"aristotle\" + '\n",
      "  '-0.124*\"aluminium\" + 0.119*\"belief\"'),\n",
      " (5,\n",
      "  '0.360*\"apollo\" + -0.344*\"atheism\" + 0.326*\"lincoln\" + -0.226*\"god\" + '\n",
      "  '-0.205*\"atheist\" + -0.139*\"american\" + 0.130*\"lunar\" + -0.128*\"football\" + '\n",
      "  '0.125*\"moon\" + -0.114*\"belief\"'),\n",
      " (6,\n",
      "  '0.313*\"lincoln\" + -0.226*\"apollo\" + 0.166*\"football\" + 0.163*\"war\" + '\n",
      "  '-0.162*\"god\" + -0.153*\"australia\" + 0.148*\"play\" + 0.146*\"ball\" + '\n",
      "  '-0.122*\"atheism\" + 0.122*\"line\"')]\n"
     ]
    }
   ],
   "source": [
    "from gensim.models import LsiModel\n",
    "\n",
    "# Build the LSI Model\n",
    "lsi_model = LsiModel(corpus=corpus, id2word=dct, num_topics=7, decay=0.5)\n",
    "\n",
    "# View Topics\n",
    "pprint(lsi_model.print_topics(-1))"
   ]
  },
  {
   "cell_type": "markdown",
   "metadata": {},
   "source": [
    "## 14. How to train Word2Vec model using gensim?"
   ]
  },
  {
   "cell_type": "markdown",
   "metadata": {},
   "source": [
    "A word embedding model is a model that can provide numerical vectors for a given word. Using the Gensim’s downloader API, you can download pre-built word embedding models like word2vec, fasttext, GloVe and ConceptNet. These are built on large corpuses of commonly occurring text data such as wikipedia, google news etc.\n",
    "\n",
    "However, if you are working in a specialized niche such as technical documents, you may not able to get word embeddings for all the words. So, in such cases its desirable to train your own model.\n",
    "\n",
    "Gensim’s Word2Vec implementation let’s you train your own word embedding model for a given corpus"
   ]
  },
  {
   "cell_type": "code",
   "execution_count": 33,
   "metadata": {},
   "outputs": [],
   "source": [
    "from gensim.models.word2vec import Word2Vec\n",
    "from multiprocessing import cpu_count\n",
    "import gensim.downloader as api"
   ]
  },
  {
   "cell_type": "code",
   "execution_count": 34,
   "metadata": {},
   "outputs": [],
   "source": [
    "# Download dataset\n",
    "dataset = api.load(\"text8\")\n",
    "data = [d for d in dataset]"
   ]
  },
  {
   "cell_type": "code",
   "execution_count": 35,
   "metadata": {},
   "outputs": [],
   "source": [
    "# Split the data into 2 parts. Part 2 will be used later to update the model\n",
    "data_part1 = data[:1000]\n",
    "data_part2 = data[1000:]"
   ]
  },
  {
   "cell_type": "code",
   "execution_count": 36,
   "metadata": {},
   "outputs": [],
   "source": [
    "# Train Word2Vec model. Defaults result vector size = 100\n",
    "model = Word2Vec(data_part1, min_count = 0, workers=cpu_count())"
   ]
  },
  {
   "cell_type": "code",
   "execution_count": 37,
   "metadata": {},
   "outputs": [
    {
     "name": "stderr",
     "output_type": "stream",
     "text": [
      "C:\\Users\\kiselgof\\AppData\\Local\\Continuum\\anaconda3\\lib\\site-packages\\ipykernel_launcher.py:2: DeprecationWarning: Call to deprecated `__getitem__` (Method will be removed in 4.0.0, use self.wv.__getitem__() instead).\n",
      "  \n"
     ]
    },
    {
     "data": {
      "text/plain": [
       "array([-4.27686065e-01,  4.66710120e-01,  7.98740864e-01, -4.79239337e-02,\n",
       "       -2.44847015e-01, -6.25485778e-01, -6.68306351e-01, -1.28664768e+00,\n",
       "        3.88884783e-01, -1.12690043e+00, -1.05502933e-01, -6.34094357e-01,\n",
       "       -1.16273947e-03, -3.92038196e-01, -1.47223949e+00, -3.53690237e-01,\n",
       "       -1.25110698e+00,  7.00361729e-01, -2.00973213e-01,  5.81444144e-01,\n",
       "       -3.07558894e-01, -1.48395285e-01, -7.56829858e-01,  4.89700623e-02,\n",
       "       -7.03266561e-01,  1.39444396e-01,  1.51736066e-01,  2.29729176e-01,\n",
       "       -8.66924584e-01, -2.63187259e-01,  2.61028618e-01,  1.10645378e+00,\n",
       "        4.85127717e-01,  2.35181868e-01, -3.38073432e-01, -2.12831900e-01,\n",
       "       -2.29578391e-01, -1.30433530e-01,  5.57800412e-01,  8.14397275e-01,\n",
       "        1.98294386e-01, -1.82460293e-01, -2.10709035e-01,  9.95506883e-01,\n",
       "       -9.26746607e-01,  1.21398902e+00,  2.01963022e-01, -4.60809737e-01,\n",
       "       -1.55758893e+00, -3.83762047e-02,  1.95163596e+00,  7.21027136e-01,\n",
       "       -2.61241883e-01, -6.69382662e-02, -1.02483654e+00,  3.87435675e-01,\n",
       "        8.44791591e-01, -3.65129560e-01, -4.99187827e-01,  7.51563907e-01,\n",
       "       -1.11518586e+00, -9.52048361e-01, -6.17769420e-01, -5.26939154e-01,\n",
       "       -6.44841909e-01, -4.04542498e-02,  3.01466882e-01, -9.65135813e-01,\n",
       "       -8.64130199e-01,  3.11823487e-01, -4.30780500e-01,  3.00504684e-01,\n",
       "        9.47344184e-01, -5.49654961e-01,  2.68766135e-01,  3.39715689e-01,\n",
       "        6.43197596e-01, -1.32897151e+00, -5.57576656e-01, -2.78142571e-01,\n",
       "       -1.45490026e+00, -2.61714935e-01, -5.94884336e-01, -1.13175809e+00,\n",
       "        8.52124393e-01, -2.32135147e-01, -5.21710277e-01, -1.01983762e+00,\n",
       "        6.91424087e-02,  3.85366321e-01,  1.12033986e-01,  5.42359874e-02,\n",
       "        1.49885535e-01,  5.98826587e-01, -8.32289875e-01, -1.04359329e+00,\n",
       "       -1.01247454e+00,  9.98995721e-01, -7.56562650e-01, -6.55807912e-01],\n",
       "      dtype=float32)"
      ]
     },
     "execution_count": 37,
     "metadata": {},
     "output_type": "execute_result"
    }
   ],
   "source": [
    "# Get the word vector for given word\n",
    "model['topic']\n",
    "#> array([ 0.0512,  0.2555,  0.9393, ... ,-0.5669,  0.6737], dtype=float32)"
   ]
  },
  {
   "cell_type": "code",
   "execution_count": 38,
   "metadata": {},
   "outputs": [
    {
     "name": "stderr",
     "output_type": "stream",
     "text": [
      "C:\\Users\\kiselgof\\AppData\\Local\\Continuum\\anaconda3\\lib\\site-packages\\ipykernel_launcher.py:1: DeprecationWarning: Call to deprecated `most_similar` (Method will be removed in 4.0.0, use self.wv.most_similar() instead).\n",
      "  \"\"\"Entry point for launching an IPython kernel.\n"
     ]
    },
    {
     "data": {
      "text/plain": [
       "[('discussion', 0.7638168334960938),\n",
       " ('interpretation', 0.758408784866333),\n",
       " ('explanation', 0.741090714931488),\n",
       " ('facts', 0.7296931743621826),\n",
       " ('speculation', 0.7257407903671265),\n",
       " ('consensus', 0.711347222328186),\n",
       " ('debate', 0.7075456976890564),\n",
       " ('viewpoint', 0.7045641541481018),\n",
       " ('notion', 0.7013946771621704),\n",
       " ('premise', 0.6970481276512146)]"
      ]
     },
     "execution_count": 38,
     "metadata": {},
     "output_type": "execute_result"
    }
   ],
   "source": [
    "model.most_similar('topic')\n",
    "#> [('discussion', 0.7590423822402954),\n",
    "#>  ('consensus', 0.7253159284591675),\n",
    "#>  ('discussions', 0.7252693176269531),\n",
    "#>  ('interpretation', 0.7196053266525269),\n",
    "#>  ('viewpoint', 0.7053568959236145),\n",
    "#>  ('speculation', 0.7021505832672119),\n",
    "#>  ('discourse', 0.7001898884773254),\n",
    "#>  ('opinions', 0.6993060111999512),\n",
    "#>  ('focus', 0.6959210634231567),\n",
    "#>  ('scholarly', 0.6884037256240845)]"
   ]
  },
  {
   "cell_type": "code",
   "execution_count": 39,
   "metadata": {},
   "outputs": [],
   "source": [
    "# Save and Load Model\n",
    "model.save('newmodel')\n",
    "model = Word2Vec.load('newmodel')"
   ]
  },
  {
   "cell_type": "markdown",
   "metadata": {},
   "source": [
    "We have trained and saved a Word2Vec model for our document. However, when a new dataset comes, you want to update the model so as to account for new words."
   ]
  },
  {
   "cell_type": "markdown",
   "metadata": {},
   "source": [
    "## 15. How to update an existing Word2Vec model with new data?"
   ]
  },
  {
   "cell_type": "markdown",
   "metadata": {},
   "source": [
    "On an existing Word2Vec model, call the build_vocab() on the new datset and then call the train() method. build_vocab() is called first because the model has to be apprised of what new words to expect in the incoming corpus.\n"
   ]
  },
  {
   "cell_type": "code",
   "execution_count": 21,
   "metadata": {},
   "outputs": [
    {
     "name": "stderr",
     "output_type": "stream",
     "text": [
      "2020-04-13 11:54:20,451 : INFO : collecting all words and their counts\n",
      "2020-04-13 11:54:20,452 : INFO : PROGRESS: at sentence #0, processed 0 words, keeping 0 word types\n",
      "2020-04-13 11:54:22,225 : INFO : collected 153347 word types from a corpus of 7005207 raw words and 701 sentences\n",
      "2020-04-13 11:54:22,226 : INFO : Updating model with new vocabulary\n",
      "2020-04-13 11:54:22,508 : INFO : New added 153347 unique words (50% of original 306694) and increased the count of 153347 pre-existing words (50% of original 306694)\n",
      "2020-04-13 11:54:23,669 : INFO : deleting the raw counts dictionary of 153347 items\n",
      "2020-04-13 11:54:23,674 : INFO : sample=0.001 downsamples 72 most-common words\n",
      "2020-04-13 11:54:23,675 : INFO : downsampling leaves estimated 10509051 word corpus (150.0% of prior 7005207)\n",
      "2020-04-13 11:54:24,221 : INFO : estimated required memory for 306694 words and 100 dimensions: 398702200 bytes\n",
      "2020-04-13 11:54:24,222 : INFO : updating layer weights\n",
      "C:\\Users\\kiselgof\\AppData\\Local\\Continuum\\anaconda3\\lib\\site-packages\\ipykernel_launcher.py:3: DeprecationWarning: Call to deprecated `iter` (Attribute will be removed in 4.0.0, use self.epochs instead).\n",
      "  This is separate from the ipykernel package so we can avoid doing imports until\n",
      "2020-04-13 11:54:36,709 : WARNING : Effective 'alpha' higher than previous training cycles\n",
      "2020-04-13 11:54:36,710 : INFO : training model with 4 workers on 253854 vocabulary and 100 features, using sg=0 hs=0 sample=0.001 negative=5 window=5\n",
      "2020-04-13 11:54:37,722 : INFO : EPOCH 1 - PROGRESS: at 19.40% examples, 1016500 words/s, in_qsize 7, out_qsize 0\n",
      "2020-04-13 11:54:38,725 : INFO : EPOCH 1 - PROGRESS: at 38.66% examples, 1016124 words/s, in_qsize 7, out_qsize 0\n",
      "2020-04-13 11:54:39,744 : INFO : EPOCH 1 - PROGRESS: at 55.35% examples, 959040 words/s, in_qsize 7, out_qsize 0\n",
      "2020-04-13 11:54:40,756 : INFO : EPOCH 1 - PROGRESS: at 71.33% examples, 927819 words/s, in_qsize 6, out_qsize 1\n",
      "2020-04-13 11:54:41,761 : INFO : EPOCH 1 - PROGRESS: at 86.59% examples, 901724 words/s, in_qsize 7, out_qsize 0\n",
      "2020-04-13 11:54:42,663 : INFO : worker thread finished; awaiting finish of 3 more threads\n",
      "2020-04-13 11:54:42,674 : INFO : worker thread finished; awaiting finish of 2 more threads\n",
      "2020-04-13 11:54:42,676 : INFO : worker thread finished; awaiting finish of 1 more threads\n",
      "2020-04-13 11:54:42,684 : INFO : worker thread finished; awaiting finish of 0 more threads\n",
      "2020-04-13 11:54:42,686 : INFO : EPOCH - 1 : training on 7005207 raw words (5254700 effective words) took 6.0s, 879852 effective words/s\n",
      "2020-04-13 11:54:43,694 : INFO : EPOCH 2 - PROGRESS: at 15.41% examples, 809734 words/s, in_qsize 7, out_qsize 0\n",
      "2020-04-13 11:54:44,696 : INFO : EPOCH 2 - PROGRESS: at 30.96% examples, 816479 words/s, in_qsize 8, out_qsize 0\n",
      "2020-04-13 11:54:45,698 : INFO : EPOCH 2 - PROGRESS: at 46.93% examples, 818849 words/s, in_qsize 7, out_qsize 0\n",
      "2020-04-13 11:54:46,708 : INFO : EPOCH 2 - PROGRESS: at 58.35% examples, 762188 words/s, in_qsize 8, out_qsize 2\n",
      "2020-04-13 11:54:47,712 : INFO : EPOCH 2 - PROGRESS: at 70.76% examples, 740693 words/s, in_qsize 7, out_qsize 0\n",
      "2020-04-13 11:54:48,729 : INFO : EPOCH 2 - PROGRESS: at 86.59% examples, 753653 words/s, in_qsize 8, out_qsize 1\n",
      "2020-04-13 11:54:49,547 : INFO : worker thread finished; awaiting finish of 3 more threads\n",
      "2020-04-13 11:54:49,555 : INFO : worker thread finished; awaiting finish of 2 more threads\n",
      "2020-04-13 11:54:49,560 : INFO : worker thread finished; awaiting finish of 1 more threads\n",
      "2020-04-13 11:54:49,573 : INFO : worker thread finished; awaiting finish of 0 more threads\n",
      "2020-04-13 11:54:49,575 : INFO : EPOCH - 2 : training on 7005207 raw words (5254247 effective words) took 6.9s, 763171 effective words/s\n",
      "2020-04-13 11:54:50,579 : INFO : EPOCH 3 - PROGRESS: at 15.12% examples, 797750 words/s, in_qsize 8, out_qsize 0\n",
      "2020-04-13 11:54:51,579 : INFO : EPOCH 3 - PROGRESS: at 30.81% examples, 814974 words/s, in_qsize 7, out_qsize 0\n",
      "2020-04-13 11:54:52,591 : INFO : EPOCH 3 - PROGRESS: at 46.65% examples, 812402 words/s, in_qsize 7, out_qsize 0\n",
      "2020-04-13 11:54:53,593 : INFO : EPOCH 3 - PROGRESS: at 61.91% examples, 810369 words/s, in_qsize 7, out_qsize 0\n",
      "2020-04-13 11:54:54,599 : INFO : EPOCH 3 - PROGRESS: at 77.46% examples, 811908 words/s, in_qsize 8, out_qsize 0\n",
      "2020-04-13 11:54:55,601 : INFO : EPOCH 3 - PROGRESS: at 93.44% examples, 815375 words/s, in_qsize 7, out_qsize 0\n",
      "2020-04-13 11:54:56,003 : INFO : worker thread finished; awaiting finish of 3 more threads\n",
      "2020-04-13 11:54:56,011 : INFO : worker thread finished; awaiting finish of 2 more threads\n",
      "2020-04-13 11:54:56,019 : INFO : worker thread finished; awaiting finish of 1 more threads\n",
      "2020-04-13 11:54:56,039 : INFO : worker thread finished; awaiting finish of 0 more threads\n",
      "2020-04-13 11:54:56,041 : INFO : EPOCH - 3 : training on 7005207 raw words (5254437 effective words) took 6.5s, 813043 effective words/s\n",
      "2020-04-13 11:54:57,052 : INFO : EPOCH 4 - PROGRESS: at 15.26% examples, 801817 words/s, in_qsize 7, out_qsize 0\n",
      "2020-04-13 11:54:58,058 : INFO : EPOCH 4 - PROGRESS: at 31.10% examples, 817767 words/s, in_qsize 7, out_qsize 0\n",
      "2020-04-13 11:54:59,062 : INFO : EPOCH 4 - PROGRESS: at 47.22% examples, 821755 words/s, in_qsize 8, out_qsize 0\n",
      "2020-04-13 11:55:00,081 : INFO : EPOCH 4 - PROGRESS: at 62.91% examples, 819129 words/s, in_qsize 7, out_qsize 0\n",
      "2020-04-13 11:55:01,082 : INFO : EPOCH 4 - PROGRESS: at 78.60% examples, 821164 words/s, in_qsize 8, out_qsize 0\n",
      "2020-04-13 11:55:02,083 : INFO : EPOCH 4 - PROGRESS: at 92.44% examples, 804856 words/s, in_qsize 8, out_qsize 0\n",
      "2020-04-13 11:55:02,596 : INFO : worker thread finished; awaiting finish of 3 more threads\n",
      "2020-04-13 11:55:02,598 : INFO : worker thread finished; awaiting finish of 2 more threads\n",
      "2020-04-13 11:55:02,600 : INFO : worker thread finished; awaiting finish of 1 more threads\n",
      "2020-04-13 11:55:02,608 : INFO : worker thread finished; awaiting finish of 0 more threads\n",
      "2020-04-13 11:55:02,610 : INFO : EPOCH - 4 : training on 7005207 raw words (5253604 effective words) took 6.6s, 800475 effective words/s\n",
      "2020-04-13 11:55:03,635 : INFO : EPOCH 5 - PROGRESS: at 14.69% examples, 761101 words/s, in_qsize 7, out_qsize 0\n",
      "2020-04-13 11:55:04,638 : INFO : EPOCH 5 - PROGRESS: at 30.39% examples, 794852 words/s, in_qsize 7, out_qsize 0\n",
      "2020-04-13 11:55:05,647 : INFO : EPOCH 5 - PROGRESS: at 46.50% examples, 804934 words/s, in_qsize 7, out_qsize 0\n",
      "2020-04-13 11:55:06,649 : INFO : EPOCH 5 - PROGRESS: at 62.20% examples, 809960 words/s, in_qsize 7, out_qsize 0\n",
      "2020-04-13 11:55:07,657 : INFO : EPOCH 5 - PROGRESS: at 77.89% examples, 812786 words/s, in_qsize 8, out_qsize 0\n",
      "2020-04-13 11:55:08,658 : INFO : EPOCH 5 - PROGRESS: at 93.44% examples, 812738 words/s, in_qsize 7, out_qsize 0\n",
      "2020-04-13 11:55:09,053 : INFO : worker thread finished; awaiting finish of 3 more threads\n",
      "2020-04-13 11:55:09,064 : INFO : worker thread finished; awaiting finish of 2 more threads\n",
      "2020-04-13 11:55:09,070 : INFO : worker thread finished; awaiting finish of 1 more threads\n",
      "2020-04-13 11:55:09,076 : INFO : worker thread finished; awaiting finish of 0 more threads\n",
      "2020-04-13 11:55:09,078 : INFO : EPOCH - 5 : training on 7005207 raw words (5254507 effective words) took 6.5s, 813111 effective words/s\n",
      "2020-04-13 11:55:09,080 : INFO : training on a 35026035 raw words (26271495 effective words) took 32.4s, 811625 effective words/s\n",
      "C:\\Users\\kiselgof\\AppData\\Local\\Continuum\\anaconda3\\lib\\site-packages\\ipykernel_launcher.py:4: DeprecationWarning: Call to deprecated `__getitem__` (Method will be removed in 4.0.0, use self.wv.__getitem__() instead).\n",
      "  after removing the cwd from sys.path.\n"
     ]
    },
    {
     "data": {
      "text/plain": [
       "array([-0.88150376, -0.14398707, -0.28564858, -0.9891403 ,  0.81116074,\n",
       "        0.32200527, -0.24999668,  0.58173656,  0.02725367, -0.14557071,\n",
       "        0.4011717 ,  0.3126943 ,  1.3522577 , -0.1764011 ,  0.2989456 ,\n",
       "       -0.5057917 , -0.25814036,  0.3784752 , -0.50879544,  1.578752  ,\n",
       "       -1.0804054 ,  0.642035  , -0.0041557 , -0.16779278, -0.12151621,\n",
       "       -1.24311   ,  0.9140256 , -0.06902392, -1.0627854 , -1.7399358 ,\n",
       "       -0.5104757 , -1.6619053 ,  1.1735159 ,  1.2123379 ,  1.375951  ,\n",
       "       -0.2919345 , -1.2444627 , -0.37713185, -1.4670146 , -0.5360746 ,\n",
       "       -0.31307065,  0.22087708,  0.30996424,  1.2710524 ,  0.8907565 ,\n",
       "        0.06827357, -1.7249088 , -1.0765055 ,  0.34220797,  0.9280343 ,\n",
       "       -2.025619  , -0.74599195,  0.6124367 , -0.03400607,  0.50431764,\n",
       "       -0.38508362,  0.2701285 ,  0.5647657 , -0.3094654 ,  0.3735259 ,\n",
       "       -0.77292454, -0.41827148, -0.86693746,  0.22716627,  0.5473429 ,\n",
       "        1.9730297 , -0.06778929, -0.4741869 ,  0.08877787, -0.19639209,\n",
       "        1.1404059 ,  0.01712447, -0.1468203 ,  0.38246816, -0.83481914,\n",
       "        0.6615005 , -2.3774576 , -0.5588453 ,  2.0724556 , -1.3587744 ,\n",
       "       -0.8748193 , -1.1596109 , -0.24346204, -0.88123256, -1.061135  ,\n",
       "       -1.0065672 ,  0.05160404,  0.57050854, -0.03572241, -0.18173611,\n",
       "       -0.9022443 , -1.1022044 ,  2.0118866 ,  0.9653289 ,  0.41132447,\n",
       "       -2.493331  ,  0.53704095,  1.3153783 , -0.25206038,  1.0814295 ],\n",
       "      dtype=float32)"
      ]
     },
     "execution_count": 21,
     "metadata": {},
     "output_type": "execute_result"
    }
   ],
   "source": [
    "# Update the model with new data.\n",
    "model.build_vocab(data_part2, update=True)\n",
    "model.train(data_part2, total_examples=model.corpus_count, epochs=model.iter)\n",
    "model['topic']\n",
    "# array([-0.6482, -0.5468,  1.0688,  0.82  , ... , -0.8411,  0.3974], dtype=float32)"
   ]
  },
  {
   "cell_type": "markdown",
   "metadata": {},
   "source": [
    "## 16. How to extract word vectors using pre-trained Word2Vec and FastText models?"
   ]
  },
  {
   "cell_type": "markdown",
   "metadata": {},
   "source": [
    "We just saw how to get the word vectors for Word2Vec model we just trained. However, gensim lets you download state of the art pretrained models through the downloader API. Let’s see how to extract the word vectors from a couple of these models."
   ]
  },
  {
   "cell_type": "code",
   "execution_count": 22,
   "metadata": {},
   "outputs": [
    {
     "name": "stdout",
     "output_type": "stream",
     "text": [
      "[==================================================] 100.0% 958.5/958.4MB downloaded\n"
     ]
    },
    {
     "name": "stderr",
     "output_type": "stream",
     "text": [
      "2020-04-13 15:14:52,417 : INFO : fasttext-wiki-news-subwords-300 downloaded\n",
      "2020-04-13 15:14:52,446 : INFO : loading projection weights from C:\\Users\\kiselgof/gensim-data\\fasttext-wiki-news-subwords-300\\fasttext-wiki-news-subwords-300.gz\n",
      "2020-04-13 15:22:19,874 : INFO : loaded (999999, 300) matrix from C:\\Users\\kiselgof/gensim-data\\fasttext-wiki-news-subwords-300\\fasttext-wiki-news-subwords-300.gz\n"
     ]
    },
    {
     "name": "stdout",
     "output_type": "stream",
     "text": [
      "[==================================================] 100.0% 1662.8/1662.8MB downloaded\n"
     ]
    },
    {
     "name": "stderr",
     "output_type": "stream",
     "text": [
      "2020-04-13 15:27:56,725 : INFO : word2vec-google-news-300 downloaded\n",
      "2020-04-13 15:27:56,745 : INFO : loading projection weights from C:\\Users\\kiselgof/gensim-data\\word2vec-google-news-300\\word2vec-google-news-300.gz\n",
      "2020-04-13 15:30:15,688 : INFO : loaded (3000000, 300) matrix from C:\\Users\\kiselgof/gensim-data\\word2vec-google-news-300\\word2vec-google-news-300.gz\n"
     ]
    },
    {
     "name": "stdout",
     "output_type": "stream",
     "text": [
      "[==================================================] 100.0% 376.1/376.1MB downloaded\n"
     ]
    },
    {
     "name": "stderr",
     "output_type": "stream",
     "text": [
      "2020-04-13 15:31:21,104 : INFO : glove-wiki-gigaword-300 downloaded\n",
      "2020-04-13 15:31:21,124 : INFO : loading projection weights from C:\\Users\\kiselgof/gensim-data\\glove-wiki-gigaword-300\\glove-wiki-gigaword-300.gz\n",
      "2020-04-13 15:33:50,710 : INFO : loaded (400000, 300) matrix from C:\\Users\\kiselgof/gensim-data\\glove-wiki-gigaword-300\\glove-wiki-gigaword-300.gz\n"
     ]
    }
   ],
   "source": [
    "import gensim.downloader as api\n",
    "\n",
    "# Download the models\n",
    "fasttext_model300 = api.load('fasttext-wiki-news-subwords-300')\n",
    "word2vec_model300 = api.load('word2vec-google-news-300')\n",
    "glove_model300 = api.load('glove-wiki-gigaword-300')"
   ]
  },
  {
   "cell_type": "code",
   "execution_count": 23,
   "metadata": {},
   "outputs": [
    {
     "name": "stderr",
     "output_type": "stream",
     "text": [
      "2020-04-13 15:34:05,614 : INFO : precomputing L2-norms of word weight vectors\n"
     ]
    },
    {
     "data": {
      "text/plain": [
       "[('supporting', 0.6251285076141357),\n",
       " ('suport', 0.6071149706840515),\n",
       " ('suppport', 0.6053199768066406),\n",
       " ('Support', 0.6044272780418396),\n",
       " ('supported', 0.6009396314620972),\n",
       " ('backing', 0.6007589101791382),\n",
       " ('supports', 0.5269277691841125),\n",
       " ('assistance', 0.520713746547699),\n",
       " ('sup_port', 0.5192489624023438),\n",
       " ('supportive', 0.5110025405883789)]"
      ]
     },
     "execution_count": 23,
     "metadata": {},
     "output_type": "execute_result"
    }
   ],
   "source": [
    "# Get word embeddings\n",
    "word2vec_model300.most_similar('support')\n",
    "# [('supporting', 0.6251285076141357),\n",
    "#  ...\n",
    "#  ('backing', 0.6007589101791382),\n",
    "#  ('supports', 0.5269277691841125),\n",
    "#  ('assistance', 0.520713746547699),\n",
    "#  ('supportive', 0.5110025405883789)]"
   ]
  },
  {
   "cell_type": "markdown",
   "metadata": {},
   "source": [
    "We have 3 different embedding models. You can evaluate which one performs better using the respective model’s evaluate_word_analogies() on a standard analogies dataset."
   ]
  },
  {
   "cell_type": "code",
   "execution_count": null,
   "metadata": {},
   "outputs": [],
   "source": [
    "# Word2ec_accuracy\n",
    "word2vec_model300.evaluate_word_analogies(analogies=\"questions-words.txt\")[0]\n",
    "#> 0.7401448525607863\n",
    "\n",
    "# fasttext_accuracy\n",
    "fasttext_model300.evaluate_word_analogies(analogies=\"questions-words.txt\")[0]\n",
    "#> 0.8827876424099353\n",
    "\n",
    "# GloVe accuracy\n",
    "glove_model300.evaluate_word_analogies(analogies=\"questions-words.txt\")[0]\n",
    "#> 0.7195422354510931"
   ]
  },
  {
   "cell_type": "markdown",
   "metadata": {},
   "source": [
    "## 17. How to create document vectors using Doc2Vec?"
   ]
  },
  {
   "cell_type": "markdown",
   "metadata": {},
   "source": [
    "Unlike Word2Vec, a Doc2Vec model provides a vectorised representation of a group of words taken collectively as a single unit. It is not a simple average of the word vectors of the words in the sentence.\n",
    "\n",
    "Let’s use the text8 dataset to train the Doc2Vec."
   ]
  },
  {
   "cell_type": "code",
   "execution_count": null,
   "metadata": {},
   "outputs": [],
   "source": [
    "import gensim\n",
    "import gensim.downloader as api\n",
    "\n",
    "# Download dataset\n",
    "dataset = api.load(\"text8\")\n",
    "data = [d for d in dataset]"
   ]
  },
  {
   "cell_type": "code",
   "execution_count": null,
   "metadata": {},
   "outputs": [],
   "source": []
  },
  {
   "cell_type": "code",
   "execution_count": null,
   "metadata": {},
   "outputs": [],
   "source": []
  },
  {
   "cell_type": "code",
   "execution_count": null,
   "metadata": {},
   "outputs": [],
   "source": []
  },
  {
   "cell_type": "code",
   "execution_count": null,
   "metadata": {},
   "outputs": [],
   "source": []
  },
  {
   "cell_type": "code",
   "execution_count": null,
   "metadata": {},
   "outputs": [],
   "source": []
  },
  {
   "cell_type": "code",
   "execution_count": null,
   "metadata": {},
   "outputs": [],
   "source": []
  },
  {
   "cell_type": "code",
   "execution_count": null,
   "metadata": {},
   "outputs": [],
   "source": []
  }
 ],
 "metadata": {
  "kernelspec": {
   "display_name": "Python 3",
   "language": "python",
   "name": "python3"
  },
  "language_info": {
   "codemirror_mode": {
    "name": "ipython",
    "version": 3
   },
   "file_extension": ".py",
   "mimetype": "text/x-python",
   "name": "python",
   "nbconvert_exporter": "python",
   "pygments_lexer": "ipython3",
   "version": "3.7.3"
  },
  "toc": {
   "base_numbering": 1,
   "nav_menu": {},
   "number_sections": false,
   "sideBar": true,
   "skip_h1_title": false,
   "title_cell": "Table of Contents",
   "title_sidebar": "Contents",
   "toc_cell": false,
   "toc_position": {
    "height": "calc(100% - 180px)",
    "left": "10px",
    "top": "150px",
    "width": "384px"
   },
   "toc_section_display": true,
   "toc_window_display": true
  },
  "varInspector": {
   "cols": {
    "lenName": 16,
    "lenType": 16,
    "lenVar": 40
   },
   "kernels_config": {
    "python": {
     "delete_cmd_postfix": "",
     "delete_cmd_prefix": "del ",
     "library": "var_list.py",
     "varRefreshCmd": "print(var_dic_list())"
    },
    "r": {
     "delete_cmd_postfix": ") ",
     "delete_cmd_prefix": "rm(",
     "library": "var_list.r",
     "varRefreshCmd": "cat(var_dic_list()) "
    }
   },
   "position": {
    "height": "821px",
    "left": "1515px",
    "right": "20px",
    "top": "120px",
    "width": "393px"
   },
   "types_to_exclude": [
    "module",
    "function",
    "builtin_function_or_method",
    "instance",
    "_Feature"
   ],
   "window_display": true
  }
 },
 "nbformat": 4,
 "nbformat_minor": 2
}
